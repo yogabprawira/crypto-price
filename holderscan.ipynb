{
 "cells": [
  {
   "cell_type": "code",
   "id": "initial_id",
   "metadata": {
    "collapsed": true
   },
   "source": [
    "import pandas as pd\n",
    "import requests\n",
    "from dotenv import load_dotenv\n",
    "import os\n",
    "from datetime import datetime\n",
    "import sqlite3\n",
    "import time"
   ],
   "outputs": [],
   "execution_count": null
  },
  {
   "metadata": {},
   "cell_type": "code",
   "source": "print(sqlite3.sqlite_version)",
   "id": "12ff3db8f6b33702",
   "outputs": [],
   "execution_count": null
  },
  {
   "metadata": {},
   "cell_type": "code",
   "source": [
    "load_dotenv(override=True)\n",
    "api_key = os.getenv(\"HOLDERSCAN_API_KEY\")\n",
    "print(api_key)"
   ],
   "id": "6861c7deb3199d3c",
   "outputs": [],
   "execution_count": null
  },
  {
   "metadata": {},
   "cell_type": "code",
   "source": [
    "def get_time_stamp():\n",
    "    return datetime.now().strftime('%Y%m%d%H%M%S')"
   ],
   "id": "b95021fcd2038683",
   "outputs": [],
   "execution_count": null
  },
  {
   "metadata": {},
   "cell_type": "code",
   "source": [
    "# directory = 'holderscan-' + get_time_stamp()\n",
    "# os.makedirs(directory, exist_ok=True)"
   ],
   "id": "57e42b6f8934ba8c",
   "outputs": [],
   "execution_count": null
  },
  {
   "metadata": {},
   "cell_type": "code",
   "source": [
    "base_url = 'https://api.holderscan.com/v0'\n",
    "headers = {'x-api-key' : api_key}\n",
    "batch_size = 100\n",
    "\n",
    "# in seconds\n",
    "request_delay = 0.25"
   ],
   "id": "a1c1bb5b2cb839eb",
   "outputs": [],
   "execution_count": null
  },
  {
   "metadata": {},
   "cell_type": "code",
   "source": [
    "def get_holder_breakdown(ca) :\n",
    "    response = requests.get(base_url + '/sol/tokens/' + ca + '/holders/breakdowns', headers=headers)\n",
    "    time.sleep(request_delay)\n",
    "    return response.json()"
   ],
   "id": "4a7d8d7deb5361cd",
   "outputs": [],
   "execution_count": null
  },
  {
   "metadata": {},
   "cell_type": "code",
   "source": [
    "def get_tokens(offset) :\n",
    "    request_url = base_url + '/sol/tokens?limit=' + str(batch_size) + '&offset=' + str(offset)\n",
    "    print(request_url)\n",
    "    response = requests.get(request_url, headers=headers)\n",
    "    time.sleep(request_delay)\n",
    "    if response.status_code != 200 :\n",
    "        print(response.status_code)\n",
    "        print(response.json())\n",
    "        return []\n",
    "    return response.json()['tokens']"
   ],
   "id": "916b35f1c78fcb5",
   "outputs": [],
   "execution_count": null
  },
  {
   "metadata": {},
   "cell_type": "code",
   "source": [
    "def get_df_tokens(offset) :\n",
    "    tokens = get_tokens(offset)\n",
    "    if len(tokens) > 0 :\n",
    "        df = pd.DataFrame(tokens)\n",
    "        df['supply'] = df['supply'].astype(str)\n",
    "        return df\n",
    "    else :\n",
    "        return pd.DataFrame()"
   ],
   "id": "4f18deaa861879c8",
   "outputs": [],
   "execution_count": null
  },
  {
   "metadata": {},
   "cell_type": "code",
   "source": [
    "def get_tokens_total() :\n",
    "    response = requests.get(base_url + '/sol/tokens', headers=headers)\n",
    "    time.sleep(request_delay)\n",
    "    if response.status_code == 200 :\n",
    "        return response.json()['total']\n",
    "    else :\n",
    "        return 0"
   ],
   "id": "24df3e7b35441911",
   "outputs": [],
   "execution_count": null
  },
  {
   "metadata": {},
   "cell_type": "code",
   "source": [
    "db_name = 'holderscan-' + get_time_stamp() + '.db'\n",
    "\n",
    "conn_db = sqlite3.connect(db_name)\n",
    "\n",
    "tokens_total = get_tokens_total()\n",
    "print('Total tokens: ' + str(tokens_total))\n",
    "\n",
    "for offset_token in range(0, tokens_total, batch_size) :\n",
    "    df_tokens = get_df_tokens(offset_token)\n",
    "    if not df_tokens.empty :\n",
    "        df_tokens.to_sql('tokens', conn_db, if_exists='append', index=False)\n",
    "\n",
    "conn_db.close()"
   ],
   "id": "7222fc189a9528b4",
   "outputs": [],
   "execution_count": null
  },
  {
   "metadata": {},
   "cell_type": "code",
   "source": [
    "# ca_example = '7GCihgDB8fe6KNjn2MYtkzZcRjQy3t9GHdC8uHYmW2hr'\n",
    "# holder_breakdown = get_holder_breakdown(ca_example)\n",
    "# print(holder_breakdown)\n"
   ],
   "id": "b7401c208f101d85",
   "outputs": [],
   "execution_count": null
  }
 ],
 "metadata": {
  "kernelspec": {
   "display_name": "Python 3",
   "language": "python",
   "name": "python3"
  },
  "language_info": {
   "codemirror_mode": {
    "name": "ipython",
    "version": 2
   },
   "file_extension": ".py",
   "mimetype": "text/x-python",
   "name": "python",
   "nbconvert_exporter": "python",
   "pygments_lexer": "ipython2",
   "version": "2.7.6"
  }
 },
 "nbformat": 4,
 "nbformat_minor": 5
}
