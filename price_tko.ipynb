{
 "cells": [
  {
   "metadata": {
    "ExecuteTime": {
     "end_time": "2025-04-08T14:03:14.550294Z",
     "start_time": "2025-04-08T14:03:14.546737Z"
    }
   },
   "cell_type": "code",
   "source": [
    "import requests\n",
    "import pandas as pd\n",
    "import matplotlib.pyplot as plt\n",
    "from datetime import datetime\n",
    "import talib as ta"
   ],
   "id": "2f27c9a9fb639d44",
   "outputs": [],
   "execution_count": 52
  },
  {
   "metadata": {
    "ExecuteTime": {
     "end_time": "2025-04-08T14:03:14.566237Z",
     "start_time": "2025-04-08T14:03:14.562381Z"
    }
   },
   "cell_type": "code",
   "source": [
    "def get_pairs() :\n",
    "    return requests.get('https://www.tokocrypto.com/open/v1/common/symbols').json()"
   ],
   "id": "5ce1b31e5105831f",
   "outputs": [],
   "execution_count": 53
  },
  {
   "metadata": {
    "ExecuteTime": {
     "end_time": "2025-04-08T14:03:14.594284Z",
     "start_time": "2025-04-08T14:03:14.586495Z"
    }
   },
   "cell_type": "code",
   "source": [
    "def get_ticker(symbol, interval) :\n",
    "    return requests.get('https://api.binance.com/api/v1/klines?symbol=' + symbol + '&interval=' + interval + '&limit=1000').json()"
   ],
   "id": "989628536a803bc7",
   "outputs": [],
   "execution_count": 54
  },
  {
   "metadata": {
    "ExecuteTime": {
     "end_time": "2025-04-08T14:03:14.621611Z",
     "start_time": "2025-04-08T14:03:14.617248Z"
    }
   },
   "cell_type": "code",
   "source": [
    "# pairs = get_pairs()\n",
    "# symbols = [item['symbol'] for item in pairs['data']['list'] if 'symbol' in item and item['symbol'].endswith('USDT') and item['symbol'] != 'BTC_USDT' and item['type'] == 3]\n",
    "# print(symbols)"
   ],
   "id": "6adda8a163f8f28e",
   "outputs": [],
   "execution_count": 55
  },
  {
   "metadata": {
    "ExecuteTime": {
     "end_time": "2025-04-08T14:03:15.488498Z",
     "start_time": "2025-04-08T14:03:14.645143Z"
    }
   },
   "cell_type": "code",
   "source": [
    "pairs = get_pairs()\n",
    "symbols = [item['symbol'] for item in pairs['data']['list'] if 'symbol' in item and item['symbol'].endswith('USDT') and item['symbol'] != 'BTC_USDT' and item['type'] == 1]\n",
    "print(symbols)"
   ],
   "id": "bc11cacf2b46ec88",
   "outputs": [
    {
     "name": "stdout",
     "output_type": "stream",
     "text": [
      "['1000SATS_USDT', '1INCH_USDT', '1MBABYDOGE_USDT', 'AAVE_USDT', 'ACA_USDT', 'ACE_USDT', 'ACH_USDT', 'ACM_USDT', 'ACT_USDT', 'ACX_USDT', 'ADA_USDT', 'ADX_USDT', 'AEUR_USDT', 'AEVO_USDT', 'AGLD_USDT', 'AI_USDT', 'ALCX_USDT', 'ALGO_USDT', 'ALICE_USDT', 'ALPACA_USDT', 'ALPHA_USDT', 'ALPINE_USDT', 'ALT_USDT', 'AMP_USDT', 'ANKR_USDT', 'APE_USDT', 'API3_USDT', 'APT_USDT', 'ARB_USDT', 'ARDR_USDT', 'ARKM_USDT', 'ARK_USDT', 'ARPA_USDT', 'AR_USDT', 'ASR_USDT', 'ASTR_USDT', 'ATA_USDT', 'ATM_USDT', 'ATOM_USDT', 'AUCTION_USDT', 'AUDIO_USDT', 'AVAX_USDT', 'AVA_USDT', 'AXL_USDT', 'AXS_USDT', 'BADGER_USDT', 'BAKE_USDT', 'BAL_USDT', 'BANANA_USDT', 'BAND_USDT', 'BAR_USDT', 'BAT_USDT', 'BB_USDT', 'BCH_USDT', 'BEAMX_USDT', 'BEL_USDT', 'BETA_USDT', 'BICO_USDT', 'BIFI_USDT', 'BLUR_USDT', 'BNB_USDT', 'BNT_USDT', 'BOME_USDT', 'BONK_USDT', 'BSW_USDT', 'BTTC_USDT', 'C98_USDT', 'CAKE_USDT', 'CATI_USDT', 'CELO_USDT', 'CELR_USDT', 'CETUS_USDT', 'CFX_USDT', 'CGPT_USDT', 'CHESS_USDT', 'CHR_USDT', 'CHZ_USDT', 'CITY_USDT', 'CKB_USDT', 'COMP_USDT', 'COOKIE_USDT', 'COS_USDT', 'COTI_USDT', 'COW_USDT', 'CREAM_USDT', 'CRV_USDT', 'CTK_USDT', 'CTSI_USDT', 'CTXC_USDT', 'CVC_USDT', 'CVX_USDT', 'CYBER_USDT', 'DATA_USDT', 'DCR_USDT', 'DEGO_USDT', 'DENT_USDT', 'DEXE_USDT', 'DF_USDT', 'DGB_USDT', 'DIA_USDT', 'DODO_USDT', 'DOGE_USDT', 'DOGS_USDT', 'DOT_USDT', 'DUSK_USDT', 'DYDX_USDT', 'DYM_USDT', 'D_USDT', 'EDU_USDT', 'EGLD_USDT', 'EIGEN_USDT', 'ELF_USDT', 'ENA_USDT', 'ENJ_USDT', 'ENS_USDT', 'EOS_USDT', 'EPIC_USDT', 'ETC_USDT', 'ETHFI_USDT', 'ETH_USDT', 'EURI_USDT', 'FARM_USDT', 'FDUSD_USDT', 'FET_USDT', 'FIDA_USDT', 'FIL_USDT', 'FIO_USDT', 'FIRO_USDT', 'FIS_USDT', 'FLM_USDT', 'FLOKI_USDT', 'FLOW_USDT', 'FLUX_USDT', 'FORM_USDT', 'FORTH_USDT', 'FUN_USDT', 'FXS_USDT', 'GALA_USDT', 'GAS_USDT', 'GHST_USDT', 'GLMR_USDT', 'GLM_USDT', 'GMT_USDT', 'GMX_USDT', 'GNO_USDT', 'GNS_USDT', 'GRT_USDT', 'GTC_USDT', 'G_USDT', 'HARD_USDT', 'HBAR_USDT', 'HEI_USDT', 'HFT_USDT', 'HIFI_USDT', 'HIGH_USDT', 'HIVE_USDT', 'HMSTR_USDT', 'HOOK_USDT', 'HOT_USDT', 'ICP_USDT', 'ICX_USDT', 'IDEX_USDT', 'ID_USDT', 'ILV_USDT', 'IMX_USDT', 'INJ_USDT', 'IOST_USDT', 'IOTA_USDT', 'IOTX_USDT', 'IO_USDT', 'IQ_USDT', 'JASMY_USDT', 'JOE_USDT', 'JST_USDT', 'JTO_USDT', 'JUP_USDT', 'JUV_USDT', 'KAIA_USDT', 'KAVA_USDT', 'KDA_USDT', 'KMD_USDT', 'KNC_USDT', 'KSM_USDT', 'LAZIO_USDT', 'LDO_USDT', 'LEVER_USDT', 'LINK_USDT', 'LISTA_USDT', 'LOKA_USDT', 'LPT_USDT', 'LQTY_USDT', 'LRC_USDT', 'LSK_USDT', 'LTC_USDT', 'LTO_USDT', 'LUMIA_USDT', 'LUNA_USDT', 'LUNC_USDT', 'MAGIC_USDT', 'MANA_USDT', 'MANTA_USDT', 'MASK_USDT', 'MAV_USDT', 'MBL_USDT', 'MBOX_USDT', 'MDT_USDT', 'MEME_USDT', 'METIS_USDT', 'ME_USDT', 'MINA_USDT', 'MKR_USDT', 'MLN_USDT', 'MOVE_USDT', 'MOVR_USDT', 'MTL_USDT', 'NEAR_USDT', 'NEIRO_USDT', 'NEO_USDT', 'NEXO_USDT', 'NFP_USDT', 'NKN_USDT', 'NMR_USDT', 'NOT_USDT', 'NTRN_USDT', 'NULS_USDT', 'OGN_USDT', 'OG_USDT', 'OMNI_USDT', 'OM_USDT', 'ONE_USDT', 'ONG_USDT', 'ONT_USDT', 'OP_USDT', 'ORCA_USDT', 'ORDI_USDT', 'OSMO_USDT', 'OXT_USDT', 'PAXG_USDT', 'PDA_USDT', 'PENDLE_USDT', 'PEOPLE_USDT', 'PEPE_USDT', 'PERP_USDT', 'PHA_USDT', 'PHB_USDT', 'PIVX_USDT', 'PIXEL_USDT', 'PNUT_USDT', 'POLYX_USDT', 'POL_USDT', 'POND_USDT', 'PORTAL_USDT', 'PORTO_USDT', 'POWR_USDT', 'PROM_USDT', 'PROS_USDT', 'PSG_USDT', 'PYR_USDT', 'PYTH_USDT', 'QI_USDT', 'QKC_USDT', 'QNT_USDT', 'QTUM_USDT', 'QUICK_USDT', 'RAD_USDT', 'RARE_USDT', 'RAY_USDT', 'RDNT_USDT', 'REI_USDT', 'RENDER_USDT', 'REQ_USDT', 'REZ_USDT', 'RIF_USDT', 'RLC_USDT', 'RONIN_USDT', 'ROSE_USDT', 'RPL_USDT', 'RSR_USDT', 'RUNE_USDT', 'RVN_USDT', 'SAGA_USDT', 'SAND_USDT', 'SANTOS_USDT', 'SCRT_USDT', 'SCR_USDT', 'SC_USDT', 'SEI_USDT', 'SFP_USDT', 'SHIB_USDT', 'SKL_USDT', 'SLF_USDT', 'SLP_USDT', 'SNX_USDT', 'SOL_USDT', 'SPELL_USDT', 'SSV_USDT', 'STG_USDT', 'STORJ_USDT', 'STPT_USDT', 'STRAX_USDT', 'STRK_USDT', 'STX_USDT', 'SUI_USDT', 'SUN_USDT', 'SUPER_USDT', 'SUSHI_USDT', 'SXP_USDT', 'SYN_USDT', 'SYS_USDT', 'S_USDT', 'TAO_USDT', 'TFUEL_USDT', 'THETA_USDT', 'THE_USDT', 'TIA_USDT', 'TKO_USDT', 'TLM_USDT', 'TNSR_USDT', 'TON_USDT', 'TRB_USDT', 'TROY_USDT', 'TRU_USDT', 'TRX_USDT', 'TURBO_USDT', 'TUSD_USDT', 'TWT_USDT', 'T_USDT', 'UFT_USDT', 'UMA_USDT', 'UNI_USDT', 'USDC_USDT', 'USDP_USDT', 'USTC_USDT', 'UTK_USDT', 'VANRY_USDT', 'VELODROME_USDT', 'VET_USDT', 'VIB_USDT', 'VIC_USDT', 'VIDT_USDT', 'VOXEL_USDT', 'VTHO_USDT', 'WAN_USDT', 'WAXP_USDT', 'WIF_USDT', 'WING_USDT', 'WIN_USDT', 'WLD_USDT', 'WOO_USDT', 'W_USDT', 'XAI_USDT', 'XEC_USDT', 'XLM_USDT', 'XNO_USDT', 'XRP_USDT', 'XTZ_USDT', 'XVG_USDT', 'XVS_USDT', 'YFI_USDT', 'YGG_USDT', 'ZIL_USDT', 'ZRX_USDT']\n"
     ]
    }
   ],
   "execution_count": 56
  },
  {
   "metadata": {
    "ExecuteTime": {
     "end_time": "2025-04-08T14:03:15.523031Z",
     "start_time": "2025-04-08T14:03:15.518201Z"
    }
   },
   "cell_type": "code",
   "source": [
    "# pairs = get_pairs()\n",
    "# symbols = [item['symbol'] for item in pairs['data']['list'] if 'symbol' in item and item['symbol'].endswith('IDR') and item['symbol'] != 'BTC_IDR']\n",
    "# print(symbols)"
   ],
   "id": "e0b6e23e2e597938",
   "outputs": [],
   "execution_count": 57
  },
  {
   "metadata": {
    "ExecuteTime": {
     "end_time": "2025-04-08T14:16:12.230228Z",
     "start_time": "2025-04-08T14:16:12.221773Z"
    }
   },
   "cell_type": "code",
   "source": [
    "def get_df_from_ticker(ticker_name, interval) :\n",
    "    ticker = get_ticker(ticker_name + 'USDT', interval)\n",
    "    df_1 = pd.DataFrame(ticker, columns=[\n",
    "    'Open time',\n",
    "    'Open',\n",
    "    'High',\n",
    "    'Low',\n",
    "    'Close',\n",
    "    'Volume',\n",
    "    'Close time',\n",
    "    'Quote asset volume',\n",
    "    'Number of trades',\n",
    "    'Taker buy base asset volume',\n",
    "    'Taker buy quote asset volume',\n",
    "    'Ignore'])\n",
    "    df_1['Date'] = pd.to_datetime(df_1['Close time'], unit='ms')\n",
    "    df_1['Open'] = pd.to_numeric(df_1['Open'], errors='coerce')\n",
    "    df_1['Close'] = pd.to_numeric(df_1['Close'], errors='coerce')\n",
    "    df_1['High'] = pd.to_numeric(df_1['High'], errors='coerce')\n",
    "    df_1['Low'] = pd.to_numeric(df_1['Low'], errors='coerce')\n",
    "    df_1['Volume'] = pd.to_numeric(df_1['Volume'], errors='coerce')\n",
    "    df_1 = df_1.sort_values(by='Date')\n",
    "    return df_1"
   ],
   "id": "b20e794ef7a9258b",
   "outputs": [],
   "execution_count": 78
  },
  {
   "metadata": {
    "ExecuteTime": {
     "end_time": "2025-04-08T14:16:15.514120Z",
     "start_time": "2025-04-08T14:16:14.955165Z"
    }
   },
   "cell_type": "code",
   "source": "dfBtcUsdt = get_df_from_ticker('BTC', '1d')",
   "id": "f3316b9486a7f245",
   "outputs": [],
   "execution_count": 79
  },
  {
   "metadata": {
    "ExecuteTime": {
     "end_time": "2025-04-08T14:37:14.090522Z",
     "start_time": "2025-04-08T14:37:14.085014Z"
    }
   },
   "cell_type": "code",
   "source": [
    "def get_history_btc_pair(tickername, df_coin_usdt, df_btc_usdt) :\n",
    "    ticker_name_low = tickername.lower()\n",
    "    df_merged = pd.merge(df_coin_usdt, df_btc_usdt, on='Date', suffixes=('_' + ticker_name_low, '_btc'))\n",
    "    df_merged['Open_' + ticker_name_low +'_btc'] = df_merged['Open_' + ticker_name_low] / df_merged['Open_btc']\n",
    "    df_merged['High_' + ticker_name_low +'_btc'] = df_merged['High_' + ticker_name_low] / df_merged['High_btc']\n",
    "    df_merged['Low_' + ticker_name_low + '_btc'] = df_merged['Low_' + ticker_name_low] / df_merged['Low_btc']\n",
    "    df_merged['Close_'+ ticker_name_low +'_btc'] = df_merged['Close_' + ticker_name_low] / df_merged['Close_btc']\n",
    "    df_merged['Volume_'+ ticker_name_low +'_btc'] = df_merged['Volume_' + ticker_name_low]\n",
    "\n",
    "    df_final = df_merged[['Date', 'Open_' + ticker_name_low +'_btc', 'High_' + ticker_name_low +'_btc', 'Low_' + ticker_name_low + '_btc', 'Close_' + ticker_name_low +'_btc', 'Volume_' + ticker_name_low +'_btc']].copy()\n",
    "    df_final.rename(columns={\n",
    "        'Open_' + ticker_name_low +'_btc': 'Open',\n",
    "        'High_' + ticker_name_low +'_btc': 'High',\n",
    "        'Low_' + ticker_name_low + '_btc': 'Low',\n",
    "        'Close_' + ticker_name_low +'_btc': 'Close',\n",
    "        'Volume_' + ticker_name_low +'_btc': 'Volume'\n",
    "    }, inplace=True)\n",
    "\n",
    "    df_final['RSI_14'] = ta.RSI(df_final['Close'], timeperiod=14)\n",
    "\n",
    "    # df_final['OBV'] = ta.OBV(df_final['Close'], df_final['Volume'])\n",
    "\n",
    "    slowk, slowd = ta.STOCH(df_final['High'], df_final['Low'], df_final['Close'],\n",
    "                           fastk_period=5,\n",
    "                           slowk_period=3,\n",
    "                           slowd_period=3)\n",
    "    df_final['Stoch_%K'] = slowk\n",
    "    df_final['Stoch_%D'] = slowd\n",
    "\n",
    "    min_time_period = min(len(df_merged['Close_' + ticker_name_low])-1, 90)\n",
    "    df_final['Beta'] = ta.BETA(df_merged['Close_' + ticker_name_low], df_merged['Close_btc'], timeperiod=min_time_period)\n",
    "    df_final['Correl'] = ta.CORREL(df_merged['Close_' + ticker_name_low], df_merged['Close_btc'], timeperiod=min_time_period)\n",
    "\n",
    "    df_final['Change1D'] = df_final['Close'].pct_change() * 100\n",
    "    df_final['Change7D'] = df_final['Close'].pct_change(periods=7) * 100\n",
    "    df_final['Change30D'] = df_final['Close'].pct_change(periods=30) * 100\n",
    "\n",
    "    # df_final['EMA_13'] = df_final['Close'].ewm(span=13, adjust=False).mean()\n",
    "    # df_final['EMA_21'] = df_final['Close'].ewm(span=21, adjust=False).mean()\n",
    "\n",
    "    return df_final"
   ],
   "id": "20a43d88cf146f00",
   "outputs": [],
   "execution_count": 99
  },
  {
   "metadata": {
    "ExecuteTime": {
     "end_time": "2025-04-08T14:37:11.733452Z",
     "start_time": "2025-04-08T14:37:11.725858Z"
    }
   },
   "cell_type": "code",
   "source": [
    "def show_chart(df, tickername) :\n",
    "    time_now = datetime.now().strftime('%d-%m-%Y %H:%M:%S')\n",
    "\n",
    "    # Membuat figure dan dua subplot yang berbagi sumbu x\n",
    "    # fig, (ax1, ax2, ax3, ax4) = plt.subplots(nrows=4, ncols=1, sharex=True, figsize=(14, 10))\n",
    "    fig, (ax1, ax2, ax3) = plt.subplots(nrows=3, ncols=1, sharex=True, figsize=(14, 10))\n",
    "\n",
    "    # Pergerakan Harga\n",
    "    ax1.plot(df['Date'], df['Close'], label=f'{tickername}/BTC', color='blue')\n",
    "    # ax1.plot(df['Date'], df['EMA_13'], linewidth=0.5, label='EMA 13', color='yellow')\n",
    "    # ax1.plot(df['Date'], df['EMA_21'], linewidth=0.5, label='EMA 21', color='orange')\n",
    "    ax1.set_title(f'Pergerakan Harga {tickername} terhadap BTC')\n",
    "    ax1.set_ylabel('Harga (BTC)')\n",
    "    ax1.legend()\n",
    "    ax1.grid(True)\n",
    "    ax1.text(0.99, 1.05, time_now,\n",
    "         transform=ax1.transAxes,\n",
    "         fontsize=12, color='gray', alpha=0.7,\n",
    "         ha='right', va='bottom')\n",
    "    ax1.text(0.5, 0.5, 'Generated by Yoga',\n",
    "         transform=ax1.transAxes,\n",
    "         fontsize=20, color='gray', alpha=0.3,\n",
    "         ha='center', va='center', rotation=30)\n",
    "\n",
    "    # RSI\n",
    "    ax2.plot(df['Date'], df['RSI_14'], label=f'RSI {tickername}/BTC', color='orange')\n",
    "    ax2.axhline(70, linestyle='--', alpha=0.5, color='red')  # Garis overbought\n",
    "    ax2.axhline(30, linestyle='--', alpha=0.5, color='green')  # Garis oversold\n",
    "    ax2.set_title(f'Grafik RSI {tickername} terhadap BTC')\n",
    "    ax2.set_xlabel('Tanggal')\n",
    "    ax2.set_ylabel('RSI')\n",
    "    ax2.legend()\n",
    "    ax2.grid(True)\n",
    "    ax2.text(0.99, 1.05, time_now,\n",
    "         transform=ax2.transAxes,\n",
    "         fontsize=12, color='gray', alpha=0.7,\n",
    "         ha='right', va='bottom')\n",
    "    ax2.text(0.5, 0.5, 'Generated by Yoga',\n",
    "         transform=ax2.transAxes,\n",
    "         fontsize=20, color='gray', alpha=0.3,\n",
    "         ha='center', va='center', rotation=30)\n",
    "\n",
    "    # Stochastic\n",
    "    ax3.plot(df['Date'], df['Stoch_%K'], label='%K', color='blue')\n",
    "    ax3.plot(df['Date'], df['Stoch_%D'], label='%D', color='orange')\n",
    "    ax3.axhline(80, linestyle='--', alpha=0.5, color='red')  # Garis overbought\n",
    "    ax3.axhline(20, linestyle='--', alpha=0.5, color='green')  # Garis oversold\n",
    "    ax3.set_title(f'Grafik Stochastic {tickername} terhadap BTC')\n",
    "    ax3.set_xlabel('Tanggal')\n",
    "    ax3.set_ylabel('Nilai')\n",
    "    ax3.legend()\n",
    "    ax3.grid(True)\n",
    "    ax3.text(0.99, 1.05, time_now,\n",
    "         transform=ax3.transAxes,\n",
    "         fontsize=12, color='gray', alpha=0.7,\n",
    "         ha='right', va='bottom')\n",
    "    ax3.text(0.5, 0.5, 'Generated by Yoga',\n",
    "         transform=ax3.transAxes,\n",
    "         fontsize=20, color='gray', alpha=0.3,\n",
    "         ha='center', va='center', rotation=30)\n",
    "\n",
    "    # OBV\n",
    "    # ax4.plot(df['Date'], df['OBV'], label='OBV', color='blue')\n",
    "    # ax4.set_title(f'Grafik OBV {tickername}')\n",
    "    # ax4.set_xlabel('Tanggal')\n",
    "    # ax4.set_ylabel('Nilai')\n",
    "    # ax4.legend()\n",
    "    # ax4.grid(True)\n",
    "    # ax4.text(0.99, 1.05, time_now,\n",
    "    #      transform=ax4.transAxes,\n",
    "    #      fontsize=12, color='gray', alpha=0.7,\n",
    "    #      ha='right', va='bottom')\n",
    "    # ax4.text(0.5, 0.5, 'Generated by Yoga',\n",
    "    #      transform=ax4.transAxes,\n",
    "    #      fontsize=20, color='gray', alpha=0.3,\n",
    "    #      ha='center', va='center', rotation=30)\n",
    "\n",
    "    # Menyesuaikan tata letak agar tidak saling tumpang tindih\n",
    "    plt.tight_layout()\n",
    "    plt.show()"
   ],
   "id": "f80b6fcc8718be98",
   "outputs": [],
   "execution_count": 98
  },
  {
   "metadata": {
    "ExecuteTime": {
     "end_time": "2025-04-08T14:31:42.044984Z",
     "start_time": "2025-04-08T14:31:42.037948Z"
    }
   },
   "cell_type": "code",
   "source": [
    "def show_chart_rsi(df) :\n",
    "    plt.figure(figsize=(18, 6))\n",
    "    plt.scatter(df['Label'], df['RSI_14'], color='blue')\n",
    "    plt.axhline(70, linestyle='--', alpha=0.5, color='red', label='Overbought (70)')\n",
    "    plt.axhline(30, linestyle='--', alpha=0.5, color='green', label='Oversold (30)')\n",
    "    plt.title('Nilai RSI Pair BTC')\n",
    "    plt.xlabel('Ticker')\n",
    "    plt.ylabel('RSI')\n",
    "    plt.xticks(rotation=90)\n",
    "    plt.legend()\n",
    "    plt.grid(True)\n",
    "    plt.text(0.5, 0.5, 'Generated by Yoga',\n",
    "         transform=plt.gca().transAxes,\n",
    "         fontsize=40, color='gray', alpha=0.3,\n",
    "         ha='center', va='center', rotation=30)\n",
    "    plt.text(0.99, 1.05, datetime.now().strftime('%d-%m-%Y %H:%M:%S'),\n",
    "         transform=plt.gca().transAxes,\n",
    "         fontsize=12, color='gray', alpha=0.7,\n",
    "         ha='right', va='bottom')\n",
    "    plt.show()"
   ],
   "id": "f0890b5c90138fbd",
   "outputs": [],
   "execution_count": 92
  },
  {
   "metadata": {
    "ExecuteTime": {
     "end_time": "2025-04-08T14:31:44.185727Z",
     "start_time": "2025-04-08T14:31:44.177802Z"
    }
   },
   "cell_type": "code",
   "source": [
    "def show_chart_beta(df) :\n",
    "    plt.figure(figsize=(18, 6))\n",
    "    plt.scatter(df['Label'], df['Beta'], color='blue')\n",
    "    plt.axhline(0, linestyle='--', alpha=0.5, color='magenta', label='Beta = 0')\n",
    "    plt.axhline(1, linestyle='--', alpha=0.5, color='cyan', label='Beta = 1')\n",
    "    plt.title('Nilai Beta (Volatilitas Harga Token Terhadap BTC)')\n",
    "    plt.xlabel('Ticker')\n",
    "    plt.ylabel('Beta')\n",
    "    plt.xticks(rotation=90)\n",
    "    plt.legend()\n",
    "    plt.grid(True)\n",
    "    plt.text(0.5, 0.5, 'Generated by Yoga',\n",
    "         transform=plt.gca().transAxes,\n",
    "         fontsize=40, color='gray', alpha=0.3,\n",
    "         ha='center', va='center', rotation=30)\n",
    "    plt.text(0.99, 1.05, datetime.now().strftime('%d-%m-%Y %H:%M:%S'),\n",
    "         transform=plt.gca().transAxes,\n",
    "         fontsize=12, color='gray', alpha=0.7,\n",
    "         ha='right', va='bottom')\n",
    "    plt.show()"
   ],
   "id": "332e5a957a0eb118",
   "outputs": [],
   "execution_count": 93
  },
  {
   "metadata": {
    "ExecuteTime": {
     "end_time": "2025-04-08T14:31:46.435709Z",
     "start_time": "2025-04-08T14:31:46.428954Z"
    }
   },
   "cell_type": "code",
   "source": [
    "def show_chart_correl(df) :\n",
    "    plt.figure(figsize=(18, 6))\n",
    "    plt.scatter(df['Label'], df['Correl'], color='blue')\n",
    "    plt.axhline(0, linestyle='--', alpha=0.5, color='magenta', label='Correlation = 0')\n",
    "    plt.axhline(-1, linestyle='--', alpha=0.5, color='cyan', label='Correlation = -1')\n",
    "    plt.axhline(1, linestyle='--', alpha=0.5, color='cyan', label='Correlation = 1')\n",
    "    plt.title('Nilai Pearson Correlation Coefficient Terhadap BTC')\n",
    "    plt.xlabel('Ticker')\n",
    "    plt.ylabel('Correlation')\n",
    "    plt.xticks(rotation=90)\n",
    "    plt.legend()\n",
    "    plt.grid(True)\n",
    "    plt.text(0.5, 0.5, 'Generated by Yoga',\n",
    "         transform=plt.gca().transAxes,\n",
    "         fontsize=40, color='gray', alpha=0.3,\n",
    "         ha='center', va='center', rotation=30)\n",
    "    plt.text(0.99, 1.05, datetime.now().strftime('%d-%m-%Y %H:%M:%S'),\n",
    "         transform=plt.gca().transAxes,\n",
    "         fontsize=12, color='gray', alpha=0.7,\n",
    "         ha='right', va='bottom')\n",
    "    plt.show()"
   ],
   "id": "7f61516a6b53be18",
   "outputs": [],
   "execution_count": 94
  },
  {
   "metadata": {
    "ExecuteTime": {
     "end_time": "2025-04-08T14:48:16.609420Z",
     "start_time": "2025-04-08T14:48:16.604661Z"
    }
   },
   "cell_type": "code",
   "source": [
    "def show_chart_change(df, chart_title) :\n",
    "    plt.figure(figsize=(18, 6))\n",
    "    plt.scatter(df['Label'], df['Data'], color='blue')\n",
    "    plt.axhline(0, linestyle='--', alpha=0.5, color='gray', label='Change = 0%')\n",
    "    plt.title(chart_title)\n",
    "    plt.xlabel('Ticker')\n",
    "    plt.ylabel('Perubahan (%)')\n",
    "    plt.xticks(rotation=90)\n",
    "    plt.legend()\n",
    "    plt.grid(True)\n",
    "    plt.text(0.5, 0.5, 'Generated by Yoga',\n",
    "         transform=plt.gca().transAxes,\n",
    "         fontsize=40, color='gray', alpha=0.3,\n",
    "         ha='center', va='center', rotation=30)\n",
    "    plt.text(0.99, 1.05, datetime.now().strftime('%d-%m-%Y %H:%M:%S'),\n",
    "         transform=plt.gca().transAxes,\n",
    "         fontsize=12, color='gray', alpha=0.7,\n",
    "         ha='right', va='bottom')\n",
    "    plt.show()"
   ],
   "id": "b3bc7050c0f5a11e",
   "outputs": [],
   "execution_count": 114
  },
  {
   "metadata": {
    "ExecuteTime": {
     "end_time": "2025-04-08T14:48:18.722116Z",
     "start_time": "2025-04-08T14:48:18.714886Z"
    }
   },
   "cell_type": "code",
   "source": [
    "def show_multiple_chart(tickers, df_btc_usdt, show_individual_chart=False) :\n",
    "    rsi_list = []\n",
    "    beta_list = []\n",
    "    correl_list = []\n",
    "    latest_change_1d_list = []\n",
    "    latest_change_7d_list = []\n",
    "    latest_change_30d_list = []\n",
    "    tickers.sort()\n",
    "\n",
    "    for i, ticker in enumerate(tickers) :\n",
    "        will_show = False\n",
    "        description = ''\n",
    "        df_coin_idr_1 = get_df_from_ticker(ticker, '1d')\n",
    "        df_btc_pair = get_history_btc_pair(ticker, df_coin_idr_1, df_btc_usdt)\n",
    "        if show_individual_chart :\n",
    "            show_chart(df_btc_pair, ticker)\n",
    "\n",
    "        latest_rsi = df_btc_pair['RSI_14'].iloc[-1]\n",
    "        rsi_list.append({'Label': ticker, 'RSI_14': latest_rsi})\n",
    "\n",
    "        if latest_rsi < 30 :\n",
    "            will_show = True\n",
    "            description = 'Low RSI'\n",
    "        if latest_rsi > 70 :\n",
    "            will_show = True\n",
    "            description = 'High RSI'\n",
    "\n",
    "        latest_beta = df_btc_pair['Beta'].iloc[-1]\n",
    "        beta_list.append({'Label': ticker, 'Beta': latest_beta})\n",
    "\n",
    "        if latest_beta < 0 :\n",
    "            will_show = True\n",
    "            description = 'Negative Beta'\n",
    "\n",
    "        latest_correl = df_btc_pair['Correl'].iloc[-1]\n",
    "        correl_list.append({'Label': ticker, 'Correl': latest_correl})\n",
    "\n",
    "        if latest_correl < 0 :\n",
    "            will_show = True\n",
    "            description = 'Negative Correlation'\n",
    "\n",
    "        # if will_show and not show_individual_chart :\n",
    "            # print(description)\n",
    "            # show_chart(df_btc_pair, ticker)\n",
    "\n",
    "        latest_change_1d = df_btc_pair['Change1D'].iloc[-1]\n",
    "        latest_change_7d = df_btc_pair['Change7D'].iloc[-1]\n",
    "        latest_change_30d = df_btc_pair['Change30D'].iloc[-1]\n",
    "\n",
    "        if not pd.isna(latest_change_1d) :\n",
    "            latest_change_1d_list.append({'Label': ticker, 'Data': latest_change_1d})\n",
    "        if not pd.isna(latest_change_7d) :\n",
    "            latest_change_7d_list.append({'Label': ticker, 'Data': latest_change_7d})\n",
    "        if not pd.isna(latest_change_30d) :\n",
    "            latest_change_30d_list.append({'Label': ticker, 'Data': latest_change_30d})\n",
    "\n",
    "    rsi_list = sorted(rsi_list, key=lambda x: x['RSI_14'])\n",
    "    rsi_df = pd.DataFrame(rsi_list)\n",
    "    # show_chart_rsi(rsi_df)\n",
    "    # print('RSI')\n",
    "    # print(rsi_df)\n",
    "\n",
    "    beta_list = sorted(beta_list, key=lambda x: x['Beta'])\n",
    "    beta_df = pd.DataFrame(beta_list)\n",
    "    # show_chart_beta(beta_df)\n",
    "    # print('Beta')\n",
    "    # print(beta_df)\n",
    "\n",
    "    correl_list = sorted(correl_list, key=lambda x: x['Correl'])\n",
    "    corr_df = pd.DataFrame(correl_list)\n",
    "    # show_chart_correl(corr_df)\n",
    "    # print('Correlation')\n",
    "    # print(corr_df)\n",
    "\n",
    "    latest_change_1d_list = sorted(latest_change_1d_list, key=lambda x: x['Data'])\n",
    "    latest_change_1d_list_df = pd.DataFrame(latest_change_1d_list)\n",
    "    # show_chart_change(latest_change_1d_list_df, 'Perubahan 1 Hari Terhadap BTC')\n",
    "    # print(\"Change 1D\")\n",
    "    # print(latest_change_1d_list_df)\n",
    "\n",
    "    latest_change_7d_list = sorted(latest_change_7d_list, key=lambda x: x['Data'])\n",
    "    latest_change_7d_list_df = pd.DataFrame(latest_change_7d_list)\n",
    "    # show_chart_change(latest_change_7d_list_df, 'Perubahan 7 Hari Terhadap BTC')\n",
    "    # print(\"Change 7D\")\n",
    "    # print(latest_change_7d_list_df)\n",
    "\n",
    "    latest_change_30d_list = sorted(latest_change_30d_list, key=lambda x: x['Data'])\n",
    "    latest_change_30d_list_df = pd.DataFrame(latest_change_30d_list)\n",
    "    # show_chart_change(latest_change_30d_list_df, 'Perubahan 30 Hari Terhadap BTC')\n",
    "    # print(\"Change 30D\")\n",
    "    # print(latest_change_30d_list_df)\n",
    "\n",
    "    with pd.ExcelWriter('price.xlsx') as writer:\n",
    "        rsi_df.to_excel(writer, sheet_name='RSI', index=False)\n",
    "        beta_df.to_excel(writer, sheet_name='Beta', index=False)\n",
    "        corr_df.to_excel(writer, sheet_name='Correlation', index=False)\n",
    "        latest_change_1d_list_df.to_excel(writer, sheet_name='Change 1D', index=False)\n",
    "        latest_change_7d_list_df.to_excel(writer, sheet_name='Change 7D', index=False)\n",
    "        latest_change_30d_list_df.to_excel(writer, sheet_name='Change 30D', index=False)\n"
   ],
   "id": "83bd6e47bbd4647b",
   "outputs": [],
   "execution_count": 115
  },
  {
   "metadata": {
    "ExecuteTime": {
     "end_time": "2025-04-08T14:58:48.156999Z",
     "start_time": "2025-04-08T14:54:37.431848Z"
    }
   },
   "cell_type": "code",
   "source": [
    "tickers = [symbol.removesuffix('_USDT') for symbol in symbols]\n",
    "# print(tickers)\n",
    "\n",
    "show_multiple_chart(tickers, dfBtcUsdt, False)"
   ],
   "id": "852f7e1d673f3889",
   "outputs": [],
   "execution_count": 118
  }
 ],
 "metadata": {
  "kernelspec": {
   "display_name": "Python 3",
   "language": "python",
   "name": "python3"
  },
  "language_info": {
   "codemirror_mode": {
    "name": "ipython",
    "version": 2
   },
   "file_extension": ".py",
   "mimetype": "text/x-python",
   "name": "python",
   "nbconvert_exporter": "python",
   "pygments_lexer": "ipython2",
   "version": "2.7.6"
  }
 },
 "nbformat": 4,
 "nbformat_minor": 5
}
