{
 "cells": [
  {
   "cell_type": "code",
   "execution_count": null,
   "id": "initial_id",
   "metadata": {},
   "outputs": [],
   "source": [
    "import requests\n",
    "import pandas as pd\n",
    "import matplotlib.pyplot as plt\n",
    "from datetime import datetime, timedelta\n",
    "import time\n",
    "import talib as ta"
   ]
  },
  {
   "cell_type": "code",
   "execution_count": null,
   "id": "b3bba175e068d031",
   "metadata": {},
   "outputs": [],
   "source": [
    "url = 'https://indodax.com'"
   ]
  },
  {
   "cell_type": "code",
   "execution_count": null,
   "id": "84a1afc1134ab00e",
   "metadata": {},
   "outputs": [],
   "source": [
    "def get_pairs() :\n",
    "    return requests.get(url + '/api/pairs').json()"
   ]
  },
  {
   "cell_type": "code",
   "execution_count": null,
   "id": "81428f08b08f923",
   "metadata": {},
   "outputs": [],
   "source": [
    "def get_ticker(pairid, timeframe, timefrom, timeto) :\n",
    "    return requests.get(url + '/tradingview/history_v2?from=' + str(timefrom) + '&symbol=' + pairid +'&tf=' + timeframe + '&to=' + str(timeto)).json()"
   ]
  },
  {
   "cell_type": "code",
   "execution_count": null,
   "id": "8eb1407229e34912",
   "metadata": {},
   "outputs": [],
   "source": [
    "def show_chart(df, tickername) :\n",
    "    # Membuat figure dan dua subplot yang berbagi sumbu x\n",
    "    fig, (ax1, ax2, ax3) = plt.subplots(nrows=3, ncols=1, sharex=True, figsize=(14, 10))\n",
    "\n",
    "    # Plot pertama: Pergerakan Harga\n",
    "    ax1.plot(df['Date'], df['Close'], label=f'{tickername}/BTC', color='blue')\n",
    "    ax1.set_title(f'Pergerakan Harga {tickername} terhadap BTC')\n",
    "    ax1.set_ylabel('Harga (BTC)')\n",
    "    ax1.legend()\n",
    "    ax1.grid(True)\n",
    "\n",
    "    # Plot kedua: RSI\n",
    "    ax2.plot(df['Date'], df['RSI_14'], label=f'RSI {tickername}/BTC', color='orange')\n",
    "    ax2.axhline(70, linestyle='--', alpha=0.5, color='red')  # Garis overbought\n",
    "    ax2.axhline(30, linestyle='--', alpha=0.5, color='green')  # Garis oversold\n",
    "    ax2.set_title(f'Grafik RSI {tickername} terhadap BTC')\n",
    "    ax2.set_xlabel('Tanggal')\n",
    "    ax2.set_ylabel('RSI')\n",
    "    ax2.legend()\n",
    "    ax2.grid(True)\n",
    "\n",
    "    ax3.plot(df['Date'], df['Stoch_%K'], label='%K', color='blue')\n",
    "    ax3.plot(df['Date'], df['Stoch_%D'], label='%D', color='orange')\n",
    "    ax3.axhline(80, linestyle='--', alpha=0.5, color='red')  # Garis overbought\n",
    "    ax3.axhline(20, linestyle='--', alpha=0.5, color='green')  # Garis oversold\n",
    "    ax3.set_title(f'Grafik Stochastic {tickername} terhadap BTC')\n",
    "    ax3.set_xlabel('Tanggal')\n",
    "    ax3.set_ylabel('Nilai')\n",
    "    ax3.legend()\n",
    "    ax3.grid(True)\n",
    "\n",
    "    # Menyesuaikan tata letak agar tidak saling tumpang tindih\n",
    "    plt.tight_layout()\n",
    "    plt.show()"
   ]
  },
  {
   "cell_type": "code",
   "execution_count": null,
   "id": "36666c6507b8d937",
   "metadata": {},
   "outputs": [],
   "source": [
    "def get_history_btc_pair(tickername, timeframe, timefrom, timeto, dfbtcidr) :\n",
    "    ticker_name_low = tickername.lower()\n",
    "    ticker_name = get_ticker(tickername + 'IDR', timeframe, timefrom, timeto)\n",
    "    df = pd.DataFrame(ticker_name)\n",
    "    df['Date'] = pd.to_datetime(df['Time'], unit='s')\n",
    "    df = df.sort_values(by='Date')\n",
    "\n",
    "    df_merged = pd.merge(df, dfbtcidr, on='Date', suffixes=('_'+ticker_name_low, '_btc'))\n",
    "    df_merged['Open_' + ticker_name_low +'_btc'] = df_merged['Open_' + ticker_name_low] / df_merged['Open_btc']\n",
    "    df_merged['High_' + ticker_name_low +'_btc'] = df_merged['High_' + ticker_name_low] / df_merged['High_btc']\n",
    "    df_merged['Low_' + ticker_name_low + '_btc'] = df_merged['Low_' + ticker_name_low] / df_merged['Low_btc']\n",
    "    df_merged['Close_'+ ticker_name_low +'_btc'] = df_merged['Close_' + ticker_name_low] / df_merged['Close_btc']\n",
    "\n",
    "    df_final = df_merged[['Date', 'Open_' + ticker_name_low +'_btc', 'High_' + ticker_name_low +'_btc', 'Low_' + ticker_name_low + '_btc', 'Close_' + ticker_name_low +'_btc']].copy()\n",
    "    df_final.rename(columns={\n",
    "        'Open_' + ticker_name_low +'_btc': 'Open',\n",
    "        'High_' + ticker_name_low +'_btc': 'High',\n",
    "        'Low_' + ticker_name_low + '_btc': 'Low',\n",
    "        'Close_' + ticker_name_low +'_btc': 'Close'\n",
    "    }, inplace=True)\n",
    "\n",
    "    df_final['RSI_14'] = ta.RSI(df_final['Close'], timeperiod=14)\n",
    "\n",
    "    slowk, slowd = ta.STOCH(df['High'], df['Low'], df['Close'],\n",
    "                           fastk_period=5,\n",
    "                           slowk_period=3,\n",
    "                           slowd_period=3)\n",
    "    df_final['Stoch_%K'] = slowk\n",
    "    df_final['Stoch_%D'] = slowd\n",
    "\n",
    "    return df_final"
   ]
  },
  {
   "cell_type": "code",
   "execution_count": null,
   "id": "a952e1b472c48d63",
   "metadata": {},
   "outputs": [],
   "source": [
    "pairs = get_pairs()\n",
    "symbols = [item['symbol'] for item in pairs if 'symbol' in item and item['symbol'].endswith('IDR') and item['symbol'] != 'BTCIDR']\n",
    "print(symbols)"
   ]
  },
  {
   "cell_type": "code",
   "execution_count": null,
   "id": "47ee5aeb4e4ef2f9",
   "metadata": {},
   "outputs": [],
   "source": [
    "now = datetime.now()\n",
    "past = now - timedelta(days=5*365)\n",
    "timeFrom = int(time.mktime(past.timetuple()))\n",
    "timeTo = int(time.mktime(now.timetuple()))\n",
    "tf = '1D'"
   ]
  },
  {
   "cell_type": "code",
   "execution_count": null,
   "id": "f4d5c3d45c3fa948",
   "metadata": {},
   "outputs": [],
   "source": [
    "btcIdr = get_ticker('BTCIDR', tf, timeFrom, timeTo)\n",
    "dfBtcIdr = pd.DataFrame(btcIdr)\n",
    "dfBtcIdr['Date'] = pd.to_datetime(dfBtcIdr['Time'], unit='s')\n",
    "dfBtcIdr = dfBtcIdr.sort_values(by='Date')"
   ]
  },
  {
   "cell_type": "code",
   "execution_count": null,
   "id": "acc4dc8c7de5c020",
   "metadata": {},
   "outputs": [],
   "source": [
    "def show_chart_rsi(df) :\n",
    "    plt.figure(figsize=(10, 6))\n",
    "    plt.scatter(df['Label'], df['RSI_14'], color='blue')\n",
    "    plt.axhline(70, linestyle='--', alpha=0.5, color='red', label='Overbought (70)')\n",
    "    plt.axhline(30, linestyle='--', alpha=0.5, color='green', label='Oversold (30)')\n",
    "    plt.title('Nilai RSI Terbaru')\n",
    "    plt.xlabel('Ticker')\n",
    "    plt.ylabel('RSI')\n",
    "    plt.xticks(rotation=90)\n",
    "    plt.legend()\n",
    "    plt.grid(True)\n",
    "    plt.show()"
   ]
  },
  {
   "cell_type": "code",
   "execution_count": null,
   "id": "1068bad3c7428dfb",
   "metadata": {},
   "outputs": [],
   "source": [
    "tickers = ['FARTCOIN', 'MOODENG', 'SPX', 'ZEREBRO', 'WIF', 'ACTSOL', 'LADYS', 'ANDY', 'APU', 'BOME', 'BONE', 'BRETT', 'CAT', 'CATI', 'CHILLGUY', 'DEGEN', 'DOGE', 'DOGS', 'FLOKI', 'FWOG', 'GIGA', 'GOAT', 'MYRO', 'MEW', 'MOG', 'PEPE', 'NPC', 'PEOPLE', 'PONKE', 'POPCAT', 'SHIB', 'SLERF', 'SUNDOG', 'TEN', 'TURBO', 'PNUT']\n",
    "\n",
    "tickers_error = ['NEIRO', 'VIRTUAL']\n",
    "\n",
    "rsi_list = []\n",
    "\n",
    "for i, ticker in enumerate(tickers) :\n",
    "    df = get_history_btc_pair(ticker, tf, timeFrom, timeTo, dfBtcIdr)\n",
    "    show_chart(df, ticker)\n",
    "    latest_rsi = df['RSI_14'].iloc[-1]\n",
    "    rsi_list.append({'Label': ticker, 'RSI_14': latest_rsi})\n",
    "\n",
    "rsi_df = pd.DataFrame(rsi_list)\n",
    "show_chart_rsi(rsi_df)"
   ]
  },
  {
   "cell_type": "code",
   "execution_count": null,
   "id": "5181a3b0baea6a69",
   "metadata": {},
   "outputs": [],
   "source": [
    "tickers = [ 'AERO', 'ALTLAYER', 'API3', 'ARB', 'ARKM', 'ATH', 'AVAX', 'BGB', 'BNB', 'CAKE', 'CTC', 'CRV', 'CTK', 'EIGEN', 'ENA', 'ENS', 'ETH', 'FET', 'FIL', 'FLUX', 'FTM', 'GALA', 'GMT', 'GRASS', 'GRT', 'HBAR', 'HIFI', 'HNT', 'IMX', 'IO', 'ISLM', 'JASMY', 'JUP', 'JTO', 'KMNO', 'LDO', 'LPT', 'LQTY', 'MBOX', 'ME', 'METIS', 'MKR', 'MNT', 'MOVE', 'NEAR', 'OM', 'ONDO', 'PAXG', 'PENDLE', 'PHA', 'PYTH', 'POL', 'RAY', 'REZ', 'RENDER', 'SOL', 'STORJ', 'SUI', 'TON', 'TRX', 'UNI', 'WORMHOLE', 'XRP', 'ZKJ']\n",
    "\n",
    "tickers_error = ['AAVE', 'FORM', 'ID', 'XDC']\n",
    "\n",
    "rsi_list = []\n",
    "\n",
    "for i, ticker in enumerate(tickers) :\n",
    "    df = get_history_btc_pair(ticker, tf, timeFrom, timeTo, dfBtcIdr)\n",
    "    show_chart(df, ticker)\n",
    "    latest_rsi = df['RSI_14'].iloc[-1]\n",
    "    rsi_list.append({'Label': ticker, 'RSI_14': latest_rsi})\n",
    "\n",
    "rsi_df = pd.DataFrame(rsi_list)\n",
    "show_chart_rsi(rsi_df)\n"
   ]
  },
  {
   "cell_type": "code",
   "execution_count": null,
   "id": "1a18f24352c78298",
   "metadata": {},
   "outputs": [],
   "source": []
  }
 ],
 "metadata": {
  "kernelspec": {
   "display_name": "Python 3",
   "language": "python",
   "name": "python3"
  },
  "language_info": {
   "codemirror_mode": {
    "name": "ipython",
    "version": 2
   },
   "file_extension": ".py",
   "mimetype": "text/x-python",
   "name": "python",
   "nbconvert_exporter": "python",
   "pygments_lexer": "ipython2",
   "version": "2.7.6"
  }
 },
 "nbformat": 4,
 "nbformat_minor": 5
}
