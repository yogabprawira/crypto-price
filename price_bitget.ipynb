{
 "cells": [
  {
   "cell_type": "code",
   "id": "initial_id",
   "metadata": {
    "collapsed": true,
    "ExecuteTime": {
     "end_time": "2025-04-21T21:36:53.198103Z",
     "start_time": "2025-04-21T21:36:51.096861Z"
    }
   },
   "source": [
    "import requests\n",
    "import pandas as pd\n",
    "import matplotlib.pyplot as plt\n",
    "from datetime import datetime, timedelta\n",
    "import talib as ta\n",
    "import os\n",
    "import mplfinance as mpf"
   ],
   "outputs": [],
   "execution_count": 1
  },
  {
   "metadata": {
    "ExecuteTime": {
     "end_time": "2025-04-21T21:36:53.218996Z",
     "start_time": "2025-04-21T21:36:53.214542Z"
    }
   },
   "cell_type": "code",
   "source": [
    "def get_time_stamp():\n",
    "    return datetime.now().strftime('%Y%m%d%H%M%S')"
   ],
   "id": "5ef845ace35c2c03",
   "outputs": [],
   "execution_count": 2
  },
  {
   "metadata": {
    "ExecuteTime": {
     "end_time": "2025-04-21T21:36:53.232307Z",
     "start_time": "2025-04-21T21:36:53.227551Z"
    }
   },
   "cell_type": "code",
   "source": [
    "directory = 'bitget-' + get_time_stamp()\n",
    "os.makedirs(directory, exist_ok=True)"
   ],
   "id": "15bc22b1e6db6dd",
   "outputs": [],
   "execution_count": 3
  },
  {
   "metadata": {
    "ExecuteTime": {
     "end_time": "2025-04-21T21:36:53.247904Z",
     "start_time": "2025-04-21T21:36:53.243367Z"
    }
   },
   "cell_type": "code",
   "source": [
    "def get_pairs() :\n",
    "    return requests.get('https://api.bitget.com/api/v2/spot/public/symbols').json()"
   ],
   "id": "3f4ba9d5f54fd17e",
   "outputs": [],
   "execution_count": 4
  },
  {
   "metadata": {
    "ExecuteTime": {
     "end_time": "2025-04-21T21:36:53.264086Z",
     "start_time": "2025-04-21T21:36:53.257487Z"
    }
   },
   "cell_type": "code",
   "source": [
    "def get_ticker(symbol, granularity, time_from, time_to) :\n",
    "    request_str = 'https://api.bitget.com/api/v2/spot/market/candles' + '?symbol=' + symbol + '&granularity=' + granularity + '&startTime=' + str(time_from) + '&endTime=' + str(time_to) + '&limit=1000'\n",
    "    return requests.get(request_str).json()"
   ],
   "id": "9ce92821be8774e0",
   "outputs": [],
   "execution_count": 5
  },
  {
   "metadata": {
    "ExecuteTime": {
     "end_time": "2025-04-21T21:36:53.613492Z",
     "start_time": "2025-04-21T21:36:53.608203Z"
    }
   },
   "cell_type": "code",
   "source": [
    "width_ratio = 0.2\n",
    "\n",
    "now = datetime.now()\n",
    "past = now - timedelta(days=5*365)\n",
    "time_from_ms = int(past.timestamp() * 1000)\n",
    "time_to_ms = int(now.timestamp() * 1000)\n",
    "time_frame = '1Dutc'"
   ],
   "id": "f3801f1a5b39e430",
   "outputs": [],
   "execution_count": 6
  },
  {
   "metadata": {
    "ExecuteTime": {
     "end_time": "2025-04-21T21:36:54.281837Z",
     "start_time": "2025-04-21T21:36:53.688598Z"
    }
   },
   "cell_type": "code",
   "source": [
    "pairs = get_pairs()\n",
    "symbols = [item['symbol'] for item in pairs['data'] if 'symbol' in item and item['symbol'].endswith('USDT')]\n",
    "remove_list = ['BTCUSDT', 'USDCUSDT', 'USDPUSDT', 'USTCUSDT', 'FDUSDUSDT', 'TUSDUSDT', 'AEURUSDT', 'DAIUSDT', 'USDEUSDT', 'DEUSDUSDT', 'PYUSDUSDT', 'WUSDUSDT', 'WBTCUSDT', 'WETHUSDT', 'WEETHUSDT', 'STETHUSDT', 'USDSUSDT']\n",
    "symbols = [item for item in symbols if item not in remove_list]\n",
    "symbols.sort()\n",
    "print(symbols)"
   ],
   "id": "3dc64ca4812a6a95",
   "outputs": [
    {
     "name": "stdout",
     "output_type": "stream",
     "text": [
      "['0X0USDT', '1INCHUSDT', 'A8USDT', 'AARKUSDT', 'AAVEUSDT', 'ABUSDT', 'ACAUSDT', 'ACEUSDT', 'ACHUSDT', 'ACMUSDT', 'ACTUSDT', 'ACXUSDT', 'ADAUSDT', 'AERGOUSDT', 'AEROUSDT', 'AEVOUSDT', 'AFCUSDT', 'AGLDUSDT', 'AI16ZUSDT', 'AIDOGEUSDT', 'AINUSDT', 'AITECHUSDT', 'AIUSDT', 'AIXBTUSDT', 'ALCHUSDT', 'ALEUSDT', 'ALEXUSDT', 'ALGOUSDT', 'ALICEUSDT', 'ALPACAUSDT', 'ALPHAUSDT', 'ALPHUSDT', 'ALPINEUSDT', 'ALTUSDT', 'ALUSDT', 'ALUUSDT', 'AMPUSDT', 'ANIMEUSDT', 'ANKRUSDT', 'ANLOGUSDT', 'ANYONEUSDT', 'APEUSDT', 'API3USDT', 'APTUSDT', 'APUUSDT', 'AQTUSDT', 'ARBUSDT', 'ARCAUSDT', 'ARCUSDT', 'ARGUSDT', 'ARKMUSDT', 'ARKUSDT', 'ARPAUSDT', 'ARUSDT', 'ASIUSDT', 'ASRUSDT', 'ASTOUSDT', 'ASTRUSDT', 'ATHUSDT', 'ATMUSDT', 'ATOMUSDT', 'AUCTIONUSDT', 'AUDIOUSDT', 'AURORAUSDT', 'AVAAIUSDT', 'AVAILUSDT', 'AVAUSDT', 'AVAXUSDT', 'AXLUSDT', 'AXSUSDT', 'AZEROUSDT', 'AZITUSDT', 'BABYDOGEUSDT', 'BABYUSDT', 'BADGERUSDT', 'BADUSDT', 'BAIUSDT', 'BAKEUSDT', 'BALUSDT', 'BANANAS31USDT', 'BANANAUSDT', 'BANDUSDT', 'BANKUSDT', 'BANUSDT', 'BARUSDT', 'BATUSDT', 'BBUSDT', 'BCHUSDT', 'BEAMUSDT', 'BELUSDT', 'BERAUSDT', 'BGBUSDT', 'BGSCUSDT', 'BGSOLUSDT', 'BICOUSDT', 'BIGTIMEUSDT', 'BIOUSDT', 'BIP1USDT', 'BITCOINUSDT', 'BIZAUSDT', 'BLASTUSDT', 'BLUEUSDT', 'BLURUSDT', 'BLZUSDT', 'BMTUSDT', 'BNBUSDT', 'BNTUSDT', 'BOMEUSDT', 'BONEUSDT', 'BONKUSDT', 'BOXUSDT', 'BRETTUSDT', 'BRNUSDT', 'BROCCOLIUSDT', 'BROCKUSDT', 'BRUSDT', 'BSVUSDT', 'BSWUSDT', 'BTTUSDT', 'BUBBLEUSDT', 'BUBBUSDT', 'BUZZUSDT', 'C98USDT', 'CAKEUSDT', 'CARUSDT', 'CARVUSDT', 'CATBOYUSDT', 'CATGOLDUSDT', 'CATIUSDT', 'CATSUSDT', 'CBKUSDT', 'CECUSDT', 'CEEKUSDT', 'CELOUSDT', 'CELRUSDT', 'CETUSUSDT', 'CFXUSDT', 'CGPTUSDT', 'CHEEMSUSDT', 'CHESSUSDT', 'CHILLGUYUSDT', 'CHRUSDT', 'CHZUSDT', 'CKBUSDT', 'CLANKERUSDT', 'CLAYUSDT', 'CLOREUSDT', 'CLOUDUSDT', 'COMPUSDT', 'COOKIEUSDT', 'COQUSDT', 'COREUMUSDT', 'COREUSDT', 'COTIUSDT', 'COWUSDT', 'CPOOLUSDT', 'CREOUSDT', 'CRETAUSDT', 'CROSUSDT', 'CROUSDT', 'CRVUSDT', 'CSPRUSDT', 'CTCUSDT', 'CTSIUSDT', 'CVCUSDT', 'CVXUSDT', 'CWIFUSDT', 'CYBERUSDT', 'DAOTUSDT', 'DAOUSDT', 'DARKUSDT', 'DBRUSDT', 'DEGENUSDT', 'DENTUSDT', 'DMAILUSDT', 'DODOUSDT', 'DOGEUSDT', 'DOGSUSDT', 'DOGUSDT', 'DOTUSDT', 'DRIFTUSDT', 'DTECUSDT', 'DUCKUSDT', 'DUSDT', 'DUSKUSDT', 'DYDXUSDT', 'DYMUSDT', 'EARNMUSDT', 'EGLDUSDT', 'EGPUSDT', 'EIGENUSDT', 'ELAUSDT', 'ELFUSDT', 'ELONUSDT', 'ELXUSDT', 'ENAUSDT', 'ENJUSDT', 'ENSUSDT', 'EOSUSDT', 'EPTUSDT', 'ETCUSDT', 'ETHFIUSDT', 'ETHUSDT', 'ETHWUSDT', 'FARMUSDT', 'FARTCOINUSDT', 'FETUSDT', 'FHEUSDT', 'FIDAUSDT', 'FILUSDT', 'FIREUSDT', 'FISUSDT', 'FITFIUSDT', 'FLMUSDT', 'FLOKIUSDT', 'FLOWUSDT', 'FLUXUSDT', 'FMBUSDT', 'FONUSDT', 'FORMUSDT', 'FREDUSDT', 'FTNUSDT', 'FTTUSDT', 'FUDUSDT', 'FUELUSDT', 'FUSDT', 'FUSEUSDT', 'FXSUSDT', 'GALAUSDT', 'GALFANUSDT', 'GAME2USDT', 'GAMEUSDT', 'GASUSDT', 'GEARUSDT', 'GFALUSDT', 'GFIUSDT', 'GHIBLIUSDT', 'GHSTUSDT', 'GHXUSDT', 'GLMRUSDT', 'GLMUSDT', 'GMEEUSDT', 'GMTUSDT', 'GMUSDT', 'GMXUSDT', 'GNOUSDT', 'GNSUSDT', 'GOATSUSDT', 'GOATUSDT', 'GODSUSDT', 'GOMININGUSDT', 'GPSUSDT', 'GRASSUSDT', 'GRIFFAINUSDT', 'GROKUSDT', 'GRTUSDT', 'GSTUSDT', 'GSWIFTUSDT', 'GTCUSDT', 'GUNUSDT', 'GUSDT', 'HALOUSDT', 'HBARUSDT', 'HEIUSDT', 'HFTUSDT', 'HIFIUSDT', 'HIGHUSDT', 'HIPPOUSDT', 'HIVEUSDT', 'HMSTRUSDT', 'HNTUSDT', 'HOLDCOINUSDT', 'HOLDUSDT', 'HOOKUSDT', 'HOTUSDT', 'HTXUSDT', 'HYPEUSDT', 'IAGUSDT', 'ICEUSDT', 'ICPUSDT', 'ICXUSDT', 'IDEXUSDT', 'IDUSDT', 'ILVUSDT', 'IMTUSDT', 'IMXUSDT', 'INJUSDT', 'INTERUSDT', 'IOSTUSDT', 'IOTXUSDT', 'IOUSDT', 'IPUSDT', 'IQUSDT', 'ISLANDUSDT', 'IVPAYUSDT', 'JAILSTOOLUSDT', 'JASMYUSDT', 'JELLYJELLYUSDT', 'JOEUSDT', 'JSTUSDT', 'JTOUSDT', 'JUPUSDT', 'JUSDT', 'JUVUSDT', 'KAIAUSDT', 'KAITOUSDT', 'KASUSDT', 'KAVAUSDT', 'KDAUSDT', 'KERNELUSDT', 'KILOUSDT', 'KLVUSDT', 'KMNOUSDT', 'KNCUSDT', 'KOMAUSDT', 'KSMUSDT', 'KUBUSDT', 'L3USDT', 'LADYSUSDT', 'LATUSDT', 'LAYERUSDT', 'LAZIOUSDT', 'LDOUSDT', 'LEVERUSDT', 'LINKUSDT', 'LISTAUSDT', 'LMWRUSDT', 'LNDXUSDT', 'LNQUSDT', 'LOGXUSDT', 'LOKAUSDT', 'LOOKSUSDT', 'LPTUSDT', 'LQTYUSDT', 'LRCUSDT', 'LSDUSDT', 'LSKUSDT', 'LTCUSDT', 'LUCEUSDT', 'LUMIAUSDT', 'LUNAUSDT', 'LUNCUSDT', 'LVVAUSDT', 'LYXUSDT', 'MAGICUSDT', 'MAJORUSDT', 'MAKUSDT', 'MANAUSDT', 'MANEKIUSDT', 'MANTAUSDT', 'MAPOUSDT', 'MASAUSDT', 'MASKUSDT', 'MASUSDT', 'MAVIAUSDT', 'MAVUSDT', 'MAXEXCHANGEUSDT', 'MAXUSDT', 'MBLUSDT', 'MBOXUSDT', 'MBXUSDT', 'MCADEUSDT', 'MCHUSDT', 'MCUSDT', 'MDOGSUSDT', 'MDTUSDT', 'MELANIAUSDT', 'MEMEFIUSDT', 'MEMEUSDT', 'MEMHASHUSDT', 'MERLUSDT', 'METISUSDT', 'MEUSDT', 'MEWUSDT', 'MGTUSDT', 'MINAUSDT', 'MINTUSDT', 'MKRUSDT', 'MLUSDT', 'MOBILEUSDT', 'MOCAUSDT', 'MODEUSDT', 'MOEWUSDT', 'MOGUSDT', 'MONUSDT', 'MOODENGETHUSDT', 'MOODENGUSDT', 'MORPHOUSDT', 'MOTHERUSDT', 'MOVEUSDT', 'MOVRUSDT', 'MOZUSDT', 'MTLUSDT', 'MUBARAKUSDT', 'MUBIUSDT', 'MUMUUSDT', 'MVLUSDT', 'MVUSDT', 'MXCUSDT', 'MXNAUSDT', 'MXUSDT', 'MYRIAUSDT', 'MYROUSDT', 'NAKAUSDT', 'NAVXUSDT', 'NCUSDT', 'NEARUSDT', 'NEIROCTOUSDT', 'NEIROETHUSDT', 'NEOUSDT', 'NESSUSDT', 'NEXAUSDT', 'NEXOUSDT', 'NFPUSDT', 'NFTUSDT', 'NILUSDT', 'NKNUSDT', 'NMRUSDT', 'NMTUSDT', 'NOTUSDT', 'NPCUSDT', 'NPTUSDT', 'NSUSDT', 'NTRNUSDT', 'NUTSUSDT', 'NUUMUSDT', 'NYMUSDT', 'OASUSDT', 'OGCUSDT', 'OGNUSDT', 'OGUSDT', 'OIKUSDT', 'OLASUSDT', 'OMGUSDT', 'OMNI1USDT', 'OMUSDT', 'ONDOUSDT', 'ONEUSDT', 'ONGUSDT', 'ONTUSDT', 'OORTUSDT', 'OPUSDT', 'ORAIUSDT', 'ORBSUSDT', 'ORCAUSDT', 'ORDERUSDT', 'ORDIUSDT', 'ORNJUSDT', 'OSMOUSDT', 'OXTUSDT', 'PARTIUSDT', 'PAWSUSDT', 'PAXGUSDT', 'PCIUSDT', 'PDAUSDT', 'PEAQUSDT', 'PENDLEUSDT', 'PENGUUSDT', 'PEOPLEUSDT', 'PEPE2USDT', 'PEPECOINUSDT', 'PEPEUSDT', 'PERPUSDT', 'PHAUSDT', 'PHBUSDT', 'PIPPINUSDT', 'PIRATEUSDT', 'PIUSDT', 'PIXELUSDT', 'PIXFIUSDT', 'PLUMEUSDT', 'PNUTUSDT', 'POLUSDT', 'POLYXUSDT', 'PONDUSDT', 'PONKEUSDT', 'PORTALUSDT', 'PORTOUSDT', 'POWRUSDT', 'PPTUSDT', 'PRCLUSDT', 'PREMARKET3USDT', 'PRIMEUSDT', 'PROMPTUSDT', 'PROMUSDT', 'PROPCUSDT', 'PROPSUSDT', 'PSGUSDT', 'PSTAKEUSDT', 'PUFFERUSDT', 'PUMPUSDT', 'PUNDIXUSDT', 'PYRUSDT', 'PYTHUSDT', 'QKCUSDT', 'QNTUSDT', 'QTUMUSDT', 'QUBICUSDT', 'QUICKUSDT', 'RACAUSDT', 'RADUSDT', 'RAREUSDT', 'RARIUSDT', 'RATSUSDT', 'RAYUSDT', 'RDNTUSDT', 'REDUSDT', 'RENDERUSDT', 'RENUSDT', 'REXUSDT', 'REZUSDT', 'RFCUSDT', 'RIFSOLUSDT', 'RIFUSDT', 'RJVUSDT', 'RLCUSDT', 'ROAMUSDT', 'RONUSDT', 'ROOTUSDT', 'ROSEUSDT', 'ROUTEUSDT', 'RPLUSDT', 'RSRUSDT', 'RSS3USDT', 'RTFUSDT', 'RUNEUSDT', 'SAFEUSDT', 'SAGAUSDT', 'SAMOUSDT', 'SANDUSDT', 'SANTOSUSDT', 'SAROSUSDT', 'SATSUSDT', 'SAUCEUSDT', 'SBTCSUSDT', 'SCAUSDT', 'SCRATUSDT', 'SCRUSDT', 'SDEXUSDT', 'SDUSDT', 'SEIUSDT', 'SERSHUSDT', 'SETF1001USDT', 'SFPUSDT', 'SHELLUSDT', 'SHIBUSDT', 'SHIDOUSDT', 'SILLYUSDT', 'SIRENUSDT', 'SIXUSDT', 'SKLUSDT', 'SKRUSDT', 'SKYUSDT', 'SLERFUSDT', 'SLFUSDT', 'SLNUSDT', 'SLPUSDT', 'SNEKUSDT', 'SNTUSDT', 'SNXUSDT', 'SOLOUSDT', 'SOLUSDT', 'SOLVUSDT', 'SONICUSDT', 'SOONUSDT', 'SPARKLETUSDT', 'SPELLUSDT', 'SSVUSDT', 'STGUSDT', 'STMXUSDT', 'STNKUSDT', 'STORJUSDT', 'STOUSDT', 'STPTUSDT', 'STRAXUSDT', 'STRKUSDT', 'STXUSDT', 'SUIUSDT', 'SUNDOGUSDT', 'SUNUSDT', 'SUPERUSDT', 'SUSDT', 'SUSHIUSDT', 'SWARMSUSDT', 'SWCHUSDT', 'SWEATUSDT', 'SWELLUSDT', 'SWGTUSDT', 'SXPUSDT', 'SXRPSUSDT', 'SYNUSDT', 'SYSUSDT', 'T2T2USDT', 'TAIKOUSDT', 'TAOUSDT', 'TAPSUSDT', 'TELUSDT', 'TETUSDT', 'THEUSDT', 'TIAUSDT', 'TLMUSDT', 'TLOSUSDT', 'TNSRUSDT', 'TOMAUSDT', 'TOMIUSDT', 'TONUSDT', 'TRACUSDT', 'TRBUSDT', 'TREATUSDT', 'TRIASUSDT', 'TRUMPUSDT', 'TRUUSDT', 'TRXUSDT', 'TSTBSCUSDT', 'TURBOUSDT', 'TUSDT', 'TUTUSDT', 'TWTUSDT', 'U2UUSDT', 'UFDUSDT', 'ULTIUSDT', 'UMAUSDT', 'UNIBOTUSDT', 'UNIUSDT', 'UPCUSDT', 'UPUSDT', 'UROUSDT', 'USUALUSDT', 'UXLINKUSDT', 'VAIUSDT', 'VANAUSDT', 'VANRYUSDT', 'VELODROMEUSDT', 'VELOUSDT', 'VERTUSDT', 'VETUSDT', 'VIBUSDT', 'VICUSDT', 'VINEUSDT', 'VIRTUALUSDT', 'VOLTUSDT', 'VOXELUSDT', 'VRTXUSDT', 'VRUSDT', 'VTHOUSDT', 'VTUSDT', 'WALUSDT', 'WATUSDT', 'WAVESUSDT', 'WAXPUSDT', 'WCTUSDT', 'WELLUSDT', 'WEMIXUSDT', 'WENUSDT', 'WHYUSDT', 'WIFUSDT', 'WILDUSDT', 'WINGUSDT', 'WINUSDT', 'WLDUSDT', 'WOLFUSDT', 'WOOFUSDT', 'WOOUSDT', 'WSDMUSDT', 'WUFUSDT', 'WUSDT', 'XAIUSDT', 'XAUTUSDT', 'XCADUSDT', 'XCNUSDT', 'XDCUSDT', 'XELSUSDT', 'XEMUSDT', 'XENUSDT', 'XETAUSDT', 'XIONUSDT', 'XLMUSDT', 'XPRUSDT', 'XRDUSDT', 'XRPUSDT', 'XTERUSDT', 'XTZUSDT', 'XUSDT', 'YFIUSDT', 'YGGUSDT', 'YULIUSDT', 'ZBCNUSDT', 'ZBUUSDT', 'ZCXUSDT', 'ZENTUSDT', 'ZENUSDT', 'ZEREBROUSDT', 'ZEROLENDUSDT', 'ZETAUSDT', 'ZIGUSDT', 'ZILUSDT', 'ZKJUSDT', 'ZKLUSDT', 'ZKUSDT', 'ZOOUSDT', 'ZRCUSDT', 'ZROUSDT', 'ZRXUSDT', 'ZZZUSDT']\n"
     ]
    }
   ],
   "execution_count": 7
  },
  {
   "metadata": {
    "ExecuteTime": {
     "end_time": "2025-04-21T21:36:54.308267Z",
     "start_time": "2025-04-21T21:36:54.301245Z"
    }
   },
   "cell_type": "code",
   "source": [
    "def get_df_from_ticker(ticker_name, granularity, time_from, time_to) :\n",
    "    ticker = get_ticker(ticker_name + 'USDT', granularity, time_from, time_to)\n",
    "    if len(ticker['data']) == 0 :\n",
    "        return None\n",
    "    df_1 = pd.DataFrame(ticker['data'], columns=[\n",
    "    'Timestamp',\n",
    "    'Open',\n",
    "    'High',\n",
    "    'Low',\n",
    "    'Close',\n",
    "    'Volume Base',\n",
    "    'Volume USDT',\n",
    "    'Volume Quote'])\n",
    "    df_1['Timestamp'] = pd.to_numeric(df_1['Timestamp'])\n",
    "    df_1['Date'] = pd.to_datetime(df_1['Timestamp'], unit='ms')\n",
    "    df_1['Open'] = pd.to_numeric(df_1['Open'], errors='coerce')\n",
    "    df_1['Close'] = pd.to_numeric(df_1['Close'], errors='coerce')\n",
    "    df_1['High'] = pd.to_numeric(df_1['High'], errors='coerce')\n",
    "    df_1['Low'] = pd.to_numeric(df_1['Low'], errors='coerce')\n",
    "    df_1['Volume'] = pd.to_numeric(df_1['Volume USDT'], errors='coerce')\n",
    "    df_1 = df_1.sort_values(by='Date')\n",
    "    return df_1"
   ],
   "id": "e6fd63948d99211b",
   "outputs": [],
   "execution_count": 8
  },
  {
   "metadata": {
    "ExecuteTime": {
     "end_time": "2025-04-21T21:36:54.506185Z",
     "start_time": "2025-04-21T21:36:54.330693Z"
    }
   },
   "cell_type": "code",
   "source": "df_btc_usdt = get_df_from_ticker('BTC', time_frame, time_from_ms, time_to_ms)",
   "id": "88cf9147fa628d13",
   "outputs": [],
   "execution_count": 9
  },
  {
   "metadata": {
    "ExecuteTime": {
     "end_time": "2025-04-21T21:36:54.543930Z",
     "start_time": "2025-04-21T21:36:54.531931Z"
    }
   },
   "cell_type": "code",
   "source": [
    "def get_history_btc_pair(ticker_name, df_coin_usdt, df_btc_usdt_local) :\n",
    "    ticker_name_low = ticker_name.lower()\n",
    "    df_merged = pd.merge(df_coin_usdt, df_btc_usdt_local, on='Date', suffixes=('_' + ticker_name_low, '_btc'))\n",
    "    df_merged['Open_' + ticker_name_low +'_btc'] = df_merged['Open_' + ticker_name_low] / df_merged['Open_btc']\n",
    "    df_merged['High_' + ticker_name_low +'_btc'] = df_merged['High_' + ticker_name_low] / df_merged['High_btc']\n",
    "    df_merged['Low_' + ticker_name_low + '_btc'] = df_merged['Low_' + ticker_name_low] / df_merged['Low_btc']\n",
    "    df_merged['Close_'+ ticker_name_low +'_btc'] = df_merged['Close_' + ticker_name_low] / df_merged['Close_btc']\n",
    "    df_merged['Volume_'+ ticker_name_low +'_btc'] = df_merged['Volume_' + ticker_name_low]\n",
    "\n",
    "    df_final = df_merged[['Date', 'Open_' + ticker_name_low +'_btc', 'High_' + ticker_name_low +'_btc', 'Low_' + ticker_name_low + '_btc', 'Close_' + ticker_name_low +'_btc', 'Volume_' + ticker_name_low +'_btc']].copy()\n",
    "    df_final.rename(columns={\n",
    "        'Open_' + ticker_name_low +'_btc': 'Open',\n",
    "        'High_' + ticker_name_low +'_btc': 'High',\n",
    "        'Low_' + ticker_name_low + '_btc': 'Low',\n",
    "        'Close_' + ticker_name_low +'_btc': 'Close',\n",
    "        'Volume_' + ticker_name_low +'_btc': 'Volume'\n",
    "    }, inplace=True)\n",
    "\n",
    "    df_final[\"Return\"] = df_final[\"Close\"].pct_change()\n",
    "\n",
    "    df_final['RSI_14'] = ta.RSI(df_final['Close'], timeperiod=14)\n",
    "\n",
    "    df_final['OBV'] = ta.OBV(df_final['Close'], df_final['Volume'])\n",
    "\n",
    "    slowk, slowd = ta.STOCH(df_final['High'], df_final['Low'], df_final['Close'],\n",
    "                           fastk_period=5,\n",
    "                           slowk_period=3,\n",
    "                           slowd_period=3)\n",
    "    df_final['Stoch_%K'] = slowk\n",
    "    df_final['Stoch_%D'] = slowd\n",
    "\n",
    "    len_data = len(df_merged['Close_' + ticker_name_low])\n",
    "    if len_data > 2 :\n",
    "        min_time_period = min(len_data-1, 90)\n",
    "        df_final['Beta'] = ta.BETA(df_merged['Close_' + ticker_name_low], df_merged['Close_btc'], timeperiod=min_time_period)\n",
    "        df_final['Correl'] = ta.CORREL(df_merged['Close_' + ticker_name_low], df_merged['Close_btc'], timeperiod=min_time_period)\n",
    "\n",
    "    df_final['Change1D'] = df_final['Close'].pct_change() * 100\n",
    "    df_final['Change7D'] = df_final['Close'].pct_change(periods=7) * 100\n",
    "    df_final['Change30D'] = df_final['Close'].pct_change(periods=30) * 100\n",
    "\n",
    "    # df_final['EMA_13'] = df_final['Close'].ewm(span=13, adjust=False).mean()\n",
    "    # df_final['EMA_21'] = df_final['Close'].ewm(span=21, adjust=False).mean()\n",
    "\n",
    "    return df_final"
   ],
   "id": "5c1e57c21a73bd68",
   "outputs": [],
   "execution_count": 10
  },
  {
   "metadata": {
    "ExecuteTime": {
     "end_time": "2025-04-21T21:36:54.572764Z",
     "start_time": "2025-04-21T21:36:54.565944Z"
    }
   },
   "cell_type": "code",
   "source": [
    "def show_candlestick(tickername, df) :\n",
    "    df.set_index('Date', inplace=True)\n",
    "    mpf.plot(df, type='candle', style='binance', volume=True, title=f'Pergerakan Harga {tickername} terhadap BTC',\n",
    "         savefig=dict(fname=os.path.join(directory, 'Candlestick-' + tickername + '-' + get_time_stamp() + '.png'), dpi=300, bbox_inches='tight'))"
   ],
   "id": "f2e8fff29f77599f",
   "outputs": [],
   "execution_count": 11
  },
  {
   "metadata": {
    "ExecuteTime": {
     "end_time": "2025-04-21T21:36:54.618965Z",
     "start_time": "2025-04-21T21:36:54.599993Z"
    }
   },
   "cell_type": "code",
   "source": [
    "def show_chart(df, tickername) :\n",
    "    time_now = datetime.now().strftime('%d-%m-%Y %H:%M:%S')\n",
    "\n",
    "    # Membuat figure dan dua subplot yang berbagi sumbu x\n",
    "    fig, (ax1, ax2, ax3, ax4) = plt.subplots(nrows=4, ncols=1, sharex=True, figsize=(14, 10))\n",
    "    # fig, (ax1, ax2, ax3) = plt.subplots(nrows=3, ncols=1, sharex=True, figsize=(14, 10))\n",
    "\n",
    "    # Pergerakan Harga\n",
    "    ax1.plot(df['Date'], df['Close'], label=f'{tickername}/BTC', color='blue')\n",
    "    # ax1.plot(df['Date'], df['EMA_13'], linewidth=0.5, label='EMA 13', color='yellow')\n",
    "    # ax1.plot(df['Date'], df['EMA_21'], linewidth=0.5, label='EMA 21', color='orange')\n",
    "    ax1.set_title(f'Pergerakan Harga {tickername} terhadap BTC')\n",
    "    ax1.set_ylabel('Harga (BTC)')\n",
    "    ax1.legend()\n",
    "    ax1.grid(True)\n",
    "    ax1.text(0.99, 1.05, time_now,\n",
    "         transform=ax1.transAxes,\n",
    "         fontsize=12, color='gray', alpha=0.7,\n",
    "         ha='right', va='bottom')\n",
    "    ax1.text(0.5, 0.5, 'Generated by Yoga',\n",
    "         transform=ax1.transAxes,\n",
    "         fontsize=20, color='gray', alpha=0.3,\n",
    "         ha='center', va='center', rotation=30)\n",
    "\n",
    "    # RSI\n",
    "    ax2.plot(df['Date'], df['RSI_14'], label=f'RSI {tickername}/BTC', color='orange')\n",
    "    ax2.axhline(70, linestyle='--', alpha=0.5, color='red')  # Garis overbought\n",
    "    ax2.axhline(30, linestyle='--', alpha=0.5, color='green')  # Garis oversold\n",
    "    ax2.set_title(f'Grafik RSI {tickername} terhadap BTC')\n",
    "    ax2.set_xlabel('Tanggal')\n",
    "    ax2.set_ylabel('RSI')\n",
    "    ax2.legend()\n",
    "    ax2.grid(True)\n",
    "    ax2.text(0.99, 1.05, time_now,\n",
    "         transform=ax2.transAxes,\n",
    "         fontsize=12, color='gray', alpha=0.7,\n",
    "         ha='right', va='bottom')\n",
    "    ax2.text(0.5, 0.5, 'Generated by Yoga',\n",
    "         transform=ax2.transAxes,\n",
    "         fontsize=20, color='gray', alpha=0.3,\n",
    "         ha='center', va='center', rotation=30)\n",
    "\n",
    "    # Stochastic\n",
    "    ax3.plot(df['Date'], df['Stoch_%K'], label='%K', color='blue')\n",
    "    ax3.plot(df['Date'], df['Stoch_%D'], label='%D', color='orange')\n",
    "    ax3.axhline(80, linestyle='--', alpha=0.5, color='red')  # Garis overbought\n",
    "    ax3.axhline(20, linestyle='--', alpha=0.5, color='green')  # Garis oversold\n",
    "    ax3.set_title(f'Grafik Stochastic {tickername} terhadap BTC')\n",
    "    ax3.set_xlabel('Tanggal')\n",
    "    ax3.set_ylabel('Nilai')\n",
    "    ax3.legend()\n",
    "    ax3.grid(True)\n",
    "    ax3.text(0.99, 1.05, time_now,\n",
    "         transform=ax3.transAxes,\n",
    "         fontsize=12, color='gray', alpha=0.7,\n",
    "         ha='right', va='bottom')\n",
    "    ax3.text(0.5, 0.5, 'Generated by Yoga',\n",
    "         transform=ax3.transAxes,\n",
    "         fontsize=20, color='gray', alpha=0.3,\n",
    "         ha='center', va='center', rotation=30)\n",
    "\n",
    "    # OBV\n",
    "    ax4.plot(df['Date'], df['OBV'], label='OBV', color='blue')\n",
    "    ax4.set_title(f'Grafik OBV {tickername}')\n",
    "    ax4.set_xlabel('Tanggal')\n",
    "    ax4.set_ylabel('Nilai')\n",
    "    ax4.legend()\n",
    "    ax4.grid(True)\n",
    "    ax4.text(0.99, 1.05, time_now,\n",
    "         transform=ax4.transAxes,\n",
    "         fontsize=12, color='gray', alpha=0.7,\n",
    "         ha='right', va='bottom')\n",
    "    ax4.text(0.5, 0.5, 'Generated by Yoga',\n",
    "         transform=ax4.transAxes,\n",
    "         fontsize=20, color='gray', alpha=0.3,\n",
    "         ha='center', va='center', rotation=30)\n",
    "\n",
    "    # Menyesuaikan tata letak agar tidak saling tumpang tindih\n",
    "    plt.tight_layout()\n",
    "    # plt.show()\n",
    "    plt.savefig(os.path.join(directory, 'Chart-' + tickername + '-' + get_time_stamp() + '.png'), dpi=300, bbox_inches='tight')\n",
    "    plt.close()\n",
    "\n",
    "    show_candlestick(tickername, df)"
   ],
   "id": "d90a1781506b33ec",
   "outputs": [],
   "execution_count": 12
  },
  {
   "metadata": {
    "ExecuteTime": {
     "end_time": "2025-04-21T21:36:54.649401Z",
     "start_time": "2025-04-21T21:36:54.641991Z"
    }
   },
   "cell_type": "code",
   "source": [
    "def show_chart_rsi(df) :\n",
    "    if 'Label' not in df.columns:\n",
    "        return\n",
    "    width = width_ratio * len(df['Label'])\n",
    "    plt.figure(figsize=(width, 6))\n",
    "    plt.scatter(df['Label'], df['RSI_14'], color='blue')\n",
    "    plt.axhline(70, linestyle='--', alpha=0.5, color='red', label='Overbought (70)')\n",
    "    plt.axhline(30, linestyle='--', alpha=0.5, color='green', label='Oversold (30)')\n",
    "    plt.title('Nilai RSI Pair BTC')\n",
    "    plt.xlabel('Ticker')\n",
    "    plt.ylabel('RSI')\n",
    "    plt.xticks(rotation=90)\n",
    "    plt.legend()\n",
    "    plt.grid(True)\n",
    "    plt.text(0.5, 0.5, 'Generated by Yoga',\n",
    "         transform=plt.gca().transAxes,\n",
    "         fontsize=40, color='gray', alpha=0.3,\n",
    "         ha='center', va='center', rotation=30)\n",
    "    plt.text(0.99, 1.05, datetime.now().strftime('%d-%m-%Y %H:%M:%S'),\n",
    "         transform=plt.gca().transAxes,\n",
    "         fontsize=12, color='gray', alpha=0.7,\n",
    "         ha='right', va='bottom')\n",
    "    # plt.show()\n",
    "    plt.savefig(os.path.join(directory, 'RSI-' + get_time_stamp() + '.png'), dpi=300, bbox_inches='tight')\n",
    "    plt.close()"
   ],
   "id": "ce307fdf85c2d285",
   "outputs": [],
   "execution_count": 13
  },
  {
   "metadata": {
    "ExecuteTime": {
     "end_time": "2025-04-21T21:36:54.677255Z",
     "start_time": "2025-04-21T21:36:54.668480Z"
    }
   },
   "cell_type": "code",
   "source": [
    "def show_chart_beta(df) :\n",
    "    if 'Label' not in df.columns:\n",
    "        return\n",
    "    width = width_ratio * len(df['Label'])\n",
    "    plt.figure(figsize=(width, 6))\n",
    "    plt.scatter(df['Label'], df['Beta'], color='blue')\n",
    "    plt.axhline(0, linestyle='--', alpha=0.5, color='magenta', label='Beta = 0')\n",
    "    plt.axhline(1, linestyle='--', alpha=0.5, color='cyan', label='Beta = 1')\n",
    "    plt.title('Nilai Beta (Volatilitas Harga Token Terhadap BTC)')\n",
    "    plt.xlabel('Ticker')\n",
    "    plt.ylabel('Beta')\n",
    "    plt.xticks(rotation=90)\n",
    "    plt.legend()\n",
    "    plt.grid(True)\n",
    "    plt.text(0.5, 0.5, 'Generated by Yoga',\n",
    "         transform=plt.gca().transAxes,\n",
    "         fontsize=40, color='gray', alpha=0.3,\n",
    "         ha='center', va='center', rotation=30)\n",
    "    plt.text(0.99, 1.05, datetime.now().strftime('%d-%m-%Y %H:%M:%S'),\n",
    "         transform=plt.gca().transAxes,\n",
    "         fontsize=12, color='gray', alpha=0.7,\n",
    "         ha='right', va='bottom')\n",
    "    # plt.show()\n",
    "    plt.savefig(os.path.join(directory, 'Beta-' + get_time_stamp() + '.png'), dpi=300, bbox_inches='tight')\n",
    "    plt.close()"
   ],
   "id": "6c640283f48ccd23",
   "outputs": [],
   "execution_count": 14
  },
  {
   "metadata": {
    "ExecuteTime": {
     "end_time": "2025-04-21T21:36:54.704371Z",
     "start_time": "2025-04-21T21:36:54.697098Z"
    }
   },
   "cell_type": "code",
   "source": [
    "def show_chart_correl(df) :\n",
    "    if 'Label' not in df.columns:\n",
    "        return\n",
    "    width = width_ratio * len(df['Label'])\n",
    "    plt.figure(figsize=(width, 6))\n",
    "    plt.scatter(df['Label'], df['Correl'], color='blue')\n",
    "    plt.axhline(0, linestyle='--', alpha=0.5, color='magenta', label='Correlation = 0')\n",
    "    plt.axhline(-1, linestyle='--', alpha=0.5, color='cyan', label='Correlation = -1')\n",
    "    plt.axhline(1, linestyle='--', alpha=0.5, color='cyan', label='Correlation = 1')\n",
    "    plt.title('Nilai Pearson Correlation Coefficient Terhadap BTC')\n",
    "    plt.xlabel('Ticker')\n",
    "    plt.ylabel('Correlation')\n",
    "    plt.xticks(rotation=90)\n",
    "    plt.legend()\n",
    "    plt.grid(True)\n",
    "    plt.text(0.5, 0.5, 'Generated by Yoga',\n",
    "         transform=plt.gca().transAxes,\n",
    "         fontsize=40, color='gray', alpha=0.3,\n",
    "         ha='center', va='center', rotation=30)\n",
    "    plt.text(0.99, 1.05, datetime.now().strftime('%d-%m-%Y %H:%M:%S'),\n",
    "         transform=plt.gca().transAxes,\n",
    "         fontsize=12, color='gray', alpha=0.7,\n",
    "         ha='right', va='bottom')\n",
    "    # plt.show()\n",
    "    plt.savefig(os.path.join(directory, 'Correlation-' + get_time_stamp() + '.png'), dpi=300, bbox_inches='tight')\n",
    "    plt.close()"
   ],
   "id": "6e3613298b94946d",
   "outputs": [],
   "execution_count": 15
  },
  {
   "metadata": {
    "ExecuteTime": {
     "end_time": "2025-04-21T21:36:54.730796Z",
     "start_time": "2025-04-21T21:36:54.723463Z"
    }
   },
   "cell_type": "code",
   "source": [
    "def show_chart_change(df, chart_title) :\n",
    "    if 'Label' not in df.columns:\n",
    "        return\n",
    "    width = width_ratio * len(df['Label'])\n",
    "    plt.figure(figsize=(width, 6))\n",
    "    plt.scatter(df['Label'], df['Data'], color='blue')\n",
    "    plt.axhline(0, linestyle='--', alpha=0.5, color='red', label='Change = 0%')\n",
    "    plt.title(chart_title)\n",
    "    plt.xlabel('Ticker')\n",
    "    plt.ylabel('Perubahan (%)')\n",
    "    plt.xticks(rotation=90)\n",
    "    plt.legend()\n",
    "    plt.grid(True)\n",
    "    plt.text(0.5, 0.5, 'Generated by Yoga',\n",
    "         transform=plt.gca().transAxes,\n",
    "         fontsize=40, color='gray', alpha=0.3,\n",
    "         ha='center', va='center', rotation=30)\n",
    "    plt.text(0.99, 1.05, datetime.now().strftime('%d-%m-%Y %H:%M:%S'),\n",
    "         transform=plt.gca().transAxes,\n",
    "         fontsize=12, color='gray', alpha=0.7,\n",
    "         ha='right', va='bottom')\n",
    "    # plt.show()\n",
    "    plt.savefig(os.path.join(directory, chart_title + '-' + get_time_stamp() + '.png'), dpi=300, bbox_inches='tight')\n",
    "    plt.close()"
   ],
   "id": "a9fc129c3000444f",
   "outputs": [],
   "execution_count": 16
  },
  {
   "metadata": {
    "ExecuteTime": {
     "end_time": "2025-04-21T21:36:54.758238Z",
     "start_time": "2025-04-21T21:36:54.751175Z"
    }
   },
   "cell_type": "code",
   "source": [
    "def show_chart_return_mean(df) :\n",
    "    if 'Label' not in df.columns:\n",
    "        return\n",
    "    width = width_ratio * len(df['Label'])\n",
    "    plt.figure(figsize=(width, 6))\n",
    "    plt.scatter(df['Label'], df['Data'], color='blue')\n",
    "    plt.axhline(0, linestyle='--', alpha=0.5, color='red', label='0')\n",
    "    plt.title('Rata-Rata Return Pair BTC')\n",
    "    plt.xlabel('Ticker')\n",
    "    plt.ylabel('Return Mean (%)')\n",
    "    plt.xticks(rotation=90)\n",
    "    plt.legend()\n",
    "    plt.grid(True)\n",
    "    plt.text(0.5, 0.5, 'Generated by Yoga',\n",
    "         transform=plt.gca().transAxes,\n",
    "         fontsize=40, color='gray', alpha=0.3,\n",
    "         ha='center', va='center', rotation=30)\n",
    "    plt.text(0.99, 1.05, datetime.now().strftime('%d-%m-%Y %H:%M:%S'),\n",
    "         transform=plt.gca().transAxes,\n",
    "         fontsize=12, color='gray', alpha=0.7,\n",
    "         ha='right', va='bottom')\n",
    "    # plt.show()\n",
    "    plt.savefig(os.path.join(directory, 'Rata-Rata Return-' + get_time_stamp() + '.png'), dpi=300, bbox_inches='tight')\n",
    "    plt.close()"
   ],
   "id": "ecc5cc8eb9039cf5",
   "outputs": [],
   "execution_count": 17
  },
  {
   "metadata": {
    "ExecuteTime": {
     "end_time": "2025-04-21T21:36:54.782828Z",
     "start_time": "2025-04-21T21:36:54.776924Z"
    }
   },
   "cell_type": "code",
   "source": [
    "def show_chart_return_std(df) :\n",
    "    if 'Label' not in df.columns:\n",
    "        return\n",
    "    width = width_ratio * len(df['Label'])\n",
    "    plt.figure(figsize=(width, 6))\n",
    "    plt.scatter(df['Label'], df['Data'], color='blue')\n",
    "    plt.axhline(0, linestyle='--', alpha=0.5, color='red', label='0')\n",
    "    plt.title('Volatilitas Return Pair BTC')\n",
    "    plt.xlabel('Ticker')\n",
    "    plt.ylabel('Tingkat Volatilitas')\n",
    "    plt.xticks(rotation=90)\n",
    "    plt.legend()\n",
    "    plt.grid(True)\n",
    "    plt.text(0.5, 0.5, 'Generated by Yoga',\n",
    "         transform=plt.gca().transAxes,\n",
    "         fontsize=40, color='gray', alpha=0.3,\n",
    "         ha='center', va='center', rotation=30)\n",
    "    plt.text(0.99, 1.05, datetime.now().strftime('%d-%m-%Y %H:%M:%S'),\n",
    "         transform=plt.gca().transAxes,\n",
    "         fontsize=12, color='gray', alpha=0.7,\n",
    "         ha='right', va='bottom')\n",
    "    # plt.show()\n",
    "    plt.savefig(os.path.join(directory, 'Volatilitas-' + get_time_stamp() + '.png'), dpi=300, bbox_inches='tight')\n",
    "    plt.close()"
   ],
   "id": "805ecdd0089dea66",
   "outputs": [],
   "execution_count": 18
  },
  {
   "metadata": {
    "ExecuteTime": {
     "end_time": "2025-04-21T21:36:54.807817Z",
     "start_time": "2025-04-21T21:36:54.800154Z"
    }
   },
   "cell_type": "code",
   "source": [
    "def show_chart_return_mean_per_std(df) :\n",
    "    if 'Label' not in df.columns:\n",
    "        return\n",
    "    width = width_ratio * len(df['Label'])\n",
    "    plt.figure(figsize=(width, 6))\n",
    "    plt.scatter(df['Label'], df['Data'], color='blue')\n",
    "    plt.axhline(0, linestyle='--', alpha=0.5, color='red', label='0')\n",
    "    plt.title('Rata-Rata Return Per Volatilitas Pair BTC')\n",
    "    plt.xlabel('Ticker')\n",
    "    plt.ylabel('Rata-Rata Return Per Volatilitas')\n",
    "    plt.xticks(rotation=90)\n",
    "    plt.legend()\n",
    "    plt.grid(True)\n",
    "    plt.text(0.5, 0.5, 'Generated by Yoga',\n",
    "         transform=plt.gca().transAxes,\n",
    "         fontsize=40, color='gray', alpha=0.3,\n",
    "         ha='center', va='center', rotation=30)\n",
    "    plt.text(0.99, 1.05, datetime.now().strftime('%d-%m-%Y %H:%M:%S'),\n",
    "         transform=plt.gca().transAxes,\n",
    "         fontsize=12, color='gray', alpha=0.7,\n",
    "         ha='right', va='bottom')\n",
    "    # plt.show()\n",
    "    plt.savefig(os.path.join(directory, 'Rata-Rata Return Per Volatilitas-' + get_time_stamp() + '.png'), dpi=300, bbox_inches='tight')\n",
    "    plt.close()"
   ],
   "id": "29752704e572ff33",
   "outputs": [],
   "execution_count": 19
  },
  {
   "metadata": {
    "ExecuteTime": {
     "end_time": "2025-04-21T21:36:54.838599Z",
     "start_time": "2025-04-21T21:36:54.825885Z"
    }
   },
   "cell_type": "code",
   "source": [
    "def show_multiple_chart(tickers, df_btc_usdt_local, show_individual_chart=False) :\n",
    "    rsi_list = []\n",
    "    beta_list = []\n",
    "    correl_list = []\n",
    "    latest_change_1d_list = []\n",
    "    latest_change_7d_list = []\n",
    "    latest_change_30d_list = []\n",
    "    return_mean_list = []\n",
    "    return_std_list = []\n",
    "    return_mean_per_std_list = []\n",
    "    tickers.sort()\n",
    "\n",
    "    for i, ticker in enumerate(tickers) :\n",
    "        print('Processing ' + ticker + '...')\n",
    "        will_show = False\n",
    "        description = ''\n",
    "        df_coin_usdt = get_df_from_ticker(ticker, time_frame, time_from_ms, time_to_ms)\n",
    "        if df_coin_usdt is None or df_coin_usdt.empty :\n",
    "            print('Skipped ' + ticker + '...')\n",
    "            continue\n",
    "        df_btc_pair = get_history_btc_pair(ticker, df_coin_usdt, df_btc_usdt_local)\n",
    "        if show_individual_chart :\n",
    "            show_chart(df_btc_pair, ticker)\n",
    "\n",
    "        if 'RSI_14' in df_btc_pair.columns :\n",
    "            latest_rsi = df_btc_pair['RSI_14'].iloc[-1]\n",
    "            if not pd.isna(latest_rsi) :\n",
    "                rsi_list.append({'Label': ticker, 'RSI_14': latest_rsi})\n",
    "            if latest_rsi < 30 :\n",
    "                will_show = True\n",
    "                description = 'Low RSI'\n",
    "            if latest_rsi > 70 :\n",
    "                will_show = True\n",
    "                description = 'High RSI'\n",
    "\n",
    "        if 'Beta' in df_btc_pair.columns :\n",
    "            latest_beta = df_btc_pair['Beta'].iloc[-1]\n",
    "            if not pd.isna(latest_beta) :\n",
    "                beta_list.append({'Label': ticker, 'Beta': latest_beta})\n",
    "            if latest_beta < 0 :\n",
    "                will_show = True\n",
    "                description = 'Negative Beta'\n",
    "\n",
    "        if 'Correl' in df_btc_pair.columns :\n",
    "            latest_correl = df_btc_pair['Correl'].iloc[-1]\n",
    "            if not pd.isna(latest_correl) :\n",
    "                correl_list.append({'Label': ticker, 'Correl': latest_correl})\n",
    "            if latest_correl < 0 :\n",
    "                will_show = True\n",
    "                description = 'Negative Correlation'\n",
    "\n",
    "        # if will_show and not show_individual_chart :\n",
    "            # print(description)\n",
    "            # show_chart(df_btc_pair, ticker)\n",
    "\n",
    "        latest_change_1d = df_btc_pair['Change1D'].iloc[-1]\n",
    "        latest_change_7d = df_btc_pair['Change7D'].iloc[-1]\n",
    "        latest_change_30d = df_btc_pair['Change30D'].iloc[-1]\n",
    "\n",
    "        if not pd.isna(latest_change_1d) :\n",
    "            latest_change_1d_list.append({'Label': ticker, 'Data': latest_change_1d})\n",
    "        if not pd.isna(latest_change_7d) :\n",
    "            latest_change_7d_list.append({'Label': ticker, 'Data': latest_change_7d})\n",
    "        if not pd.isna(latest_change_30d) :\n",
    "            latest_change_30d_list.append({'Label': ticker, 'Data': latest_change_30d})\n",
    "\n",
    "        return_mean = df_btc_pair['Return'].mean()\n",
    "        return_std = df_btc_pair['Return'].std()\n",
    "        return_mean_per_std = return_mean/return_std\n",
    "\n",
    "        return_mean_list.append({'Label': ticker, 'Data': return_mean*100})\n",
    "        return_std_list.append({'Label': ticker, 'Data': return_std})\n",
    "        return_mean_per_std_list.append({'Label': ticker, 'Data': return_mean_per_std})\n",
    "\n",
    "\n",
    "    rsi_list = sorted(rsi_list, key=lambda x: x['RSI_14'])\n",
    "    rsi_df = pd.DataFrame(rsi_list)\n",
    "    show_chart_rsi(rsi_df)\n",
    "\n",
    "    beta_list = sorted(beta_list, key=lambda x: x['Beta'])\n",
    "    beta_df = pd.DataFrame(beta_list)\n",
    "    show_chart_beta(beta_df)\n",
    "\n",
    "    correl_list = sorted(correl_list, key=lambda x: x['Correl'])\n",
    "    corr_df = pd.DataFrame(correl_list)\n",
    "    show_chart_correl(corr_df)\n",
    "\n",
    "    latest_change_1d_list = sorted(latest_change_1d_list, key=lambda x: x['Data'])\n",
    "    latest_change_1d_list_df = pd.DataFrame(latest_change_1d_list)\n",
    "    show_chart_change(latest_change_1d_list_df, 'Perubahan 1 Hari Terhadap BTC')\n",
    "\n",
    "    latest_change_7d_list = sorted(latest_change_7d_list, key=lambda x: x['Data'])\n",
    "    latest_change_7d_list_df = pd.DataFrame(latest_change_7d_list)\n",
    "    show_chart_change(latest_change_7d_list_df, 'Perubahan 7 Hari Terhadap BTC')\n",
    "\n",
    "    latest_change_30d_list = sorted(latest_change_30d_list, key=lambda x: x['Data'])\n",
    "    latest_change_30d_list_df = pd.DataFrame(latest_change_30d_list)\n",
    "    show_chart_change(latest_change_30d_list_df, 'Perubahan 30 Hari Terhadap BTC')\n",
    "\n",
    "    return_mean_list = sorted(return_mean_list, key=lambda x: x['Data'])\n",
    "    return_mean_list_df = pd.DataFrame(return_mean_list)\n",
    "    show_chart_return_mean(return_mean_list_df)\n",
    "\n",
    "    return_std_list = sorted(return_std_list, key=lambda x: x['Data'])\n",
    "    return_std_list_df = pd.DataFrame(return_std_list)\n",
    "    show_chart_return_std(return_std_list_df)\n",
    "\n",
    "    return_mean_per_std_list = sorted(return_mean_per_std_list, key=lambda x: x['Data'])\n",
    "    return_mean_per_std_list_df = pd.DataFrame(return_mean_per_std_list)\n",
    "    show_chart_return_mean_per_std(return_mean_per_std_list_df)\n",
    "\n",
    "    excel_file = os.path.join(directory, 'price_bitget-' + get_time_stamp() + '.xlsx')\n",
    "    with pd.ExcelWriter(excel_file) as writer:\n",
    "        rsi_df.to_excel(writer, sheet_name='RSI', index=False)\n",
    "        beta_df.to_excel(writer, sheet_name='Beta', index=False)\n",
    "        corr_df.to_excel(writer, sheet_name='Correlation', index=False)\n",
    "        latest_change_1d_list_df.to_excel(writer, sheet_name='Change 1D', index=False)\n",
    "        latest_change_7d_list_df.to_excel(writer, sheet_name='Change 7D', index=False)\n",
    "        latest_change_30d_list_df.to_excel(writer, sheet_name='Change 30D', index=False)\n",
    "        return_mean_list_df.to_excel(writer, sheet_name='Return Mean', index=False)\n",
    "        return_std_list_df.to_excel(writer, sheet_name='Volatility', index=False)\n",
    "        return_mean_per_std_list_df.to_excel(writer, sheet_name='Return Mean Per Volatility', index=False)"
   ],
   "id": "55ef453da56462af",
   "outputs": [],
   "execution_count": 20
  },
  {
   "metadata": {
    "ExecuteTime": {
     "end_time": "2025-04-21T21:38:24.224071Z",
     "start_time": "2025-04-21T21:36:54.861383Z"
    }
   },
   "cell_type": "code",
   "source": [
    "tickers = [symbol.removesuffix('USDT') for symbol in symbols]\n",
    "\n",
    "show_multiple_chart(tickers, df_btc_usdt, True)"
   ],
   "id": "a7c911fafe50301a",
   "outputs": [
    {
     "name": "stdout",
     "output_type": "stream",
     "text": [
      "Processing 0X0...\n",
      "Processing 1INCH...\n",
      "Processing A8...\n",
      "Processing AARK...\n",
      "Processing AAVE...\n",
      "Processing AB...\n",
      "Processing ACA...\n",
      "Processing ACE...\n",
      "Processing ACH...\n",
      "Processing ACM...\n",
      "Processing ACT...\n",
      "Processing ACX...\n",
      "Processing ADA...\n",
      "Processing AERGO...\n",
      "Processing AERO...\n",
      "Processing AEVO...\n",
      "Processing AFC...\n",
      "Processing AGLD...\n",
      "Processing AI...\n",
      "Processing AI16Z...\n",
      "Processing AIDOGE...\n",
      "Processing AIN...\n",
      "Processing AITECH...\n",
      "Processing AIXBT...\n",
      "Processing AL...\n",
      "Processing ALCH...\n",
      "Processing ALE...\n",
      "Processing ALEX...\n",
      "Processing ALGO...\n",
      "Processing ALICE...\n",
      "Processing ALPACA...\n",
      "Processing ALPH...\n",
      "Processing ALPHA...\n",
      "Processing ALPINE...\n",
      "Processing ALT...\n",
      "Processing ALU...\n",
      "Processing AMP...\n",
      "Processing ANIME...\n",
      "Processing ANKR...\n",
      "Processing ANLOG...\n",
      "Processing ANYONE...\n",
      "Processing APE...\n"
     ]
    },
    {
     "ename": "KeyboardInterrupt",
     "evalue": "",
     "output_type": "error",
     "traceback": [
      "\u001B[31m---------------------------------------------------------------------------\u001B[39m",
      "\u001B[31mKeyboardInterrupt\u001B[39m                         Traceback (most recent call last)",
      "\u001B[36mCell\u001B[39m\u001B[36m \u001B[39m\u001B[32mIn[21]\u001B[39m\u001B[32m, line 3\u001B[39m\n\u001B[32m      1\u001B[39m tickers = [symbol.removesuffix(\u001B[33m'\u001B[39m\u001B[33mUSDT\u001B[39m\u001B[33m'\u001B[39m) \u001B[38;5;28;01mfor\u001B[39;00m symbol \u001B[38;5;129;01min\u001B[39;00m symbols]\n\u001B[32m----> \u001B[39m\u001B[32m3\u001B[39m \u001B[43mshow_multiple_chart\u001B[49m\u001B[43m(\u001B[49m\u001B[43mtickers\u001B[49m\u001B[43m,\u001B[49m\u001B[43m \u001B[49m\u001B[43mdf_btc_usdt\u001B[49m\u001B[43m,\u001B[49m\u001B[43m \u001B[49m\u001B[38;5;28;43;01mTrue\u001B[39;49;00m\u001B[43m)\u001B[49m\n",
      "\u001B[36mCell\u001B[39m\u001B[36m \u001B[39m\u001B[32mIn[20]\u001B[39m\u001B[32m, line 17\u001B[39m, in \u001B[36mshow_multiple_chart\u001B[39m\u001B[34m(tickers, df_btc_usdt_local, show_individual_chart)\u001B[39m\n\u001B[32m     15\u001B[39m will_show = \u001B[38;5;28;01mFalse\u001B[39;00m\n\u001B[32m     16\u001B[39m description = \u001B[33m'\u001B[39m\u001B[33m'\u001B[39m\n\u001B[32m---> \u001B[39m\u001B[32m17\u001B[39m df_coin_usdt = \u001B[43mget_df_from_ticker\u001B[49m\u001B[43m(\u001B[49m\u001B[43mticker\u001B[49m\u001B[43m,\u001B[49m\u001B[43m \u001B[49m\u001B[43mtime_frame\u001B[49m\u001B[43m,\u001B[49m\u001B[43m \u001B[49m\u001B[43mtime_from_ms\u001B[49m\u001B[43m,\u001B[49m\u001B[43m \u001B[49m\u001B[43mtime_to_ms\u001B[49m\u001B[43m)\u001B[49m\n\u001B[32m     18\u001B[39m \u001B[38;5;28;01mif\u001B[39;00m df_coin_usdt \u001B[38;5;129;01mis\u001B[39;00m \u001B[38;5;28;01mNone\u001B[39;00m \u001B[38;5;129;01mor\u001B[39;00m df_coin_usdt.empty :\n\u001B[32m     19\u001B[39m     \u001B[38;5;28mprint\u001B[39m(\u001B[33m'\u001B[39m\u001B[33mSkipped \u001B[39m\u001B[33m'\u001B[39m + ticker + \u001B[33m'\u001B[39m\u001B[33m...\u001B[39m\u001B[33m'\u001B[39m)\n",
      "\u001B[36mCell\u001B[39m\u001B[36m \u001B[39m\u001B[32mIn[8]\u001B[39m\u001B[32m, line 2\u001B[39m, in \u001B[36mget_df_from_ticker\u001B[39m\u001B[34m(ticker_name, granularity, time_from, time_to)\u001B[39m\n\u001B[32m      1\u001B[39m \u001B[38;5;28;01mdef\u001B[39;00m\u001B[38;5;250m \u001B[39m\u001B[34mget_df_from_ticker\u001B[39m(ticker_name, granularity, time_from, time_to) :\n\u001B[32m----> \u001B[39m\u001B[32m2\u001B[39m     ticker = \u001B[43mget_ticker\u001B[49m\u001B[43m(\u001B[49m\u001B[43mticker_name\u001B[49m\u001B[43m \u001B[49m\u001B[43m+\u001B[49m\u001B[43m \u001B[49m\u001B[33;43m'\u001B[39;49m\u001B[33;43mUSDT\u001B[39;49m\u001B[33;43m'\u001B[39;49m\u001B[43m,\u001B[49m\u001B[43m \u001B[49m\u001B[43mgranularity\u001B[49m\u001B[43m,\u001B[49m\u001B[43m \u001B[49m\u001B[43mtime_from\u001B[49m\u001B[43m,\u001B[49m\u001B[43m \u001B[49m\u001B[43mtime_to\u001B[49m\u001B[43m)\u001B[49m\n\u001B[32m      3\u001B[39m     \u001B[38;5;28;01mif\u001B[39;00m \u001B[38;5;28mlen\u001B[39m(ticker[\u001B[33m'\u001B[39m\u001B[33mdata\u001B[39m\u001B[33m'\u001B[39m]) == \u001B[32m0\u001B[39m :\n\u001B[32m      4\u001B[39m         \u001B[38;5;28;01mreturn\u001B[39;00m \u001B[38;5;28;01mNone\u001B[39;00m\n",
      "\u001B[36mCell\u001B[39m\u001B[36m \u001B[39m\u001B[32mIn[5]\u001B[39m\u001B[32m, line 3\u001B[39m, in \u001B[36mget_ticker\u001B[39m\u001B[34m(symbol, granularity, time_from, time_to)\u001B[39m\n\u001B[32m      1\u001B[39m \u001B[38;5;28;01mdef\u001B[39;00m\u001B[38;5;250m \u001B[39m\u001B[34mget_ticker\u001B[39m(symbol, granularity, time_from, time_to) :\n\u001B[32m      2\u001B[39m     request_str = \u001B[33m'\u001B[39m\u001B[33mhttps://api.bitget.com/api/v2/spot/market/candles\u001B[39m\u001B[33m'\u001B[39m + \u001B[33m'\u001B[39m\u001B[33m?symbol=\u001B[39m\u001B[33m'\u001B[39m + symbol + \u001B[33m'\u001B[39m\u001B[33m&granularity=\u001B[39m\u001B[33m'\u001B[39m + granularity + \u001B[33m'\u001B[39m\u001B[33m&startTime=\u001B[39m\u001B[33m'\u001B[39m + \u001B[38;5;28mstr\u001B[39m(time_from) + \u001B[33m'\u001B[39m\u001B[33m&endTime=\u001B[39m\u001B[33m'\u001B[39m + \u001B[38;5;28mstr\u001B[39m(time_to) + \u001B[33m'\u001B[39m\u001B[33m&limit=1000\u001B[39m\u001B[33m'\u001B[39m\n\u001B[32m----> \u001B[39m\u001B[32m3\u001B[39m     \u001B[38;5;28;01mreturn\u001B[39;00m \u001B[43mrequests\u001B[49m\u001B[43m.\u001B[49m\u001B[43mget\u001B[49m\u001B[43m(\u001B[49m\u001B[43mrequest_str\u001B[49m\u001B[43m)\u001B[49m.json()\n",
      "\u001B[36mFile \u001B[39m\u001B[32m~\\PycharmProjects\\crypto-price\\.venv\\Lib\\site-packages\\requests\\api.py:73\u001B[39m, in \u001B[36mget\u001B[39m\u001B[34m(url, params, **kwargs)\u001B[39m\n\u001B[32m     62\u001B[39m \u001B[38;5;28;01mdef\u001B[39;00m\u001B[38;5;250m \u001B[39m\u001B[34mget\u001B[39m(url, params=\u001B[38;5;28;01mNone\u001B[39;00m, **kwargs):\n\u001B[32m     63\u001B[39m \u001B[38;5;250m    \u001B[39m\u001B[33mr\u001B[39m\u001B[33;03m\"\"\"Sends a GET request.\u001B[39;00m\n\u001B[32m     64\u001B[39m \n\u001B[32m     65\u001B[39m \u001B[33;03m    :param url: URL for the new :class:`Request` object.\u001B[39;00m\n\u001B[32m   (...)\u001B[39m\u001B[32m     70\u001B[39m \u001B[33;03m    :rtype: requests.Response\u001B[39;00m\n\u001B[32m     71\u001B[39m \u001B[33;03m    \"\"\"\u001B[39;00m\n\u001B[32m---> \u001B[39m\u001B[32m73\u001B[39m     \u001B[38;5;28;01mreturn\u001B[39;00m \u001B[43mrequest\u001B[49m\u001B[43m(\u001B[49m\u001B[33;43m\"\u001B[39;49m\u001B[33;43mget\u001B[39;49m\u001B[33;43m\"\u001B[39;49m\u001B[43m,\u001B[49m\u001B[43m \u001B[49m\u001B[43murl\u001B[49m\u001B[43m,\u001B[49m\u001B[43m \u001B[49m\u001B[43mparams\u001B[49m\u001B[43m=\u001B[49m\u001B[43mparams\u001B[49m\u001B[43m,\u001B[49m\u001B[43m \u001B[49m\u001B[43m*\u001B[49m\u001B[43m*\u001B[49m\u001B[43mkwargs\u001B[49m\u001B[43m)\u001B[49m\n",
      "\u001B[36mFile \u001B[39m\u001B[32m~\\PycharmProjects\\crypto-price\\.venv\\Lib\\site-packages\\requests\\api.py:59\u001B[39m, in \u001B[36mrequest\u001B[39m\u001B[34m(method, url, **kwargs)\u001B[39m\n\u001B[32m     55\u001B[39m \u001B[38;5;66;03m# By using the 'with' statement we are sure the session is closed, thus we\u001B[39;00m\n\u001B[32m     56\u001B[39m \u001B[38;5;66;03m# avoid leaving sockets open which can trigger a ResourceWarning in some\u001B[39;00m\n\u001B[32m     57\u001B[39m \u001B[38;5;66;03m# cases, and look like a memory leak in others.\u001B[39;00m\n\u001B[32m     58\u001B[39m \u001B[38;5;28;01mwith\u001B[39;00m sessions.Session() \u001B[38;5;28;01mas\u001B[39;00m session:\n\u001B[32m---> \u001B[39m\u001B[32m59\u001B[39m     \u001B[38;5;28;01mreturn\u001B[39;00m \u001B[43msession\u001B[49m\u001B[43m.\u001B[49m\u001B[43mrequest\u001B[49m\u001B[43m(\u001B[49m\u001B[43mmethod\u001B[49m\u001B[43m=\u001B[49m\u001B[43mmethod\u001B[49m\u001B[43m,\u001B[49m\u001B[43m \u001B[49m\u001B[43murl\u001B[49m\u001B[43m=\u001B[49m\u001B[43murl\u001B[49m\u001B[43m,\u001B[49m\u001B[43m \u001B[49m\u001B[43m*\u001B[49m\u001B[43m*\u001B[49m\u001B[43mkwargs\u001B[49m\u001B[43m)\u001B[49m\n",
      "\u001B[36mFile \u001B[39m\u001B[32m~\\PycharmProjects\\crypto-price\\.venv\\Lib\\site-packages\\requests\\sessions.py:589\u001B[39m, in \u001B[36mSession.request\u001B[39m\u001B[34m(self, method, url, params, data, headers, cookies, files, auth, timeout, allow_redirects, proxies, hooks, stream, verify, cert, json)\u001B[39m\n\u001B[32m    584\u001B[39m send_kwargs = {\n\u001B[32m    585\u001B[39m     \u001B[33m\"\u001B[39m\u001B[33mtimeout\u001B[39m\u001B[33m\"\u001B[39m: timeout,\n\u001B[32m    586\u001B[39m     \u001B[33m\"\u001B[39m\u001B[33mallow_redirects\u001B[39m\u001B[33m\"\u001B[39m: allow_redirects,\n\u001B[32m    587\u001B[39m }\n\u001B[32m    588\u001B[39m send_kwargs.update(settings)\n\u001B[32m--> \u001B[39m\u001B[32m589\u001B[39m resp = \u001B[38;5;28;43mself\u001B[39;49m\u001B[43m.\u001B[49m\u001B[43msend\u001B[49m\u001B[43m(\u001B[49m\u001B[43mprep\u001B[49m\u001B[43m,\u001B[49m\u001B[43m \u001B[49m\u001B[43m*\u001B[49m\u001B[43m*\u001B[49m\u001B[43msend_kwargs\u001B[49m\u001B[43m)\u001B[49m\n\u001B[32m    591\u001B[39m \u001B[38;5;28;01mreturn\u001B[39;00m resp\n",
      "\u001B[36mFile \u001B[39m\u001B[32m~\\PycharmProjects\\crypto-price\\.venv\\Lib\\site-packages\\requests\\sessions.py:703\u001B[39m, in \u001B[36mSession.send\u001B[39m\u001B[34m(self, request, **kwargs)\u001B[39m\n\u001B[32m    700\u001B[39m start = preferred_clock()\n\u001B[32m    702\u001B[39m \u001B[38;5;66;03m# Send the request\u001B[39;00m\n\u001B[32m--> \u001B[39m\u001B[32m703\u001B[39m r = \u001B[43madapter\u001B[49m\u001B[43m.\u001B[49m\u001B[43msend\u001B[49m\u001B[43m(\u001B[49m\u001B[43mrequest\u001B[49m\u001B[43m,\u001B[49m\u001B[43m \u001B[49m\u001B[43m*\u001B[49m\u001B[43m*\u001B[49m\u001B[43mkwargs\u001B[49m\u001B[43m)\u001B[49m\n\u001B[32m    705\u001B[39m \u001B[38;5;66;03m# Total elapsed time of the request (approximately)\u001B[39;00m\n\u001B[32m    706\u001B[39m elapsed = preferred_clock() - start\n",
      "\u001B[36mFile \u001B[39m\u001B[32m~\\PycharmProjects\\crypto-price\\.venv\\Lib\\site-packages\\requests\\adapters.py:667\u001B[39m, in \u001B[36mHTTPAdapter.send\u001B[39m\u001B[34m(self, request, stream, timeout, verify, cert, proxies)\u001B[39m\n\u001B[32m    664\u001B[39m     timeout = TimeoutSauce(connect=timeout, read=timeout)\n\u001B[32m    666\u001B[39m \u001B[38;5;28;01mtry\u001B[39;00m:\n\u001B[32m--> \u001B[39m\u001B[32m667\u001B[39m     resp = \u001B[43mconn\u001B[49m\u001B[43m.\u001B[49m\u001B[43murlopen\u001B[49m\u001B[43m(\u001B[49m\n\u001B[32m    668\u001B[39m \u001B[43m        \u001B[49m\u001B[43mmethod\u001B[49m\u001B[43m=\u001B[49m\u001B[43mrequest\u001B[49m\u001B[43m.\u001B[49m\u001B[43mmethod\u001B[49m\u001B[43m,\u001B[49m\n\u001B[32m    669\u001B[39m \u001B[43m        \u001B[49m\u001B[43murl\u001B[49m\u001B[43m=\u001B[49m\u001B[43murl\u001B[49m\u001B[43m,\u001B[49m\n\u001B[32m    670\u001B[39m \u001B[43m        \u001B[49m\u001B[43mbody\u001B[49m\u001B[43m=\u001B[49m\u001B[43mrequest\u001B[49m\u001B[43m.\u001B[49m\u001B[43mbody\u001B[49m\u001B[43m,\u001B[49m\n\u001B[32m    671\u001B[39m \u001B[43m        \u001B[49m\u001B[43mheaders\u001B[49m\u001B[43m=\u001B[49m\u001B[43mrequest\u001B[49m\u001B[43m.\u001B[49m\u001B[43mheaders\u001B[49m\u001B[43m,\u001B[49m\n\u001B[32m    672\u001B[39m \u001B[43m        \u001B[49m\u001B[43mredirect\u001B[49m\u001B[43m=\u001B[49m\u001B[38;5;28;43;01mFalse\u001B[39;49;00m\u001B[43m,\u001B[49m\n\u001B[32m    673\u001B[39m \u001B[43m        \u001B[49m\u001B[43massert_same_host\u001B[49m\u001B[43m=\u001B[49m\u001B[38;5;28;43;01mFalse\u001B[39;49;00m\u001B[43m,\u001B[49m\n\u001B[32m    674\u001B[39m \u001B[43m        \u001B[49m\u001B[43mpreload_content\u001B[49m\u001B[43m=\u001B[49m\u001B[38;5;28;43;01mFalse\u001B[39;49;00m\u001B[43m,\u001B[49m\n\u001B[32m    675\u001B[39m \u001B[43m        \u001B[49m\u001B[43mdecode_content\u001B[49m\u001B[43m=\u001B[49m\u001B[38;5;28;43;01mFalse\u001B[39;49;00m\u001B[43m,\u001B[49m\n\u001B[32m    676\u001B[39m \u001B[43m        \u001B[49m\u001B[43mretries\u001B[49m\u001B[43m=\u001B[49m\u001B[38;5;28;43mself\u001B[39;49m\u001B[43m.\u001B[49m\u001B[43mmax_retries\u001B[49m\u001B[43m,\u001B[49m\n\u001B[32m    677\u001B[39m \u001B[43m        \u001B[49m\u001B[43mtimeout\u001B[49m\u001B[43m=\u001B[49m\u001B[43mtimeout\u001B[49m\u001B[43m,\u001B[49m\n\u001B[32m    678\u001B[39m \u001B[43m        \u001B[49m\u001B[43mchunked\u001B[49m\u001B[43m=\u001B[49m\u001B[43mchunked\u001B[49m\u001B[43m,\u001B[49m\n\u001B[32m    679\u001B[39m \u001B[43m    \u001B[49m\u001B[43m)\u001B[49m\n\u001B[32m    681\u001B[39m \u001B[38;5;28;01mexcept\u001B[39;00m (ProtocolError, \u001B[38;5;167;01mOSError\u001B[39;00m) \u001B[38;5;28;01mas\u001B[39;00m err:\n\u001B[32m    682\u001B[39m     \u001B[38;5;28;01mraise\u001B[39;00m \u001B[38;5;167;01mConnectionError\u001B[39;00m(err, request=request)\n",
      "\u001B[36mFile \u001B[39m\u001B[32m~\\PycharmProjects\\crypto-price\\.venv\\Lib\\site-packages\\urllib3\\connectionpool.py:787\u001B[39m, in \u001B[36mHTTPConnectionPool.urlopen\u001B[39m\u001B[34m(self, method, url, body, headers, retries, redirect, assert_same_host, timeout, pool_timeout, release_conn, chunked, body_pos, preload_content, decode_content, **response_kw)\u001B[39m\n\u001B[32m    784\u001B[39m response_conn = conn \u001B[38;5;28;01mif\u001B[39;00m \u001B[38;5;129;01mnot\u001B[39;00m release_conn \u001B[38;5;28;01melse\u001B[39;00m \u001B[38;5;28;01mNone\u001B[39;00m\n\u001B[32m    786\u001B[39m \u001B[38;5;66;03m# Make the request on the HTTPConnection object\u001B[39;00m\n\u001B[32m--> \u001B[39m\u001B[32m787\u001B[39m response = \u001B[38;5;28;43mself\u001B[39;49m\u001B[43m.\u001B[49m\u001B[43m_make_request\u001B[49m\u001B[43m(\u001B[49m\n\u001B[32m    788\u001B[39m \u001B[43m    \u001B[49m\u001B[43mconn\u001B[49m\u001B[43m,\u001B[49m\n\u001B[32m    789\u001B[39m \u001B[43m    \u001B[49m\u001B[43mmethod\u001B[49m\u001B[43m,\u001B[49m\n\u001B[32m    790\u001B[39m \u001B[43m    \u001B[49m\u001B[43murl\u001B[49m\u001B[43m,\u001B[49m\n\u001B[32m    791\u001B[39m \u001B[43m    \u001B[49m\u001B[43mtimeout\u001B[49m\u001B[43m=\u001B[49m\u001B[43mtimeout_obj\u001B[49m\u001B[43m,\u001B[49m\n\u001B[32m    792\u001B[39m \u001B[43m    \u001B[49m\u001B[43mbody\u001B[49m\u001B[43m=\u001B[49m\u001B[43mbody\u001B[49m\u001B[43m,\u001B[49m\n\u001B[32m    793\u001B[39m \u001B[43m    \u001B[49m\u001B[43mheaders\u001B[49m\u001B[43m=\u001B[49m\u001B[43mheaders\u001B[49m\u001B[43m,\u001B[49m\n\u001B[32m    794\u001B[39m \u001B[43m    \u001B[49m\u001B[43mchunked\u001B[49m\u001B[43m=\u001B[49m\u001B[43mchunked\u001B[49m\u001B[43m,\u001B[49m\n\u001B[32m    795\u001B[39m \u001B[43m    \u001B[49m\u001B[43mretries\u001B[49m\u001B[43m=\u001B[49m\u001B[43mretries\u001B[49m\u001B[43m,\u001B[49m\n\u001B[32m    796\u001B[39m \u001B[43m    \u001B[49m\u001B[43mresponse_conn\u001B[49m\u001B[43m=\u001B[49m\u001B[43mresponse_conn\u001B[49m\u001B[43m,\u001B[49m\n\u001B[32m    797\u001B[39m \u001B[43m    \u001B[49m\u001B[43mpreload_content\u001B[49m\u001B[43m=\u001B[49m\u001B[43mpreload_content\u001B[49m\u001B[43m,\u001B[49m\n\u001B[32m    798\u001B[39m \u001B[43m    \u001B[49m\u001B[43mdecode_content\u001B[49m\u001B[43m=\u001B[49m\u001B[43mdecode_content\u001B[49m\u001B[43m,\u001B[49m\n\u001B[32m    799\u001B[39m \u001B[43m    \u001B[49m\u001B[43m*\u001B[49m\u001B[43m*\u001B[49m\u001B[43mresponse_kw\u001B[49m\u001B[43m,\u001B[49m\n\u001B[32m    800\u001B[39m \u001B[43m\u001B[49m\u001B[43m)\u001B[49m\n\u001B[32m    802\u001B[39m \u001B[38;5;66;03m# Everything went great!\u001B[39;00m\n\u001B[32m    803\u001B[39m clean_exit = \u001B[38;5;28;01mTrue\u001B[39;00m\n",
      "\u001B[36mFile \u001B[39m\u001B[32m~\\PycharmProjects\\crypto-price\\.venv\\Lib\\site-packages\\urllib3\\connectionpool.py:534\u001B[39m, in \u001B[36mHTTPConnectionPool._make_request\u001B[39m\u001B[34m(self, conn, method, url, body, headers, retries, timeout, chunked, response_conn, preload_content, decode_content, enforce_content_length)\u001B[39m\n\u001B[32m    532\u001B[39m \u001B[38;5;66;03m# Receive the response from the server\u001B[39;00m\n\u001B[32m    533\u001B[39m \u001B[38;5;28;01mtry\u001B[39;00m:\n\u001B[32m--> \u001B[39m\u001B[32m534\u001B[39m     response = \u001B[43mconn\u001B[49m\u001B[43m.\u001B[49m\u001B[43mgetresponse\u001B[49m\u001B[43m(\u001B[49m\u001B[43m)\u001B[49m\n\u001B[32m    535\u001B[39m \u001B[38;5;28;01mexcept\u001B[39;00m (BaseSSLError, \u001B[38;5;167;01mOSError\u001B[39;00m) \u001B[38;5;28;01mas\u001B[39;00m e:\n\u001B[32m    536\u001B[39m     \u001B[38;5;28mself\u001B[39m._raise_timeout(err=e, url=url, timeout_value=read_timeout)\n",
      "\u001B[36mFile \u001B[39m\u001B[32m~\\PycharmProjects\\crypto-price\\.venv\\Lib\\site-packages\\urllib3\\connection.py:516\u001B[39m, in \u001B[36mHTTPConnection.getresponse\u001B[39m\u001B[34m(self)\u001B[39m\n\u001B[32m    513\u001B[39m _shutdown = \u001B[38;5;28mgetattr\u001B[39m(\u001B[38;5;28mself\u001B[39m.sock, \u001B[33m\"\u001B[39m\u001B[33mshutdown\u001B[39m\u001B[33m\"\u001B[39m, \u001B[38;5;28;01mNone\u001B[39;00m)\n\u001B[32m    515\u001B[39m \u001B[38;5;66;03m# Get the response from http.client.HTTPConnection\u001B[39;00m\n\u001B[32m--> \u001B[39m\u001B[32m516\u001B[39m httplib_response = \u001B[38;5;28;43msuper\u001B[39;49m\u001B[43m(\u001B[49m\u001B[43m)\u001B[49m\u001B[43m.\u001B[49m\u001B[43mgetresponse\u001B[49m\u001B[43m(\u001B[49m\u001B[43m)\u001B[49m\n\u001B[32m    518\u001B[39m \u001B[38;5;28;01mtry\u001B[39;00m:\n\u001B[32m    519\u001B[39m     assert_header_parsing(httplib_response.msg)\n",
      "\u001B[36mFile \u001B[39m\u001B[32m~\\AppData\\Local\\Programs\\Python\\Python313\\Lib\\http\\client.py:1430\u001B[39m, in \u001B[36mHTTPConnection.getresponse\u001B[39m\u001B[34m(self)\u001B[39m\n\u001B[32m   1428\u001B[39m \u001B[38;5;28;01mtry\u001B[39;00m:\n\u001B[32m   1429\u001B[39m     \u001B[38;5;28;01mtry\u001B[39;00m:\n\u001B[32m-> \u001B[39m\u001B[32m1430\u001B[39m         \u001B[43mresponse\u001B[49m\u001B[43m.\u001B[49m\u001B[43mbegin\u001B[49m\u001B[43m(\u001B[49m\u001B[43m)\u001B[49m\n\u001B[32m   1431\u001B[39m     \u001B[38;5;28;01mexcept\u001B[39;00m \u001B[38;5;167;01mConnectionError\u001B[39;00m:\n\u001B[32m   1432\u001B[39m         \u001B[38;5;28mself\u001B[39m.close()\n",
      "\u001B[36mFile \u001B[39m\u001B[32m~\\AppData\\Local\\Programs\\Python\\Python313\\Lib\\http\\client.py:331\u001B[39m, in \u001B[36mHTTPResponse.begin\u001B[39m\u001B[34m(self)\u001B[39m\n\u001B[32m    329\u001B[39m \u001B[38;5;66;03m# read until we get a non-100 response\u001B[39;00m\n\u001B[32m    330\u001B[39m \u001B[38;5;28;01mwhile\u001B[39;00m \u001B[38;5;28;01mTrue\u001B[39;00m:\n\u001B[32m--> \u001B[39m\u001B[32m331\u001B[39m     version, status, reason = \u001B[38;5;28;43mself\u001B[39;49m\u001B[43m.\u001B[49m\u001B[43m_read_status\u001B[49m\u001B[43m(\u001B[49m\u001B[43m)\u001B[49m\n\u001B[32m    332\u001B[39m     \u001B[38;5;28;01mif\u001B[39;00m status != CONTINUE:\n\u001B[32m    333\u001B[39m         \u001B[38;5;28;01mbreak\u001B[39;00m\n",
      "\u001B[36mFile \u001B[39m\u001B[32m~\\AppData\\Local\\Programs\\Python\\Python313\\Lib\\http\\client.py:292\u001B[39m, in \u001B[36mHTTPResponse._read_status\u001B[39m\u001B[34m(self)\u001B[39m\n\u001B[32m    291\u001B[39m \u001B[38;5;28;01mdef\u001B[39;00m\u001B[38;5;250m \u001B[39m\u001B[34m_read_status\u001B[39m(\u001B[38;5;28mself\u001B[39m):\n\u001B[32m--> \u001B[39m\u001B[32m292\u001B[39m     line = \u001B[38;5;28mstr\u001B[39m(\u001B[38;5;28;43mself\u001B[39;49m\u001B[43m.\u001B[49m\u001B[43mfp\u001B[49m\u001B[43m.\u001B[49m\u001B[43mreadline\u001B[49m\u001B[43m(\u001B[49m\u001B[43m_MAXLINE\u001B[49m\u001B[43m \u001B[49m\u001B[43m+\u001B[49m\u001B[43m \u001B[49m\u001B[32;43m1\u001B[39;49m\u001B[43m)\u001B[49m, \u001B[33m\"\u001B[39m\u001B[33miso-8859-1\u001B[39m\u001B[33m\"\u001B[39m)\n\u001B[32m    293\u001B[39m     \u001B[38;5;28;01mif\u001B[39;00m \u001B[38;5;28mlen\u001B[39m(line) > _MAXLINE:\n\u001B[32m    294\u001B[39m         \u001B[38;5;28;01mraise\u001B[39;00m LineTooLong(\u001B[33m\"\u001B[39m\u001B[33mstatus line\u001B[39m\u001B[33m\"\u001B[39m)\n",
      "\u001B[36mFile \u001B[39m\u001B[32m~\\AppData\\Local\\Programs\\Python\\Python313\\Lib\\socket.py:719\u001B[39m, in \u001B[36mSocketIO.readinto\u001B[39m\u001B[34m(self, b)\u001B[39m\n\u001B[32m    717\u001B[39m     \u001B[38;5;28;01mraise\u001B[39;00m \u001B[38;5;167;01mOSError\u001B[39;00m(\u001B[33m\"\u001B[39m\u001B[33mcannot read from timed out object\u001B[39m\u001B[33m\"\u001B[39m)\n\u001B[32m    718\u001B[39m \u001B[38;5;28;01mtry\u001B[39;00m:\n\u001B[32m--> \u001B[39m\u001B[32m719\u001B[39m     \u001B[38;5;28;01mreturn\u001B[39;00m \u001B[38;5;28;43mself\u001B[39;49m\u001B[43m.\u001B[49m\u001B[43m_sock\u001B[49m\u001B[43m.\u001B[49m\u001B[43mrecv_into\u001B[49m\u001B[43m(\u001B[49m\u001B[43mb\u001B[49m\u001B[43m)\u001B[49m\n\u001B[32m    720\u001B[39m \u001B[38;5;28;01mexcept\u001B[39;00m timeout:\n\u001B[32m    721\u001B[39m     \u001B[38;5;28mself\u001B[39m._timeout_occurred = \u001B[38;5;28;01mTrue\u001B[39;00m\n",
      "\u001B[36mFile \u001B[39m\u001B[32m~\\AppData\\Local\\Programs\\Python\\Python313\\Lib\\ssl.py:1304\u001B[39m, in \u001B[36mSSLSocket.recv_into\u001B[39m\u001B[34m(self, buffer, nbytes, flags)\u001B[39m\n\u001B[32m   1300\u001B[39m     \u001B[38;5;28;01mif\u001B[39;00m flags != \u001B[32m0\u001B[39m:\n\u001B[32m   1301\u001B[39m         \u001B[38;5;28;01mraise\u001B[39;00m \u001B[38;5;167;01mValueError\u001B[39;00m(\n\u001B[32m   1302\u001B[39m           \u001B[33m\"\u001B[39m\u001B[33mnon-zero flags not allowed in calls to recv_into() on \u001B[39m\u001B[38;5;132;01m%s\u001B[39;00m\u001B[33m\"\u001B[39m %\n\u001B[32m   1303\u001B[39m           \u001B[38;5;28mself\u001B[39m.\u001B[34m__class__\u001B[39m)\n\u001B[32m-> \u001B[39m\u001B[32m1304\u001B[39m     \u001B[38;5;28;01mreturn\u001B[39;00m \u001B[38;5;28;43mself\u001B[39;49m\u001B[43m.\u001B[49m\u001B[43mread\u001B[49m\u001B[43m(\u001B[49m\u001B[43mnbytes\u001B[49m\u001B[43m,\u001B[49m\u001B[43m \u001B[49m\u001B[43mbuffer\u001B[49m\u001B[43m)\u001B[49m\n\u001B[32m   1305\u001B[39m \u001B[38;5;28;01melse\u001B[39;00m:\n\u001B[32m   1306\u001B[39m     \u001B[38;5;28;01mreturn\u001B[39;00m \u001B[38;5;28msuper\u001B[39m().recv_into(buffer, nbytes, flags)\n",
      "\u001B[36mFile \u001B[39m\u001B[32m~\\AppData\\Local\\Programs\\Python\\Python313\\Lib\\ssl.py:1138\u001B[39m, in \u001B[36mSSLSocket.read\u001B[39m\u001B[34m(self, len, buffer)\u001B[39m\n\u001B[32m   1136\u001B[39m \u001B[38;5;28;01mtry\u001B[39;00m:\n\u001B[32m   1137\u001B[39m     \u001B[38;5;28;01mif\u001B[39;00m buffer \u001B[38;5;129;01mis\u001B[39;00m \u001B[38;5;129;01mnot\u001B[39;00m \u001B[38;5;28;01mNone\u001B[39;00m:\n\u001B[32m-> \u001B[39m\u001B[32m1138\u001B[39m         \u001B[38;5;28;01mreturn\u001B[39;00m \u001B[38;5;28;43mself\u001B[39;49m\u001B[43m.\u001B[49m\u001B[43m_sslobj\u001B[49m\u001B[43m.\u001B[49m\u001B[43mread\u001B[49m\u001B[43m(\u001B[49m\u001B[38;5;28;43mlen\u001B[39;49m\u001B[43m,\u001B[49m\u001B[43m \u001B[49m\u001B[43mbuffer\u001B[49m\u001B[43m)\u001B[49m\n\u001B[32m   1139\u001B[39m     \u001B[38;5;28;01melse\u001B[39;00m:\n\u001B[32m   1140\u001B[39m         \u001B[38;5;28;01mreturn\u001B[39;00m \u001B[38;5;28mself\u001B[39m._sslobj.read(\u001B[38;5;28mlen\u001B[39m)\n",
      "\u001B[31mKeyboardInterrupt\u001B[39m: "
     ]
    }
   ],
   "execution_count": 21
  }
 ],
 "metadata": {
  "kernelspec": {
   "display_name": "Python 3",
   "language": "python",
   "name": "python3"
  },
  "language_info": {
   "codemirror_mode": {
    "name": "ipython",
    "version": 2
   },
   "file_extension": ".py",
   "mimetype": "text/x-python",
   "name": "python",
   "nbconvert_exporter": "python",
   "pygments_lexer": "ipython2",
   "version": "2.7.6"
  }
 },
 "nbformat": 4,
 "nbformat_minor": 5
}
