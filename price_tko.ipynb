{
 "cells": [
  {
   "metadata": {
    "ExecuteTime": {
     "end_time": "2025-05-15T02:29:35.389595Z",
     "start_time": "2025-05-15T02:29:30.599351Z"
    }
   },
   "cell_type": "code",
   "source": [
    "import requests\n",
    "import pandas as pd\n",
    "import matplotlib.pyplot as plt\n",
    "from datetime import datetime\n",
    "import talib as ta\n",
    "import os\n",
    "import mplfinance as mpf\n",
    "import numpy as np"
   ],
   "id": "2f27c9a9fb639d44",
   "outputs": [],
   "execution_count": 1
  },
  {
   "metadata": {
    "ExecuteTime": {
     "end_time": "2025-05-15T02:29:35.747775Z",
     "start_time": "2025-05-15T02:29:35.741279Z"
    }
   },
   "cell_type": "code",
   "source": [
    "def get_time_stamp():\n",
    "    return datetime.now().strftime('%Y%m%d%H%M%S')"
   ],
   "id": "d32c4b6f9ff7a5c5",
   "outputs": [],
   "execution_count": 2
  },
  {
   "metadata": {
    "ExecuteTime": {
     "end_time": "2025-05-15T02:29:35.787489Z",
     "start_time": "2025-05-15T02:29:35.780792Z"
    }
   },
   "cell_type": "code",
   "source": [
    "directory = 'tokocrypto-' + get_time_stamp()\n",
    "os.makedirs(directory, exist_ok=True)"
   ],
   "id": "f18d04104032ca50",
   "outputs": [],
   "execution_count": 3
  },
  {
   "metadata": {
    "ExecuteTime": {
     "end_time": "2025-05-15T02:29:35.830749Z",
     "start_time": "2025-05-15T02:29:35.825053Z"
    }
   },
   "cell_type": "code",
   "source": [
    "def get_pairs() :\n",
    "    return requests.get('https://www.tokocrypto.com/open/v1/common/symbols').json()"
   ],
   "id": "5ce1b31e5105831f",
   "outputs": [],
   "execution_count": 4
  },
  {
   "metadata": {
    "ExecuteTime": {
     "end_time": "2025-05-15T02:29:35.864125Z",
     "start_time": "2025-05-15T02:29:35.859424Z"
    }
   },
   "cell_type": "code",
   "source": [
    "def get_ticker(symbol, ticker_type, interval) :\n",
    "    if ticker_type == 3 :\n",
    "        url = 'https://cloudme-toko.2meta.app/api/v1/klines'\n",
    "    else :\n",
    "        url = 'https://api.binance.com/api/v1/klines'\n",
    "    return requests.get(url + '?symbol=' + symbol + '&interval=' + interval + '&limit=1000').json()"
   ],
   "id": "989628536a803bc7",
   "outputs": [],
   "execution_count": 5
  },
  {
   "metadata": {
    "ExecuteTime": {
     "end_time": "2025-05-15T02:29:35.894163Z",
     "start_time": "2025-05-15T02:29:35.889446Z"
    }
   },
   "cell_type": "code",
   "source": "width_ratio = 0.2",
   "id": "e831930763abe1b1",
   "outputs": [],
   "execution_count": 6
  },
  {
   "metadata": {
    "ExecuteTime": {
     "end_time": "2025-05-15T02:29:35.924330Z",
     "start_time": "2025-05-15T02:29:35.919920Z"
    }
   },
   "cell_type": "code",
   "source": [
    "# pairs = get_pairs()\n",
    "# symbols = [item['symbol'] for item in pairs['data']['list'] if 'symbol' in item and item['symbol'].endswith('USDT') and item['symbol'] != 'BTC_USDT' and item['type'] == 3]\n",
    "# print(symbols)"
   ],
   "id": "6adda8a163f8f28e",
   "outputs": [],
   "execution_count": 7
  },
  {
   "metadata": {
    "ExecuteTime": {
     "end_time": "2025-05-15T02:29:36.340861Z",
     "start_time": "2025-05-15T02:29:35.964595Z"
    }
   },
   "cell_type": "code",
   "source": [
    "ticker_type_map = {}\n",
    "pairs = get_pairs()\n",
    "for pair in pairs['data']['list'] :\n",
    "    if pair['symbol'].endswith('USDT') :\n",
    "        ticker_type_map[pair['symbol'].removesuffix('_USDT')] = pair['type']\n",
    "symbols = [item['symbol'] for item in pairs['data']['list'] if 'symbol' in item and item['symbol'].endswith('USDT')]\n",
    "remove_list = ['BTC_USDT', 'USDC_USDT', 'USDP_USDT', 'USTC_USDT', 'FDUSD_USDT', 'TUSD_USDT', 'AEUR_USDT']\n",
    "symbols = [item for item in symbols if item not in remove_list]\n",
    "print(symbols)"
   ],
   "id": "bc11cacf2b46ec88",
   "outputs": [
    {
     "name": "stdout",
     "output_type": "stream",
     "text": [
      "['1000CAT_USDT', '1000SATS_USDT', '1INCH_USDT', '1MBABYDOGE_USDT', 'AAVE_USDT', 'ACA_USDT', 'ACE_USDT', 'ACH_USDT', 'ACM_USDT', 'ACT_USDT', 'ACX_USDT', 'ADA_USDT', 'ADX_USDT', 'AEVO_USDT', 'AGLD_USDT', 'AIXBT_USDT', 'AI_USDT', 'ALCX_USDT', 'ALGO_USDT', 'ALICE_USDT', 'ALPHA_USDT', 'ALPINE_USDT', 'ALT_USDT', 'AMP_USDT', 'ANIME_USDT', 'ANKR_USDT', 'APE_USDT', 'API3_USDT', 'APT_USDT', 'ARB_USDT', 'ARDR_USDT', 'ARKM_USDT', 'ARK_USDT', 'ARPA_USDT', 'AR_USDT', 'ASR_USDT', 'ASTR_USDT', 'ATA_USDT', 'ATH_USDT', 'ATM_USDT', 'ATOM_USDT', 'AUCTION_USDT', 'AUDIO_USDT', 'AVAX_USDT', 'AVA_USDT', 'AXL_USDT', 'AXS_USDT', 'BABY_USDT', 'BAKE_USDT', 'BANANA_USDT', 'BAND_USDT', 'BAR_USDT', 'BAT_USDT', 'BB_USDT', 'BCH_USDT', 'BEAMX_USDT', 'BEL_USDT', 'BERA_USDT', 'BICO_USDT', 'BIFI_USDT', 'BIGTIME_USDT', 'BIO_USDT', 'BLUR_USDT', 'BMT_USDT', 'BNB_USDT', 'BNT_USDT', 'BOME_USDT', 'BONK_USDT', 'BSW_USDT', 'BTTC_USDT', 'C98_USDT', 'CAKE_USDT', 'CATI_USDT', 'CELO_USDT', 'CELR_USDT', 'CETUS_USDT', 'CFX_USDT', 'CGPT_USDT', 'CHESS_USDT', 'CHR_USDT', 'CHZ_USDT', 'CITY_USDT', 'CKB_USDT', 'COMP_USDT', 'COOKIE_USDT', 'COS_USDT', 'COTI_USDT', 'COW_USDT', 'CREO_USDT', 'CRV_USDT', 'CTK_USDT', 'CTSI_USDT', 'CVC_USDT', 'CVX_USDT', 'CYBER_USDT', 'DATA_USDT', 'DCR_USDT', 'DEGO_USDT', 'DENT_USDT', 'DEXE_USDT', 'DF_USDT', 'DGB_USDT', 'DIA_USDT', 'DODO_USDT', 'DOGE_USDT', 'DOGS_USDT', 'DOT_USDT', 'DUSK_USDT', 'DYDX_USDT', 'DYM_USDT', 'D_USDT', 'EDU_USDT', 'EGLD_USDT', 'EIGEN_USDT', 'ENA_USDT', 'ENJ_USDT', 'ENS_USDT', 'EOS_USDT', 'EPIC_USDT', 'ETC_USDT', 'ETHFI_USDT', 'ETH_USDT', 'EURI_USDT', 'FARM_USDT', 'FARTCOIN_USDT', 'FET_USDT', 'FIDA_USDT', 'FIL_USDT', 'FIO_USDT', 'FIS_USDT', 'FLM_USDT', 'FLOKI_USDT', 'FLOW_USDT', 'FLUX_USDT', 'FORM_USDT', 'FORTH_USDT', 'FUN_USDT', 'FXS_USDT', 'GALA_USDT', 'GAS_USDT', 'GHST_USDT', 'GLMR_USDT', 'GLM_USDT', 'GMT_USDT', 'GMX_USDT', 'GNO_USDT', 'GNS_USDT', 'GPS_USDT', 'GRT_USDT', 'GTC_USDT', 'G_USDT', 'HBAR_USDT', 'HEI_USDT', 'HFT_USDT', 'HIFI_USDT', 'HIGH_USDT', 'HIVE_USDT', 'HMSTR_USDT', 'HOOK_USDT', 'HOT_USDT', 'ICP_USDT', 'ICX_USDT', 'IDEX_USDT', 'ID_USDT', 'ILV_USDT', 'IMX_USDT', 'INJ_USDT', 'IOST_USDT', 'IOTA_USDT', 'IOTX_USDT', 'IO_USDT', 'IQ_USDT', 'JASMY_USDT', 'JOE_USDT', 'JST_USDT', 'JTO_USDT', 'JUP_USDT', 'JUV_USDT', 'KAIA_USDT', 'KAITO_USDT', 'KAVA_USDT', 'KDA_USDT', 'KERNEL_USDT', 'KMD_USDT', 'KNC_USDT', 'KOM_USDT', 'KSM_USDT', 'LAYER_USDT', 'LAZIO_USDT', 'LDO_USDT', 'LEVER_USDT', 'LINK_USDT', 'LISTA_USDT', 'LOKA_USDT', 'LPT_USDT', 'LQTY_USDT', 'LRC_USDT', 'LSK_USDT', 'LTC_USDT', 'LTO_USDT', 'LUMIA_USDT', 'LUNA_USDT', 'LUNC_USDT', 'MAGIC_USDT', 'MANA_USDT', 'MANTA_USDT', 'MASK_USDT', 'MAV_USDT', 'MBL_USDT', 'MBOX_USDT', 'MDT_USDT', 'MEME_USDT', 'METIS_USDT', 'ME_USDT', 'MINA_USDT', 'MKR_USDT', 'MLN_USDT', 'MOVE_USDT', 'MOVR_USDT', 'MTL_USDT', 'NBT_USDT', 'NEAR_USDT', 'NEIRO_USDT', 'NEO_USDT', 'NEXO_USDT', 'NFP_USDT', 'NKN_USDT', 'NMR_USDT', 'NOT_USDT', 'NTRN_USDT', 'OGN_USDT', 'OG_USDT', 'OMNI_USDT', 'OM_USDT', 'ONDO_USDT', 'ONE_USDT', 'ONG_USDT', 'ONT_USDT', 'OP_USDT', 'ORCA_USDT', 'ORDI_USDT', 'OSMO_USDT', 'OXT_USDT', 'PAXG_USDT', 'PENDLE_USDT', 'PENGU_USDT', 'PEOPLE_USDT', 'PEPE_USDT', 'PERP_USDT', 'PHA_USDT', 'PHB_USDT', 'PIVX_USDT', 'PIXEL_USDT', 'PNUT_USDT', 'POLYX_USDT', 'POL_USDT', 'POND_USDT', 'PORTAL_USDT', 'PORTO_USDT', 'POWR_USDT', 'PROM_USDT', 'PSG_USDT', 'PYR_USDT', 'PYTH_USDT', 'QI_USDT', 'QKC_USDT', 'QNT_USDT', 'QTUM_USDT', 'QUICK_USDT', 'RAD_USDT', 'RARE_USDT', 'RAY_USDT', 'RDNT_USDT', 'RED_USDT', 'REI_USDT', 'RENDER_USDT', 'REQ_USDT', 'REZ_USDT', 'RIF_USDT', 'RLC_USDT', 'RONIN_USDT', 'ROSE_USDT', 'RPL_USDT', 'RSR_USDT', 'RUNE_USDT', 'RVN_USDT', 'SAGA_USDT', 'SAND_USDT', 'SANTOS_USDT', 'SCRT_USDT', 'SCR_USDT', 'SC_USDT', 'SEI_USDT', 'SFP_USDT', 'SHELL_USDT', 'SHIB_USDT', 'SKL_USDT', 'SLF_USDT', 'SLP_USDT', 'SNX_USDT', 'SOLV_USDT', 'SOL_USDT', 'SPELL_USDT', 'SSV_USDT', 'STG_USDT', 'STORJ_USDT', 'STPT_USDT', 'STRAX_USDT', 'STRK_USDT', 'STX_USDT', 'SUI_USDT', 'SUN_USDT', 'SUPER_USDT', 'SUSHI_USDT', 'SXP_USDT', 'SYN_USDT', 'SYS_USDT', 'S_USDT', 'TAO_USDT', 'TFUEL_USDT', 'THETA_USDT', 'THE_USDT', 'TIA_USDT', 'TKO_USDT', 'TLM_USDT', 'TNSR_USDT', 'TON_USDT', 'TRB_USDT', 'TRUMP_USDT', 'TRU_USDT', 'TRX_USDT', 'TST_USDT', 'TURBO_USDT', 'TWT_USDT', 'T_USDT', 'UMA_USDT', 'UNI_USDT', 'USUAL_USDT', 'UTK_USDT', 'VANA_USDT', 'VANRY_USDT', 'VELODROME_USDT', 'VELO_USDT', 'VET_USDT', 'VIC_USDT', 'VIRTUAL_USDT', 'VOXEL_USDT', 'VTHO_USDT', 'WAN_USDT', 'WAXP_USDT', 'WCT_USDT', 'WIF_USDT', 'WIN_USDT', 'WLD_USDT', 'WOO_USDT', 'W_USDT', 'XAI_USDT', 'XEC_USDT', 'XLM_USDT', 'XNO_USDT', 'XRP_USDT', 'XTZ_USDT', 'XUSD_USDT', 'XVG_USDT', 'XVS_USDT', 'YFI_USDT', 'YGG_USDT', 'ZIL_USDT', 'ZK_USDT', 'ZRO_USDT', 'ZRX_USDT']\n"
     ]
    }
   ],
   "execution_count": 8
  },
  {
   "metadata": {
    "ExecuteTime": {
     "end_time": "2025-05-15T02:29:36.372522Z",
     "start_time": "2025-05-15T02:29:36.366194Z"
    }
   },
   "cell_type": "code",
   "source": [
    "# pairs = get_pairs()\n",
    "# symbols = [item['symbol'] for item in pairs['data']['list'] if 'symbol' in item and item['symbol'].endswith('IDR') and item['symbol'] != 'BTC_IDR']\n",
    "# print(symbols)"
   ],
   "id": "e0b6e23e2e597938",
   "outputs": [],
   "execution_count": 9
  },
  {
   "metadata": {
    "ExecuteTime": {
     "end_time": "2025-05-15T02:29:36.417722Z",
     "start_time": "2025-05-15T02:29:36.408858Z"
    }
   },
   "cell_type": "code",
   "source": [
    "def get_df_from_ticker(ticker_name, ticker_type, interval) :\n",
    "    ticker = get_ticker(ticker_name + 'USDT', ticker_type, interval)\n",
    "    df_1 = pd.DataFrame(ticker, columns=[\n",
    "    'Open time',\n",
    "    'Open',\n",
    "    'High',\n",
    "    'Low',\n",
    "    'Close',\n",
    "    'Volume',\n",
    "    'Close time',\n",
    "    'Quote asset volume',\n",
    "    'Number of trades',\n",
    "    'Taker buy base asset volume',\n",
    "    'Taker buy quote asset volume',\n",
    "    'Ignore'])\n",
    "    df_1['Date'] = pd.to_datetime(df_1['Close time'], unit='ms')\n",
    "    df_1['Open'] = pd.to_numeric(df_1['Open'], errors='coerce')\n",
    "    df_1['Close'] = pd.to_numeric(df_1['Close'], errors='coerce')\n",
    "    df_1['High'] = pd.to_numeric(df_1['High'], errors='coerce')\n",
    "    df_1['Low'] = pd.to_numeric(df_1['Low'], errors='coerce')\n",
    "    df_1['Volume'] = pd.to_numeric(df_1['Volume'], errors='coerce')\n",
    "    df_1 = df_1.sort_values(by='Date')\n",
    "    return df_1"
   ],
   "id": "b20e794ef7a9258b",
   "outputs": [],
   "execution_count": 10
  },
  {
   "metadata": {
    "ExecuteTime": {
     "end_time": "2025-05-15T02:29:36.884881Z",
     "start_time": "2025-05-15T02:29:36.439739Z"
    }
   },
   "cell_type": "code",
   "source": "dfBtcUsdt = get_df_from_ticker('BTC', 1, '1d')",
   "id": "f3316b9486a7f245",
   "outputs": [],
   "execution_count": 11
  },
  {
   "metadata": {
    "ExecuteTime": {
     "end_time": "2025-05-15T02:29:36.928876Z",
     "start_time": "2025-05-15T02:29:36.922191Z"
    }
   },
   "cell_type": "code",
   "source": [
    "def check_first_candle(df) :\n",
    "    first_high = df['High'].iloc[0]\n",
    "    first_low = df['Low'].iloc[0]\n",
    "    if first_high/first_low > 2 :\n",
    "        return True\n",
    "    else :\n",
    "        return False"
   ],
   "id": "e5e55eac69de16e9",
   "outputs": [],
   "execution_count": 12
  },
  {
   "metadata": {
    "ExecuteTime": {
     "end_time": "2025-05-15T02:29:36.957008Z",
     "start_time": "2025-05-15T02:29:36.950865Z"
    }
   },
   "cell_type": "code",
   "source": [
    "def get_indicator(df_final) :\n",
    "    df_final['RSI_14'] = ta.RSI(df_final['Close'], timeperiod=14)\n",
    "\n",
    "    df_final['OBV'] = ta.OBV(df_final['Close'], df_final['Volume'])\n",
    "\n",
    "    slowk, slowd = ta.STOCH(df_final['High'], df_final['Low'], df_final['Close'],\n",
    "                           fastk_period=5,\n",
    "                           slowk_period=3,\n",
    "                           slowd_period=3)\n",
    "    df_final['Stoch_%K'] = slowk\n",
    "    df_final['Stoch_%D'] = slowd\n",
    "    return df_final"
   ],
   "id": "a6caea4913b16582",
   "outputs": [],
   "execution_count": 13
  },
  {
   "metadata": {
    "ExecuteTime": {
     "end_time": "2025-05-15T02:29:37.000742Z",
     "start_time": "2025-05-15T02:29:36.988849Z"
    }
   },
   "cell_type": "code",
   "source": [
    "def get_history_btc_pair(tickername, df_coin_usdt, df_btc_usdt) :\n",
    "    ticker_name_low = tickername.lower()\n",
    "    df_merged = pd.merge(df_coin_usdt, df_btc_usdt, on='Date', suffixes=('_' + ticker_name_low, '_btc'))\n",
    "    df_merged['Open_' + ticker_name_low +'_btc'] = df_merged['Open_' + ticker_name_low] / df_merged['Open_btc']\n",
    "    df_merged['High_' + ticker_name_low +'_btc'] = df_merged['High_' + ticker_name_low] / df_merged['High_btc']\n",
    "    df_merged['Low_' + ticker_name_low + '_btc'] = df_merged['Low_' + ticker_name_low] / df_merged['Low_btc']\n",
    "    df_merged['Close_'+ ticker_name_low +'_btc'] = df_merged['Close_' + ticker_name_low] / df_merged['Close_btc']\n",
    "    df_merged['Volume_'+ ticker_name_low +'_btc'] = df_merged['Volume_' + ticker_name_low]\n",
    "\n",
    "    df_final = df_merged[['Date', 'Open_' + ticker_name_low +'_btc', 'High_' + ticker_name_low +'_btc', 'Low_' + ticker_name_low + '_btc', 'Close_' + ticker_name_low +'_btc', 'Volume_' + ticker_name_low +'_btc']].copy()\n",
    "    df_final.rename(columns={\n",
    "        'Open_' + ticker_name_low +'_btc': 'Open',\n",
    "        'High_' + ticker_name_low +'_btc': 'High',\n",
    "        'Low_' + ticker_name_low + '_btc': 'Low',\n",
    "        'Close_' + ticker_name_low +'_btc': 'Close',\n",
    "        'Volume_' + ticker_name_low +'_btc': 'Volume'\n",
    "    }, inplace=True)\n",
    "\n",
    "    mask = df_final['High'] < df_final['Low']\n",
    "    df_final.loc[mask, ['High', 'Low']] = df_final.loc[mask, ['Low', 'High']].values\n",
    "\n",
    "    if check_first_candle(df_final) :\n",
    "        df_final.drop(index=0, inplace=True)\n",
    "\n",
    "    df_final['Return'] = df_final['Close'].pct_change()\n",
    "    df_final['Cum Return'] = (1 + df_final['Return']).cumprod() - 1\n",
    "\n",
    "    df_final = get_indicator(df_final)\n",
    "\n",
    "    len_data = len(df_merged['Close_' + ticker_name_low])\n",
    "    if len_data > 2 :\n",
    "        min_time_period = min(len_data-1, 90)\n",
    "        df_final['Beta'] = ta.BETA(df_merged['Close_' + ticker_name_low], df_merged['Close_btc'], timeperiod=min_time_period)\n",
    "        df_final['Correl'] = ta.CORREL(df_merged['Close_' + ticker_name_low], df_merged['Close_btc'], timeperiod=min_time_period)\n",
    "\n",
    "    df_final['Change1D'] = df_final['Close'].pct_change() * 100\n",
    "    df_final['Change7D'] = df_final['Close'].pct_change(periods=7) * 100\n",
    "    df_final['Change30D'] = df_final['Close'].pct_change(periods=30) * 100\n",
    "\n",
    "    # df_final['EMA_13'] = df_final['Close'].ewm(span=13, adjust=False).mean()\n",
    "    # df_final['EMA_21'] = df_final['Close'].ewm(span=21, adjust=False).mean()\n",
    "\n",
    "    return df_final"
   ],
   "id": "20a43d88cf146f00",
   "outputs": [],
   "execution_count": 14
  },
  {
   "metadata": {
    "ExecuteTime": {
     "end_time": "2025-05-15T02:29:37.040830Z",
     "start_time": "2025-05-15T02:29:37.036138Z"
    }
   },
   "cell_type": "code",
   "source": [
    "def resampling_weekly(df_daily) :\n",
    "    df_daily.set_index('Date', inplace=True)\n",
    "    df_weekly = df_daily.resample('W').agg({\n",
    "        'Open': 'first',\n",
    "        'High': 'max',\n",
    "        'Low': 'min',\n",
    "        'Close': 'last',\n",
    "        'Volume': 'sum'\n",
    "    })\n",
    "    df_weekly.reset_index(inplace=True)\n",
    "    return df_weekly"
   ],
   "id": "40be92205ed84716",
   "outputs": [],
   "execution_count": 15
  },
  {
   "metadata": {
    "ExecuteTime": {
     "end_time": "2025-05-15T02:29:37.071947Z",
     "start_time": "2025-05-15T02:29:37.064203Z"
    }
   },
   "cell_type": "code",
   "source": [
    "def show_candlestick(tickername, tickerbase, df, timeframe_str) :\n",
    "    if timeframe_str == 'Weekly' :\n",
    "        timeframe_id_str = 'Mingguan'\n",
    "    else :\n",
    "        timeframe_id_str = 'Harian'\n",
    "    df_copy = df.copy()\n",
    "    df_copy.set_index('Date', inplace=True)\n",
    "    mpf.plot(df_copy, type='candle', style='binance', volume=True, title=f'Pergerakan Harga {timeframe_id_str} {tickername} terhadap {tickerbase}', savefig=dict(fname=os.path.join(directory, f'Candlestick-{timeframe_str}-{tickername}-{tickerbase}-' + get_time_stamp() + '.png'), dpi=300, bbox_inches='tight'))"
   ],
   "id": "e66da101ecab9edf",
   "outputs": [],
   "execution_count": 16
  },
  {
   "metadata": {
    "ExecuteTime": {
     "end_time": "2025-05-15T02:29:37.116170Z",
     "start_time": "2025-05-15T02:29:37.096459Z"
    }
   },
   "cell_type": "code",
   "source": [
    "def show_chart(df, tickername, tickerbase, timeframe_str) :\n",
    "    time_now = datetime.now().strftime('%d-%m-%Y %H:%M:%S')\n",
    "    if timeframe_str == 'Weekly' :\n",
    "        timeframe_id_str = 'Mingguan'\n",
    "    else :\n",
    "        timeframe_id_str = 'Harian'\n",
    "\n",
    "    # Membuat figure dan dua subplot yang berbagi sumbu x\n",
    "    fig, (ax1, ax2, ax3, ax4) = plt.subplots(nrows=4, ncols=1, sharex=True, figsize=(14, 10))\n",
    "\n",
    "    # Pergerakan Harga\n",
    "    ax1.plot(df['Date'], df['Close'], label=f'{tickername}/{tickerbase}', color='blue')\n",
    "    # ax1.plot(df['Date'], df['EMA_13'], linewidth=0.5, label='EMA 13', color='yellow')\n",
    "    # ax1.plot(df['Date'], df['EMA_21'], linewidth=0.5, label='EMA 21', color='orange')\n",
    "    ax1.set_title(f'Pergerakan Harga {timeframe_id_str} {tickername} terhadap {tickerbase}')\n",
    "    ax1.set_ylabel(f'Harga ({tickerbase})')\n",
    "    ax1.legend()\n",
    "    ax1.grid(True)\n",
    "    ax1.text(0.99, 1.05, time_now,\n",
    "         transform=ax1.transAxes,\n",
    "         fontsize=12, color='gray', alpha=0.7,\n",
    "         ha='right', va='bottom')\n",
    "    ax1.text(0.5, 0.5, 'Generated by Yoga',\n",
    "         transform=ax1.transAxes,\n",
    "         fontsize=20, color='gray', alpha=0.3,\n",
    "         ha='center', va='center', rotation=30)\n",
    "\n",
    "    # RSI\n",
    "    ax2.plot(df['Date'], df['RSI_14'], label=f'RSI {tickername}/{tickerbase}', color='orange')\n",
    "    ax2.axhline(70, linestyle='--', alpha=0.5, color='red')  # Garis overbought\n",
    "    ax2.axhline(30, linestyle='--', alpha=0.5, color='green')  # Garis oversold\n",
    "    ax2.set_title(f'Grafik RSI {timeframe_id_str} {tickername} terhadap {tickerbase}')\n",
    "    # ax2.set_xlabel('Tanggal')\n",
    "    ax2.set_ylabel('RSI')\n",
    "    ax2.legend()\n",
    "    ax2.grid(True)\n",
    "    ax2.text(0.99, 1.05, time_now,\n",
    "         transform=ax2.transAxes,\n",
    "         fontsize=12, color='gray', alpha=0.7,\n",
    "         ha='right', va='bottom')\n",
    "    ax2.text(0.5, 0.5, 'Generated by Yoga',\n",
    "         transform=ax2.transAxes,\n",
    "         fontsize=20, color='gray', alpha=0.3,\n",
    "         ha='center', va='center', rotation=30)\n",
    "\n",
    "    # Stochastic\n",
    "    ax3.plot(df['Date'], df['Stoch_%K'], label='%K', color='blue')\n",
    "    ax3.plot(df['Date'], df['Stoch_%D'], label='%D', color='orange')\n",
    "    ax3.axhline(80, linestyle='--', alpha=0.5, color='red')  # Garis overbought\n",
    "    ax3.axhline(20, linestyle='--', alpha=0.5, color='green')  # Garis oversold\n",
    "    ax3.set_title(f'Grafik Stochastic {timeframe_id_str} {tickername} terhadap {tickerbase}')\n",
    "    # ax3.set_xlabel('Tanggal')\n",
    "    ax3.set_ylabel('Nilai')\n",
    "    ax3.legend()\n",
    "    ax3.grid(True)\n",
    "    ax3.text(0.99, 1.05, time_now,\n",
    "         transform=ax3.transAxes,\n",
    "         fontsize=12, color='gray', alpha=0.7,\n",
    "         ha='right', va='bottom')\n",
    "    ax3.text(0.5, 0.5, 'Generated by Yoga',\n",
    "         transform=ax3.transAxes,\n",
    "         fontsize=20, color='gray', alpha=0.3,\n",
    "         ha='center', va='center', rotation=30)\n",
    "\n",
    "    # OBV\n",
    "    ax4.plot(df['Date'], df['OBV'], label='OBV', color='blue')\n",
    "    ax4.set_title(f'Grafik OBV {timeframe_id_str} {tickername} terhadap {tickerbase}')\n",
    "    ax4.set_xlabel('Tanggal')\n",
    "    ax4.set_ylabel('Nilai')\n",
    "    ax4.legend()\n",
    "    ax4.grid(True)\n",
    "    ax4.text(0.99, 1.05, time_now,\n",
    "         transform=ax4.transAxes,\n",
    "         fontsize=12, color='gray', alpha=0.7,\n",
    "         ha='right', va='bottom')\n",
    "    ax4.text(0.5, 0.5, 'Generated by Yoga',\n",
    "         transform=ax4.transAxes,\n",
    "         fontsize=20, color='gray', alpha=0.3,\n",
    "         ha='center', va='center', rotation=30)\n",
    "\n",
    "    # Menyesuaikan tata letak agar tidak saling tumpang tindih\n",
    "    plt.tight_layout()\n",
    "    # plt.show()\n",
    "    plt.savefig(os.path.join(directory, 'Chart-' + timeframe_str + '-' + tickername + '-' + tickerbase + '-' + get_time_stamp() + '.png'), dpi=300, bbox_inches='tight')\n",
    "    plt.close()"
   ],
   "id": "f80b6fcc8718be98",
   "outputs": [],
   "execution_count": 17
  },
  {
   "metadata": {
    "ExecuteTime": {
     "end_time": "2025-05-15T02:29:37.157598Z",
     "start_time": "2025-05-15T02:29:37.148614Z"
    }
   },
   "cell_type": "code",
   "source": [
    "def show_chart_rsi(df) :\n",
    "    if 'Label' not in df.columns:\n",
    "        return\n",
    "    width = width_ratio * len(df['Label'])\n",
    "    plt.figure(figsize=(width, 6))\n",
    "    plt.scatter(df['Label'], df['RSI_14'], color='blue')\n",
    "    plt.axhline(70, linestyle='--', alpha=0.5, color='red', label='Overbought (70)')\n",
    "    plt.axhline(30, linestyle='--', alpha=0.5, color='green', label='Oversold (30)')\n",
    "    plt.title('Nilai RSI Pair BTC')\n",
    "    plt.xlabel('Ticker')\n",
    "    plt.ylabel('RSI')\n",
    "    plt.xticks(rotation=90)\n",
    "    plt.legend()\n",
    "    plt.grid(True)\n",
    "    plt.text(0.5, 0.5, 'Generated by Yoga',\n",
    "         transform=plt.gca().transAxes,\n",
    "         fontsize=40, color='gray', alpha=0.3,\n",
    "         ha='center', va='center', rotation=30)\n",
    "    plt.text(0.99, 1.05, datetime.now().strftime('%d-%m-%Y %H:%M:%S'),\n",
    "         transform=plt.gca().transAxes,\n",
    "         fontsize=12, color='gray', alpha=0.7,\n",
    "         ha='right', va='bottom')\n",
    "    # plt.show()\n",
    "    plt.savefig(os.path.join(directory, 'RSI-' + get_time_stamp() + '.png'), dpi=300, bbox_inches='tight')\n",
    "    plt.close()"
   ],
   "id": "f0890b5c90138fbd",
   "outputs": [],
   "execution_count": 18
  },
  {
   "metadata": {
    "ExecuteTime": {
     "end_time": "2025-05-15T02:29:37.187698Z",
     "start_time": "2025-05-15T02:29:37.180827Z"
    }
   },
   "cell_type": "code",
   "source": [
    "def show_chart_beta(df) :\n",
    "    if 'Label' not in df.columns:\n",
    "        return\n",
    "    width = width_ratio * len(df['Label'])\n",
    "    plt.figure(figsize=(width, 6))\n",
    "    plt.scatter(df['Label'], df['Beta'], color='blue')\n",
    "    plt.axhline(0, linestyle='--', alpha=0.5, color='magenta', label='Beta = 0')\n",
    "    plt.axhline(1, linestyle='--', alpha=0.5, color='cyan', label='Beta = 1')\n",
    "    plt.title('Nilai Beta (Volatilitas Harga Token Terhadap BTC)')\n",
    "    plt.xlabel('Ticker')\n",
    "    plt.ylabel('Beta')\n",
    "    plt.xticks(rotation=90)\n",
    "    plt.legend()\n",
    "    plt.grid(True)\n",
    "    plt.text(0.5, 0.5, 'Generated by Yoga',\n",
    "         transform=plt.gca().transAxes,\n",
    "         fontsize=40, color='gray', alpha=0.3,\n",
    "         ha='center', va='center', rotation=30)\n",
    "    plt.text(0.99, 1.05, datetime.now().strftime('%d-%m-%Y %H:%M:%S'),\n",
    "         transform=plt.gca().transAxes,\n",
    "         fontsize=12, color='gray', alpha=0.7,\n",
    "         ha='right', va='bottom')\n",
    "    # plt.show()\n",
    "    plt.savefig(os.path.join(directory, 'Beta-' + get_time_stamp() + '.png'), dpi=300, bbox_inches='tight')\n",
    "    plt.close()"
   ],
   "id": "332e5a957a0eb118",
   "outputs": [],
   "execution_count": 19
  },
  {
   "metadata": {
    "ExecuteTime": {
     "end_time": "2025-05-15T02:29:37.231507Z",
     "start_time": "2025-05-15T02:29:37.223951Z"
    }
   },
   "cell_type": "code",
   "source": [
    "def show_chart_correl(df) :\n",
    "    if 'Label' not in df.columns:\n",
    "        return\n",
    "    width = width_ratio * len(df['Label'])\n",
    "    plt.figure(figsize=(width, 6))\n",
    "    plt.scatter(df['Label'], df['Correl'], color='blue')\n",
    "    plt.axhline(0, linestyle='--', alpha=0.5, color='magenta', label='Correlation = 0')\n",
    "    plt.axhline(-1, linestyle='--', alpha=0.5, color='cyan', label='Correlation = -1')\n",
    "    plt.axhline(1, linestyle='--', alpha=0.5, color='cyan', label='Correlation = 1')\n",
    "    plt.title('Nilai Pearson Correlation Coefficient Terhadap BTC')\n",
    "    plt.xlabel('Ticker')\n",
    "    plt.ylabel('Correlation')\n",
    "    plt.xticks(rotation=90)\n",
    "    plt.legend()\n",
    "    plt.grid(True)\n",
    "    plt.text(0.5, 0.5, 'Generated by Yoga',\n",
    "         transform=plt.gca().transAxes,\n",
    "         fontsize=40, color='gray', alpha=0.3,\n",
    "         ha='center', va='center', rotation=30)\n",
    "    plt.text(0.99, 1.05, datetime.now().strftime('%d-%m-%Y %H:%M:%S'),\n",
    "         transform=plt.gca().transAxes,\n",
    "         fontsize=12, color='gray', alpha=0.7,\n",
    "         ha='right', va='bottom')\n",
    "    # plt.show()\n",
    "    plt.savefig(os.path.join(directory, 'Correlation-' + get_time_stamp() + '.png'), dpi=300, bbox_inches='tight')\n",
    "    plt.close()"
   ],
   "id": "7f61516a6b53be18",
   "outputs": [],
   "execution_count": 20
  },
  {
   "metadata": {
    "ExecuteTime": {
     "end_time": "2025-05-15T02:29:37.262393Z",
     "start_time": "2025-05-15T02:29:37.254408Z"
    }
   },
   "cell_type": "code",
   "source": [
    "def show_chart_change(df, chart_title) :\n",
    "    if 'Label' not in df.columns:\n",
    "        return\n",
    "    width = width_ratio * len(df['Label'])\n",
    "    plt.figure(figsize=(width, 6))\n",
    "    plt.scatter(df['Label'], df['Data'], color='blue')\n",
    "    plt.axhline(0, linestyle='--', alpha=0.5, color='red', label='Change = 0%')\n",
    "    plt.title(chart_title)\n",
    "    plt.xlabel('Ticker')\n",
    "    plt.ylabel('Perubahan (%)')\n",
    "    plt.xticks(rotation=90)\n",
    "    plt.legend()\n",
    "    plt.grid(True)\n",
    "    plt.text(0.5, 0.5, 'Generated by Yoga',\n",
    "         transform=plt.gca().transAxes,\n",
    "         fontsize=40, color='gray', alpha=0.3,\n",
    "         ha='center', va='center', rotation=30)\n",
    "    plt.text(0.99, 1.05, datetime.now().strftime('%d-%m-%Y %H:%M:%S'),\n",
    "         transform=plt.gca().transAxes,\n",
    "         fontsize=12, color='gray', alpha=0.7,\n",
    "         ha='right', va='bottom')\n",
    "    # plt.show()\n",
    "    plt.savefig(os.path.join(directory, chart_title + '-' + get_time_stamp() + '.png'), dpi=300, bbox_inches='tight')\n",
    "    plt.close()"
   ],
   "id": "b3bc7050c0f5a11e",
   "outputs": [],
   "execution_count": 21
  },
  {
   "metadata": {
    "ExecuteTime": {
     "end_time": "2025-05-15T02:29:37.303282Z",
     "start_time": "2025-05-15T02:29:37.295158Z"
    }
   },
   "cell_type": "code",
   "source": [
    "def show_chart_return_mean(df) :\n",
    "    if 'Label' not in df.columns:\n",
    "        return\n",
    "    width = width_ratio * len(df['Label'])\n",
    "    plt.figure(figsize=(width, 6))\n",
    "    plt.scatter(df['Label'], df['Data'], color='blue')\n",
    "    plt.axhline(0, linestyle='--', alpha=0.5, color='red', label='0')\n",
    "    plt.title('Rata-Rata Return Pair BTC')\n",
    "    plt.xlabel('Ticker')\n",
    "    plt.ylabel('Return Mean (%)')\n",
    "    plt.xticks(rotation=90)\n",
    "    plt.legend()\n",
    "    plt.grid(True)\n",
    "    plt.text(0.5, 0.5, 'Generated by Yoga',\n",
    "         transform=plt.gca().transAxes,\n",
    "         fontsize=40, color='gray', alpha=0.3,\n",
    "         ha='center', va='center', rotation=30)\n",
    "    plt.text(0.99, 1.05, datetime.now().strftime('%d-%m-%Y %H:%M:%S'),\n",
    "         transform=plt.gca().transAxes,\n",
    "         fontsize=12, color='gray', alpha=0.7,\n",
    "         ha='right', va='bottom')\n",
    "    # plt.show()\n",
    "    plt.savefig(os.path.join(directory, 'Rata-Rata Return-' + get_time_stamp() + '.png'), dpi=300, bbox_inches='tight')\n",
    "    plt.close()"
   ],
   "id": "35e8b4b9e9485c99",
   "outputs": [],
   "execution_count": 22
  },
  {
   "metadata": {
    "ExecuteTime": {
     "end_time": "2025-05-15T02:29:37.332943Z",
     "start_time": "2025-05-15T02:29:37.325315Z"
    }
   },
   "cell_type": "code",
   "source": [
    "def show_chart_return_std(df) :\n",
    "    if 'Label' not in df.columns:\n",
    "        return\n",
    "    width = width_ratio * len(df['Label'])\n",
    "    plt.figure(figsize=(width, 6))\n",
    "    plt.scatter(df['Label'], df['Data'], color='blue')\n",
    "    plt.axhline(0, linestyle='--', alpha=0.5, color='red', label='0')\n",
    "    plt.title('Volatilitas Return Pair BTC')\n",
    "    plt.xlabel('Ticker')\n",
    "    plt.ylabel('Tingkat Volatilitas')\n",
    "    plt.xticks(rotation=90)\n",
    "    plt.legend()\n",
    "    plt.grid(True)\n",
    "    plt.text(0.5, 0.5, 'Generated by Yoga',\n",
    "         transform=plt.gca().transAxes,\n",
    "         fontsize=40, color='gray', alpha=0.3,\n",
    "         ha='center', va='center', rotation=30)\n",
    "    plt.text(0.99, 1.05, datetime.now().strftime('%d-%m-%Y %H:%M:%S'),\n",
    "         transform=plt.gca().transAxes,\n",
    "         fontsize=12, color='gray', alpha=0.7,\n",
    "         ha='right', va='bottom')\n",
    "    # plt.show()\n",
    "    plt.savefig(os.path.join(directory, 'Volatilitas-' + get_time_stamp() + '.png'), dpi=300, bbox_inches='tight')\n",
    "    plt.close()"
   ],
   "id": "31f910d4a0cfbb62",
   "outputs": [],
   "execution_count": 23
  },
  {
   "metadata": {
    "ExecuteTime": {
     "end_time": "2025-05-15T02:29:37.364802Z",
     "start_time": "2025-05-15T02:29:37.357370Z"
    }
   },
   "cell_type": "code",
   "source": [
    "def show_chart_sharpe_ratio(df) :\n",
    "    if 'Label' not in df.columns:\n",
    "        return\n",
    "    width = width_ratio * len(df['Label'])\n",
    "    plt.figure(figsize=(width, 6))\n",
    "    plt.scatter(df['Label'], df['Data'], color='blue')\n",
    "    plt.axhline(0, linestyle='--', alpha=0.5, color='red', label='0')\n",
    "    plt.title('Sharpe Ratio Pair BTC')\n",
    "    plt.xlabel('Ticker')\n",
    "    plt.ylabel('Sharpe Ratio')\n",
    "    plt.xticks(rotation=90)\n",
    "    plt.legend()\n",
    "    plt.grid(True)\n",
    "    plt.text(0.5, 0.5, 'Generated by Yoga',\n",
    "         transform=plt.gca().transAxes,\n",
    "         fontsize=40, color='gray', alpha=0.3,\n",
    "         ha='center', va='center', rotation=30)\n",
    "    plt.text(0.99, 1.05, datetime.now().strftime('%d-%m-%Y %H:%M:%S'),\n",
    "         transform=plt.gca().transAxes,\n",
    "         fontsize=12, color='gray', alpha=0.7,\n",
    "         ha='right', va='bottom')\n",
    "    # plt.show()\n",
    "    plt.savefig(os.path.join(directory, 'Sharpe Ratio-' + get_time_stamp() + '.png'), dpi=300, bbox_inches='tight')\n",
    "    plt.close()"
   ],
   "id": "dd3addce2d2d653f",
   "outputs": [],
   "execution_count": 24
  },
  {
   "metadata": {
    "ExecuteTime": {
     "end_time": "2025-05-15T02:29:37.402929Z",
     "start_time": "2025-05-15T02:29:37.395471Z"
    }
   },
   "cell_type": "code",
   "source": [
    "def show_chart_adj_return_per_volatility(df) :\n",
    "    if 'Label' not in df.columns:\n",
    "        return\n",
    "    width = width_ratio * len(df['Label'])\n",
    "    plt.figure(figsize=(width, 6))\n",
    "    plt.scatter(df['Label'], df['Data'], color='blue')\n",
    "    plt.axhline(0, linestyle='--', alpha=0.5, color='red', label='0')\n",
    "    plt.title('Adjusted Return Per Unit Volatility Pair BTC')\n",
    "    plt.xlabel('Ticker')\n",
    "    plt.ylabel('Adjusted Return Per Unit Volatility')\n",
    "    plt.xticks(rotation=90)\n",
    "    plt.legend()\n",
    "    plt.grid(True)\n",
    "    plt.text(0.5, 0.5, 'Generated by Yoga',\n",
    "         transform=plt.gca().transAxes,\n",
    "         fontsize=40, color='gray', alpha=0.3,\n",
    "         ha='center', va='center', rotation=30)\n",
    "    plt.text(0.99, 1.05, datetime.now().strftime('%d-%m-%Y %H:%M:%S'),\n",
    "         transform=plt.gca().transAxes,\n",
    "         fontsize=12, color='gray', alpha=0.7,\n",
    "         ha='right', va='bottom')\n",
    "    # plt.show()\n",
    "    plt.savefig(os.path.join(directory, 'Adjusted Return Per Unit Volatility-' + get_time_stamp() + '.png'), dpi=300, bbox_inches='tight')\n",
    "    plt.close()"
   ],
   "id": "6cbac0d596e590ed",
   "outputs": [],
   "execution_count": 25
  },
  {
   "metadata": {
    "ExecuteTime": {
     "end_time": "2025-05-15T02:29:37.437082Z",
     "start_time": "2025-05-15T02:29:37.429958Z"
    }
   },
   "cell_type": "code",
   "source": [
    "def show_chart_sortino_ratio(df) :\n",
    "    if 'Label' not in df.columns:\n",
    "        return\n",
    "    width = width_ratio * len(df['Label'])\n",
    "    plt.figure(figsize=(width, 6))\n",
    "    plt.scatter(df['Label'], df['Data'], color='blue')\n",
    "    plt.axhline(0, linestyle='--', alpha=0.5, color='red', label='0')\n",
    "    plt.title('Sortino Ratio Pair BTC')\n",
    "    plt.xlabel('Ticker')\n",
    "    plt.ylabel('Sortino Ratio')\n",
    "    plt.xticks(rotation=90)\n",
    "    plt.legend()\n",
    "    plt.grid(True)\n",
    "    plt.text(0.5, 0.5, 'Generated by Yoga',\n",
    "         transform=plt.gca().transAxes,\n",
    "         fontsize=40, color='gray', alpha=0.3,\n",
    "         ha='center', va='center', rotation=30)\n",
    "    plt.text(0.99, 1.05, datetime.now().strftime('%d-%m-%Y %H:%M:%S'),\n",
    "         transform=plt.gca().transAxes,\n",
    "         fontsize=12, color='gray', alpha=0.7,\n",
    "         ha='right', va='bottom')\n",
    "    # plt.show()\n",
    "    plt.savefig(os.path.join(directory, 'Sortino Ratio-' + get_time_stamp() + '.png'), dpi=300, bbox_inches='tight')\n",
    "    plt.close()"
   ],
   "id": "d361ac8d8cbd971e",
   "outputs": [],
   "execution_count": 26
  },
  {
   "metadata": {
    "ExecuteTime": {
     "end_time": "2025-05-15T02:29:37.472144Z",
     "start_time": "2025-05-15T02:29:37.465883Z"
    }
   },
   "cell_type": "code",
   "source": [
    "def calculate_downside_std(returns) :\n",
    "    downside_returns = returns[returns < 0]\n",
    "    if len(downside_returns) < 2 :\n",
    "        return None\n",
    "    return np.sqrt((downside_returns ** 2).sum()/(len(downside_returns) - 1))"
   ],
   "id": "c8775a98670e33b9",
   "outputs": [],
   "execution_count": 27
  },
  {
   "metadata": {
    "ExecuteTime": {
     "end_time": "2025-05-15T02:29:37.534071Z",
     "start_time": "2025-05-15T02:29:37.519040Z"
    }
   },
   "cell_type": "code",
   "source": [
    "def show_multiple_chart(tickers, df_btc_usdt) :\n",
    "    rsi_list = []\n",
    "    beta_list = []\n",
    "    correl_list = []\n",
    "    latest_change_1d_list = []\n",
    "    latest_change_7d_list = []\n",
    "    latest_change_30d_list = []\n",
    "    # return_mean_list = []\n",
    "    # return_std_list = []\n",
    "    sharpe_ratio_list = []\n",
    "    adj_return_per_volatility_list = []\n",
    "    sortino_ratio_list = []\n",
    "    tickers.sort()\n",
    "\n",
    "    for i, ticker in enumerate(tickers) :\n",
    "        print('Processing ' + ticker + '...')\n",
    "        df_coin_idr_1 = get_df_from_ticker(ticker, ticker_type_map[ticker], '1d')\n",
    "        df_btc_pair = get_history_btc_pair(ticker, df_coin_idr_1, df_btc_usdt)\n",
    "\n",
    "        show_chart(df_btc_pair, ticker, 'BTC', 'Daily')\n",
    "        show_candlestick(ticker, 'BTC', df_btc_pair, 'Daily')\n",
    "\n",
    "        if 'RSI_14' in df_btc_pair.columns :\n",
    "            latest_rsi = df_btc_pair['RSI_14'].iloc[-1]\n",
    "            if not pd.isna(latest_rsi) :\n",
    "                rsi_list.append({'Label': ticker, 'RSI_14': latest_rsi})\n",
    "\n",
    "        if 'Beta' in df_btc_pair.columns :\n",
    "            latest_beta = df_btc_pair['Beta'].iloc[-1]\n",
    "            if not pd.isna(latest_beta) :\n",
    "                beta_list.append({'Label': ticker, 'Beta': latest_beta})\n",
    "\n",
    "        if 'Correl' in df_btc_pair.columns :\n",
    "            latest_correl = df_btc_pair['Correl'].iloc[-1]\n",
    "            if not pd.isna(latest_correl) :\n",
    "                correl_list.append({'Label': ticker, 'Correl': latest_correl})\n",
    "\n",
    "        latest_change_1d = df_btc_pair['Change1D'].iloc[-1]\n",
    "        latest_change_7d = df_btc_pair['Change7D'].iloc[-1]\n",
    "        latest_change_30d = df_btc_pair['Change30D'].iloc[-1]\n",
    "\n",
    "        if not pd.isna(latest_change_1d) :\n",
    "            latest_change_1d_list.append({'Label': ticker, 'Data': latest_change_1d})\n",
    "        if not pd.isna(latest_change_7d) :\n",
    "            latest_change_7d_list.append({'Label': ticker, 'Data': latest_change_7d})\n",
    "        if not pd.isna(latest_change_30d) :\n",
    "            latest_change_30d_list.append({'Label': ticker, 'Data': latest_change_30d})\n",
    "\n",
    "        return_mean = df_btc_pair['Return'].mean(skipna=True)\n",
    "        return_std = df_btc_pair['Return'].std(skipna=True)\n",
    "        sharpe_ratio = return_mean/return_std\n",
    "\n",
    "        latest_cum_return = df_btc_pair['Cum Return'].iloc[-1]\n",
    "        return_downside_std = calculate_downside_std(df_btc_pair['Return'])\n",
    "        adj_return_per_volatility = latest_cum_return / return_std\n",
    "\n",
    "        # if not pd.isna(return_mean) :\n",
    "        #     return_mean_list.append({'Label': ticker, 'Data': return_mean*100})\n",
    "        # if not pd.isna(return_std) :\n",
    "        #     return_std_list.append({'Label': ticker, 'Data': return_std})\n",
    "        if not pd.isna(sharpe_ratio) :\n",
    "            sharpe_ratio_list.append({'Label': ticker, 'Data': sharpe_ratio})\n",
    "        if not pd.isna(adj_return_per_volatility) :\n",
    "            adj_return_per_volatility_list.append({'Label': ticker, 'Data': adj_return_per_volatility})\n",
    "        if not pd.isna(return_downside_std) :\n",
    "            sortino_ratio = return_mean/return_downside_std\n",
    "            sortino_ratio_list.append({'Label': ticker, 'Data': sortino_ratio})\n",
    "\n",
    "        if len(df_btc_pair['Close']) >= 100 :\n",
    "            df_btc_pair_weekly = resampling_weekly(df_btc_pair)\n",
    "            df_btc_pair_weekly = get_indicator(df_btc_pair_weekly)\n",
    "            show_chart(df_btc_pair_weekly, ticker, 'BTC', 'Weekly')\n",
    "            show_candlestick(ticker, 'BTC', df_btc_pair_weekly, 'Weekly')\n",
    "\n",
    "    rsi_list = sorted(rsi_list, key=lambda x: x['RSI_14'])\n",
    "    rsi_df = pd.DataFrame(rsi_list)\n",
    "    show_chart_rsi(rsi_df)\n",
    "\n",
    "    beta_list = sorted(beta_list, key=lambda x: x['Beta'])\n",
    "    beta_df = pd.DataFrame(beta_list)\n",
    "    show_chart_beta(beta_df)\n",
    "\n",
    "    correl_list = sorted(correl_list, key=lambda x: x['Correl'])\n",
    "    corr_df = pd.DataFrame(correl_list)\n",
    "    show_chart_correl(corr_df)\n",
    "\n",
    "    latest_change_1d_list = sorted(latest_change_1d_list, key=lambda x: x['Data'])\n",
    "    latest_change_1d_list_df = pd.DataFrame(latest_change_1d_list)\n",
    "    show_chart_change(latest_change_1d_list_df, 'Perubahan 1 Hari Terhadap BTC')\n",
    "\n",
    "    latest_change_7d_list = sorted(latest_change_7d_list, key=lambda x: x['Data'])\n",
    "    latest_change_7d_list_df = pd.DataFrame(latest_change_7d_list)\n",
    "    show_chart_change(latest_change_7d_list_df, 'Perubahan 7 Hari Terhadap BTC')\n",
    "\n",
    "    latest_change_30d_list = sorted(latest_change_30d_list, key=lambda x: x['Data'])\n",
    "    latest_change_30d_list_df = pd.DataFrame(latest_change_30d_list)\n",
    "    show_chart_change(latest_change_30d_list_df, 'Perubahan 30 Hari Terhadap BTC')\n",
    "\n",
    "    # return_mean_list = sorted(return_mean_list, key=lambda x: x['Data'])\n",
    "    # return_mean_list_df = pd.DataFrame(return_mean_list)\n",
    "    # show_chart_return_mean(return_mean_list_df)\n",
    "    #\n",
    "    # return_std_list = sorted(return_std_list, key=lambda x: x['Data'])\n",
    "    # return_std_list_df = pd.DataFrame(return_std_list)\n",
    "    # show_chart_return_std(return_std_list_df)\n",
    "\n",
    "    sharpe_ratio_list = sorted(sharpe_ratio_list, key=lambda x: x['Data'])\n",
    "    sharpe_ratio_list_df = pd.DataFrame(sharpe_ratio_list)\n",
    "    show_chart_sharpe_ratio(sharpe_ratio_list_df)\n",
    "\n",
    "    adj_return_per_volatility_list = sorted(adj_return_per_volatility_list, key=lambda x: x['Data'])\n",
    "    adj_return_per_volatility_list_df = pd.DataFrame(adj_return_per_volatility_list)\n",
    "    show_chart_adj_return_per_volatility(adj_return_per_volatility_list_df)\n",
    "\n",
    "    sortino_ratio_list = sorted(sortino_ratio_list, key=lambda x: x['Data'])\n",
    "    sortino_ratio_list_df = pd.DataFrame(sortino_ratio_list)\n",
    "    show_chart_sortino_ratio(sortino_ratio_list_df)\n",
    "\n",
    "    excel_file = os.path.join(directory, 'price_tko-' + get_time_stamp() + '.xlsx')\n",
    "    with pd.ExcelWriter(excel_file) as writer:\n",
    "        rsi_df.to_excel(writer, sheet_name='RSI', index=False)\n",
    "        beta_df.to_excel(writer, sheet_name='Beta', index=False)\n",
    "        corr_df.to_excel(writer, sheet_name='Correlation', index=False)\n",
    "        latest_change_1d_list_df.to_excel(writer, sheet_name='Change 1D', index=False)\n",
    "        latest_change_7d_list_df.to_excel(writer, sheet_name='Change 7D', index=False)\n",
    "        latest_change_30d_list_df.to_excel(writer, sheet_name='Change 30D', index=False)\n",
    "        # return_mean_list_df.to_excel(writer, sheet_name='Return Mean', index=False)\n",
    "        # return_std_list_df.to_excel(writer, sheet_name='Volatility', index=False)\n",
    "        sharpe_ratio_list_df.to_excel(writer, sheet_name='Sharpe Ratio', index=False)\n",
    "        sortino_ratio_list_df.to_excel(writer, sheet_name='Sortino Ratio', index=False)\n",
    "        adj_return_per_volatility_list_df.to_excel(writer, sheet_name='Adj Return Per Volatility', index=False)\n"
   ],
   "id": "83bd6e47bbd4647b",
   "outputs": [],
   "execution_count": 28
  },
  {
   "metadata": {
    "jupyter": {
     "is_executing": true
    },
    "ExecuteTime": {
     "start_time": "2025-05-15T02:29:37.557061Z"
    }
   },
   "cell_type": "code",
   "source": [
    "tickers = [symbol.removesuffix('_USDT') for symbol in symbols]\n",
    "# print(tickers)\n",
    "\n",
    "show_multiple_chart(tickers, dfBtcUsdt)"
   ],
   "id": "852f7e1d673f3889",
   "outputs": [
    {
     "name": "stdout",
     "output_type": "stream",
     "text": [
      "Processing 1000CAT...\n",
      "Processing 1000SATS...\n",
      "Processing 1INCH...\n"
     ]
    },
    {
     "name": "stderr",
     "output_type": "stream",
     "text": [
      "C:\\Users\\yogab\\PycharmProjects\\crypto-price\\.venv\\Lib\\site-packages\\mplfinance\\_arg_validators.py:84: UserWarning: \n",
      "\n",
      " ================================================================= \n",
      "\n",
      "   WARNING: YOU ARE PLOTTING SO MUCH DATA THAT IT MAY NOT BE\n",
      "            POSSIBLE TO SEE DETAILS (Candles, Ohlc-Bars, Etc.)\n",
      "   For more information see:\n",
      "   - https://github.com/matplotlib/mplfinance/wiki/Plotting-Too-Much-Data\n",
      "   \n",
      "   TO SILENCE THIS WARNING, set `type='line'` in `mpf.plot()`\n",
      "   OR set kwarg `warn_too_much_data=N` where N is an integer \n",
      "   LARGER than the number of data points you want to plot.\n",
      "\n",
      " ================================================================ \n",
      "  warnings.warn('\\n\\n ================================================================= '+\n"
     ]
    },
    {
     "name": "stdout",
     "output_type": "stream",
     "text": [
      "Processing 1MBABYDOGE...\n",
      "Processing AAVE...\n"
     ]
    },
    {
     "name": "stderr",
     "output_type": "stream",
     "text": [
      "C:\\Users\\yogab\\PycharmProjects\\crypto-price\\.venv\\Lib\\site-packages\\mplfinance\\_arg_validators.py:84: UserWarning: \n",
      "\n",
      " ================================================================= \n",
      "\n",
      "   WARNING: YOU ARE PLOTTING SO MUCH DATA THAT IT MAY NOT BE\n",
      "            POSSIBLE TO SEE DETAILS (Candles, Ohlc-Bars, Etc.)\n",
      "   For more information see:\n",
      "   - https://github.com/matplotlib/mplfinance/wiki/Plotting-Too-Much-Data\n",
      "   \n",
      "   TO SILENCE THIS WARNING, set `type='line'` in `mpf.plot()`\n",
      "   OR set kwarg `warn_too_much_data=N` where N is an integer \n",
      "   LARGER than the number of data points you want to plot.\n",
      "\n",
      " ================================================================ \n",
      "  warnings.warn('\\n\\n ================================================================= '+\n"
     ]
    },
    {
     "name": "stdout",
     "output_type": "stream",
     "text": [
      "Processing ACA...\n"
     ]
    },
    {
     "name": "stderr",
     "output_type": "stream",
     "text": [
      "C:\\Users\\yogab\\PycharmProjects\\crypto-price\\.venv\\Lib\\site-packages\\mplfinance\\_arg_validators.py:84: UserWarning: \n",
      "\n",
      " ================================================================= \n",
      "\n",
      "   WARNING: YOU ARE PLOTTING SO MUCH DATA THAT IT MAY NOT BE\n",
      "            POSSIBLE TO SEE DETAILS (Candles, Ohlc-Bars, Etc.)\n",
      "   For more information see:\n",
      "   - https://github.com/matplotlib/mplfinance/wiki/Plotting-Too-Much-Data\n",
      "   \n",
      "   TO SILENCE THIS WARNING, set `type='line'` in `mpf.plot()`\n",
      "   OR set kwarg `warn_too_much_data=N` where N is an integer \n",
      "   LARGER than the number of data points you want to plot.\n",
      "\n",
      " ================================================================ \n",
      "  warnings.warn('\\n\\n ================================================================= '+\n"
     ]
    },
    {
     "name": "stdout",
     "output_type": "stream",
     "text": [
      "Processing ACE...\n",
      "Processing ACH...\n"
     ]
    }
   ],
   "execution_count": null
  }
 ],
 "metadata": {
  "kernelspec": {
   "display_name": "Python 3",
   "language": "python",
   "name": "python3"
  },
  "language_info": {
   "codemirror_mode": {
    "name": "ipython",
    "version": 2
   },
   "file_extension": ".py",
   "mimetype": "text/x-python",
   "name": "python",
   "nbconvert_exporter": "python",
   "pygments_lexer": "ipython2",
   "version": "2.7.6"
  }
 },
 "nbformat": 4,
 "nbformat_minor": 5
}
