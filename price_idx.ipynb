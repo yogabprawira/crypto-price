{
 "cells": [
  {
   "cell_type": "code",
   "id": "initial_id",
   "metadata": {
    "collapsed": true,
    "ExecuteTime": {
     "end_time": "2025-05-17T10:17:04.780681Z",
     "start_time": "2025-05-17T10:17:03.458529Z"
    }
   },
   "source": [
    "import os\n",
    "\n",
    "import yfinance as yf\n",
    "import requests\n",
    "from datetime import datetime, timedelta\n",
    "import time\n",
    "import pandas as pd\n",
    "import matplotlib.pyplot as plt\n",
    "import mplfinance as mpf\n",
    "import talib as ta\n"
   ],
   "outputs": [],
   "execution_count": 1
  },
  {
   "metadata": {
    "ExecuteTime": {
     "end_time": "2025-05-17T10:17:04.950315Z",
     "start_time": "2025-05-17T10:17:04.943989Z"
    }
   },
   "cell_type": "code",
   "source": "print(yf.__version__)",
   "id": "399eab695b7f9661",
   "outputs": [
    {
     "name": "stdout",
     "output_type": "stream",
     "text": [
      "0.2.61\n"
     ]
    }
   ],
   "execution_count": 2
  },
  {
   "metadata": {
    "ExecuteTime": {
     "end_time": "2025-05-17T10:17:04.987425Z",
     "start_time": "2025-05-17T10:17:04.982343Z"
    }
   },
   "cell_type": "code",
   "source": [
    "def get_time_stamp():\n",
    "    return datetime.now().strftime('%Y%m%d%H%M%S')"
   ],
   "id": "5449cbb5e0b03db4",
   "outputs": [],
   "execution_count": 3
  },
  {
   "metadata": {
    "ExecuteTime": {
     "end_time": "2025-05-17T10:17:05.019392Z",
     "start_time": "2025-05-17T10:17:05.013448Z"
    }
   },
   "cell_type": "code",
   "source": [
    "directory = 'idx-' + get_time_stamp()\n",
    "os.makedirs(directory, exist_ok=True)"
   ],
   "id": "2284870b3576fe50",
   "outputs": [],
   "execution_count": 4
  },
  {
   "metadata": {
    "ExecuteTime": {
     "end_time": "2025-05-17T10:17:05.054535Z",
     "start_time": "2025-05-17T10:17:05.049471Z"
    }
   },
   "cell_type": "code",
   "source": [
    "def get_btc_idr(time_from, time_to) :\n",
    "    pair = 'BTCIDR'\n",
    "    time_frame = '1D'\n",
    "    return requests.get('https://indodax.com/tradingview/history_v2?from=' + str(time_from) + '&symbol=' + pair +'&tf=' + time_frame + '&to=' + str(time_to)).json()"
   ],
   "id": "d57e85e146f03d02",
   "outputs": [],
   "execution_count": 5
  },
  {
   "metadata": {
    "ExecuteTime": {
     "end_time": "2025-05-17T10:17:05.151747Z",
     "start_time": "2025-05-17T10:17:05.146295Z"
    }
   },
   "cell_type": "code",
   "source": [
    "now = datetime.now()\n",
    "past = now - timedelta(days=5*365)\n",
    "time_from_s = int(time.mktime(past.timetuple()))\n",
    "time_to_s = int(time.mktime(now.timetuple()))\n",
    "time_from_date = past.strftime('%Y-%m-%d')\n",
    "time_to_date = now.strftime('%Y-%m-%d')"
   ],
   "id": "9ee7ec44fb5de014",
   "outputs": [],
   "execution_count": 6
  },
  {
   "metadata": {
    "ExecuteTime": {
     "end_time": "2025-05-17T10:17:05.272529Z",
     "start_time": "2025-05-17T10:17:05.264998Z"
    }
   },
   "cell_type": "code",
   "source": [
    "def get_df_btc_idr(time_from, time_to) :\n",
    "    btc_idr_daily = get_btc_idr(time_from, time_to)\n",
    "    df_daily = pd.DataFrame(btc_idr_daily)\n",
    "    if df_daily.empty :\n",
    "        return df_daily\n",
    "    df_daily['Date'] = pd.to_datetime(df_daily['Time'], unit='s')\n",
    "    df_daily['Volume'] = pd.to_numeric(df_daily['Volume'])\n",
    "    df_daily = df_daily.sort_values(by='Date')\n",
    "    df_daily.set_index('Date', inplace=True)\n",
    "    df_weekly = df_daily.resample('W-FRI').agg({\n",
    "        'Open': 'first',\n",
    "        'High': 'max',\n",
    "        'Low': 'min',\n",
    "        'Close': 'last',\n",
    "        'Volume': 'sum'\n",
    "    })\n",
    "    df_weekly.reset_index(inplace=True)\n",
    "    return df_weekly"
   ],
   "id": "be4baadf3ed9a619",
   "outputs": [],
   "execution_count": 7
  },
  {
   "metadata": {
    "ExecuteTime": {
     "end_time": "2025-05-17T10:17:05.803594Z",
     "start_time": "2025-05-17T10:17:05.316660Z"
    }
   },
   "cell_type": "code",
   "source": [
    "df_btc_idr = get_df_btc_idr(time_from_s, time_to_s)\n",
    "# print(df_btc_idr)"
   ],
   "id": "bfd7b6763800a70b",
   "outputs": [],
   "execution_count": 8
  },
  {
   "metadata": {
    "ExecuteTime": {
     "end_time": "2025-05-17T10:17:06.096934Z",
     "start_time": "2025-05-17T10:17:05.825867Z"
    }
   },
   "cell_type": "code",
   "source": [
    "stock_list_excel = pd.read_excel('Stock List.xlsx')\n",
    "stock_list = stock_list_excel['Code']"
   ],
   "id": "e2cff944385defe2",
   "outputs": [],
   "execution_count": 9
  },
  {
   "metadata": {
    "ExecuteTime": {
     "end_time": "2025-05-17T10:17:06.125287Z",
     "start_time": "2025-05-17T10:17:06.117235Z"
    }
   },
   "cell_type": "code",
   "source": [
    "def get_df_yf(ticker, time_from, time_to) :\n",
    "    stock_daily = yf.download(ticker, start=time_from, end=time_to, interval='1d', multi_level_index=False)\n",
    "    stock_weekly = stock_daily.resample('W-FRI').agg({\n",
    "        'Open': 'first',\n",
    "        'High': 'max',\n",
    "        'Low': 'min',\n",
    "        'Close': 'last',\n",
    "        'Volume': 'sum'\n",
    "    })\n",
    "    stock_weekly.dropna(inplace=True)\n",
    "    stock_weekly.reset_index(inplace=True)\n",
    "    return stock_weekly"
   ],
   "id": "a1c8533b183d5a9",
   "outputs": [],
   "execution_count": 10
  },
  {
   "metadata": {
    "ExecuteTime": {
     "end_time": "2025-05-17T10:17:06.159340Z",
     "start_time": "2025-05-17T10:17:06.154320Z"
    }
   },
   "cell_type": "code",
   "source": [
    "def get_df_stock_idr(ticker, time_from, time_to) :\n",
    "    return get_df_yf(ticker + '.JK', time_from, time_to)"
   ],
   "id": "11453d81835cf21c",
   "outputs": [],
   "execution_count": 11
  },
  {
   "metadata": {
    "ExecuteTime": {
     "end_time": "2025-05-17T10:17:06.187810Z",
     "start_time": "2025-05-17T10:17:06.181413Z"
    }
   },
   "cell_type": "code",
   "source": [
    "def get_df_ihsg(time_from, time_to) :\n",
    "    return get_df_yf('^JKSE', time_from, time_to)"
   ],
   "id": "d2bb176cf7c82bdc",
   "outputs": [],
   "execution_count": 12
  },
  {
   "metadata": {
    "ExecuteTime": {
     "end_time": "2025-05-17T10:17:06.227249Z",
     "start_time": "2025-05-17T10:17:06.221058Z"
    }
   },
   "cell_type": "code",
   "source": [
    "def get_df_usd_idr(time_from, time_to) :\n",
    "    return get_df_yf('IDR=X', time_from, time_to)"
   ],
   "id": "3606e60ec63d631",
   "outputs": [],
   "execution_count": 13
  },
  {
   "metadata": {
    "ExecuteTime": {
     "end_time": "2025-05-17T10:17:06.275195Z",
     "start_time": "2025-05-17T10:17:06.267032Z"
    }
   },
   "cell_type": "code",
   "source": [
    "def get_df_xau_idr(time_from, time_to) :\n",
    "    troy_ounce = 31.1035\n",
    "    xau_usd_troy_ounce_df = get_df_yf('GC=F', time_from, time_to)\n",
    "    usd_idr_df = get_df_usd_idr(time_from, time_to)\n",
    "\n",
    "    df_merged = pd.merge(xau_usd_troy_ounce_df, usd_idr_df, on='Date', suffixes=('_main', '_base'))\n",
    "    df_merged['Open_main_base'] = df_merged['Open_main'] * df_merged['Open_base'] / troy_ounce\n",
    "    df_merged['High_main_base'] = df_merged['High_main'] * df_merged['High_base'] / troy_ounce\n",
    "    df_merged['Low_main_base'] = df_merged['Low_main'] * df_merged['Low_base'] / troy_ounce\n",
    "    df_merged['Close_main_base'] = df_merged['Close_main'] * df_merged['Close_base'] / troy_ounce\n",
    "    df_merged['Volume_main_base'] = df_merged['Volume_main']\n",
    "\n",
    "    df_final = df_merged[['Date', 'Open_main_base', 'High_main_base', 'Low_main_base', 'Close_main_base', 'Volume_main_base']].copy()\n",
    "    df_final.rename(columns={\n",
    "        'Open_main_base': 'Open',\n",
    "        'High_main_base': 'High',\n",
    "        'Low_main_base': 'Low',\n",
    "        'Close_main_base': 'Close',\n",
    "        'Volume_main_base': 'Volume'\n",
    "    }, inplace=True)\n",
    "\n",
    "    return df_final"
   ],
   "id": "670d3bd585743353",
   "outputs": [],
   "execution_count": 14
  },
  {
   "metadata": {
    "ExecuteTime": {
     "end_time": "2025-05-17T10:17:06.856295Z",
     "start_time": "2025-05-17T10:17:06.298903Z"
    }
   },
   "cell_type": "code",
   "source": "df_xau_idr = get_df_xau_idr(time_from_date, time_to_date)",
   "id": "f05dcf2365b5bf7c",
   "outputs": [
    {
     "name": "stdout",
     "output_type": "stream",
     "text": [
      "YF.download() has changed argument auto_adjust default to True\n"
     ]
    },
    {
     "name": "stderr",
     "output_type": "stream",
     "text": [
      "[*********************100%***********************]  1 of 1 completed\n",
      "[*********************100%***********************]  1 of 1 completed\n"
     ]
    }
   ],
   "execution_count": 15
  },
  {
   "metadata": {
    "ExecuteTime": {
     "end_time": "2025-05-17T10:17:06.893485Z",
     "start_time": "2025-05-17T10:17:06.886802Z"
    }
   },
   "cell_type": "code",
   "source": [
    "def calculate_change_price(df) :\n",
    "    start = df['Close'].iloc[0]\n",
    "    end = df['Close'].iloc[-1]\n",
    "    percent = ((end-start)/start)*100\n",
    "    return percent"
   ],
   "id": "a1549877bc51a2b5",
   "outputs": [],
   "execution_count": 16
  },
  {
   "metadata": {
    "ExecuteTime": {
     "end_time": "2025-05-17T10:17:06.935387Z",
     "start_time": "2025-05-17T10:17:06.927059Z"
    }
   },
   "cell_type": "code",
   "source": [
    "def show_chart_change(df, chart_title) :\n",
    "    width_ratio = 0.2\n",
    "    width = width_ratio * len(df['Label'])\n",
    "    plt.figure(figsize=(width, 6))\n",
    "    plt.scatter(df['Label'], df['Data'], color='blue')\n",
    "    plt.axhline(0, linestyle='--', alpha=0.5, color='red', label='Change = 0%')\n",
    "    plt.title(chart_title)\n",
    "    plt.xlabel('Ticker')\n",
    "    plt.ylabel('Perubahan (%)')\n",
    "    plt.xticks(rotation=90)\n",
    "    plt.legend()\n",
    "    plt.grid(True)\n",
    "    plt.text(0.5, 0.5, 'Generated by Yoga',\n",
    "         transform=plt.gca().transAxes,\n",
    "         fontsize=40, color='gray', alpha=0.3,\n",
    "         ha='center', va='center', rotation=30)\n",
    "    plt.text(0.99, 1.05, datetime.now().strftime('%d-%m-%Y %H:%M:%S'),\n",
    "         transform=plt.gca().transAxes,\n",
    "         fontsize=12, color='gray', alpha=0.7,\n",
    "         ha='right', va='bottom')\n",
    "    # plt.show()\n",
    "    plt.savefig(os.path.join(directory, chart_title + '.png'), dpi=300, bbox_inches='tight')\n",
    "    plt.close()"
   ],
   "id": "22788183f2596387",
   "outputs": [],
   "execution_count": 17
  },
  {
   "metadata": {
    "ExecuteTime": {
     "end_time": "2025-05-17T10:17:06.972386Z",
     "start_time": "2025-05-17T10:17:06.965228Z"
    }
   },
   "cell_type": "code",
   "source": [
    "def get_indicator(df_final) :\n",
    "    df_final['RSI_14'] = ta.RSI(df_final['Close'], timeperiod=14)\n",
    "\n",
    "    df_final['OBV'] = ta.OBV(df_final['Close'], df_final['Volume'])\n",
    "\n",
    "    slowk, slowd = ta.STOCH(df_final['High'], df_final['Low'], df_final['Close'],\n",
    "                           fastk_period=5,\n",
    "                           slowk_period=3,\n",
    "                           slowd_period=3)\n",
    "    df_final['Stoch_%K'] = slowk\n",
    "    df_final['Stoch_%D'] = slowd\n",
    "    return df_final"
   ],
   "id": "986396e06dfd8ec1",
   "outputs": [],
   "execution_count": 18
  },
  {
   "metadata": {
    "ExecuteTime": {
     "end_time": "2025-05-17T10:17:07.012230Z",
     "start_time": "2025-05-17T10:17:07.001936Z"
    }
   },
   "cell_type": "code",
   "source": [
    "def get_history_btc_pair(stock_ticker, df_stock_idr_weekly, df_btc_idr_weekly) :\n",
    "    ticker_name_low = stock_ticker.lower()\n",
    "    df_merged = pd.merge(df_stock_idr_weekly, df_btc_idr_weekly, on='Date', suffixes=('_'+ticker_name_low, '_btc'))\n",
    "    df_merged['Open_' + ticker_name_low +'_btc'] = df_merged['Open_' + ticker_name_low] / df_merged['Open_btc']\n",
    "    df_merged['High_' + ticker_name_low +'_btc'] = df_merged['High_' + ticker_name_low] / df_merged['High_btc']\n",
    "    df_merged['Low_' + ticker_name_low + '_btc'] = df_merged['Low_' + ticker_name_low] / df_merged['Low_btc']\n",
    "    df_merged['Close_'+ ticker_name_low +'_btc'] = df_merged['Close_' + ticker_name_low] / df_merged['Close_btc']\n",
    "    df_merged['Volume_'+ ticker_name_low +'_btc'] = df_merged['Volume_' + ticker_name_low]\n",
    "\n",
    "    df_final = df_merged[['Date', 'Open_' + ticker_name_low +'_btc', 'High_' + ticker_name_low +'_btc', 'Low_' + ticker_name_low + '_btc', 'Close_' + ticker_name_low +'_btc', 'Volume_' + ticker_name_low +'_btc']].copy()\n",
    "    df_final.rename(columns={\n",
    "        'Open_' + ticker_name_low +'_btc': 'Open',\n",
    "        'High_' + ticker_name_low +'_btc': 'High',\n",
    "        'Low_' + ticker_name_low + '_btc': 'Low',\n",
    "        'Close_' + ticker_name_low +'_btc': 'Close',\n",
    "        'Volume_' + ticker_name_low +'_btc': 'Volume'\n",
    "    }, inplace=True)\n",
    "\n",
    "    mask = df_final['High'] < df_final['Low']\n",
    "    df_final.loc[mask, ['High', 'Low']] = df_final.loc[mask, ['Low', 'High']].values\n",
    "    df_final = get_indicator(df_final)\n",
    "    return df_final"
   ],
   "id": "2bc4304a3d4e64aa",
   "outputs": [],
   "execution_count": 19
  },
  {
   "metadata": {
    "ExecuteTime": {
     "end_time": "2025-05-17T10:17:07.045303Z",
     "start_time": "2025-05-17T10:17:07.038257Z"
    }
   },
   "cell_type": "code",
   "source": [
    "def resampling_monthly(df_weekly) :\n",
    "    df_weekly.set_index('Date', inplace=True)\n",
    "    df_monthly = df_weekly.resample('ME').agg({\n",
    "        'Open': 'first',\n",
    "        'High': 'max',\n",
    "        'Low': 'min',\n",
    "        'Close': 'last',\n",
    "        'Volume': 'sum'\n",
    "    })\n",
    "    df_monthly.reset_index(inplace=True)\n",
    "    return df_monthly"
   ],
   "id": "3308b6f165a39ffc",
   "outputs": [],
   "execution_count": 20
  },
  {
   "metadata": {
    "ExecuteTime": {
     "end_time": "2025-05-17T10:17:07.081473Z",
     "start_time": "2025-05-17T10:17:07.074943Z"
    }
   },
   "cell_type": "code",
   "source": [
    "def show_candlestick(ticker, ticker_base, df_stock_btc, timeframe_str):\n",
    "    if timeframe_str == 'Monthly' :\n",
    "        timeframe_id_str = 'Bulanan'\n",
    "    else :\n",
    "        timeframe_id_str = 'Mingguan'\n",
    "    df_copy = df_stock_btc.copy()\n",
    "    df_copy.set_index('Date', inplace=True)\n",
    "\n",
    "    df_stock_btc.set_index('Date', inplace=True, drop=False)\n",
    "    mpf.plot(df_copy,\n",
    "             type='candle',\n",
    "             style='binance',\n",
    "             volume=True,\n",
    "             title=f'Pergerakan Harga {timeframe_id_str} {ticker}/{ticker_base}',\n",
    "             ylabel=f'Harga ({ticker_base})',\n",
    "             savefig=dict(fname=os.path.join(directory, 'Candlestick-' + timeframe_str + '-' + ticker + '-' + ticker_base + '-' + get_time_stamp() + '.png'), dpi=300, bbox_inches='tight'))"
   ],
   "id": "db97b17f0f8dcb8a",
   "outputs": [],
   "execution_count": 21
  },
  {
   "metadata": {
    "ExecuteTime": {
     "end_time": "2025-05-17T10:17:07.116688Z",
     "start_time": "2025-05-17T10:17:07.109100Z"
    }
   },
   "cell_type": "code",
   "source": [
    "def show_chart_rsi(df) :\n",
    "    width = 0.2 * len(df['Label'])\n",
    "    plt.figure(figsize=(width, 6))\n",
    "    plt.scatter(df['Label'], df['RSI_14'], color='blue')\n",
    "    plt.axhline(70, linestyle='--', alpha=0.5, color='red', label='Overbought (70)')\n",
    "    plt.axhline(30, linestyle='--', alpha=0.5, color='green', label='Oversold (30)')\n",
    "    plt.title('Nilai RSI Pair BTC')\n",
    "    plt.xlabel('Ticker')\n",
    "    plt.ylabel('RSI')\n",
    "    plt.xticks(rotation=90)\n",
    "    plt.legend()\n",
    "    plt.grid(True)\n",
    "    plt.text(0.5, 0.5, 'Generated by Yoga',\n",
    "         transform=plt.gca().transAxes,\n",
    "         fontsize=40, color='gray', alpha=0.3,\n",
    "         ha='center', va='center', rotation=30)\n",
    "    plt.text(0.99, 1.05, datetime.now().strftime('%d-%m-%Y %H:%M:%S'),\n",
    "         transform=plt.gca().transAxes,\n",
    "         fontsize=12, color='gray', alpha=0.7,\n",
    "         ha='right', va='bottom')\n",
    "    # plt.show()\n",
    "    plt.savefig(os.path.join(directory, 'RSI-' + get_time_stamp() + '.png'), dpi=300, bbox_inches='tight')\n",
    "    plt.close()"
   ],
   "id": "686ca9387ad4e9e8",
   "outputs": [],
   "execution_count": 22
  },
  {
   "metadata": {
    "ExecuteTime": {
     "end_time": "2025-05-17T10:17:07.168785Z",
     "start_time": "2025-05-17T10:17:07.154968Z"
    }
   },
   "cell_type": "code",
   "source": [
    "def show_chart(df, tickername, tickerbase, timeframe_str) :\n",
    "    time_now = datetime.now().strftime('%d-%m-%Y %H:%M:%S')\n",
    "\n",
    "    if timeframe_str == 'Monthly' :\n",
    "        timeframe_id_str = 'Bulanan'\n",
    "    else :\n",
    "        timeframe_id_str = 'Mingguan'\n",
    "\n",
    "    # Membuat figure dan dua subplot yang berbagi sumbu x\n",
    "    fig, (ax1, ax2, ax3, ax4) = plt.subplots(nrows=4, ncols=1, sharex=True, figsize=(14, 10))\n",
    "\n",
    "    # Pergerakan Harga\n",
    "    ax1.plot(df['Date'], df['Close'], label=f'{tickername}/{tickerbase}', color='blue')\n",
    "    # ax1.plot(df['Date'], df['EMA_13'], linewidth=0.5, label='EMA 13', color='yellow')\n",
    "    # ax1.plot(df['Date'], df['EMA_21'], linewidth=0.5, label='EMA 21', color='orange')\n",
    "    ax1.set_title(f'Pergerakan Harga {timeframe_id_str} {tickername} terhadap {tickerbase}')\n",
    "    ax1.set_ylabel(f'Harga ({tickerbase})')\n",
    "    ax1.legend()\n",
    "    ax1.grid(True)\n",
    "    ax1.text(0.99, 1.05, time_now,\n",
    "         transform=ax1.transAxes,\n",
    "         fontsize=12, color='gray', alpha=0.7,\n",
    "         ha='right', va='bottom')\n",
    "    ax1.text(0.5, 0.5, 'Generated by Yoga',\n",
    "         transform=ax1.transAxes,\n",
    "         fontsize=20, color='gray', alpha=0.3,\n",
    "         ha='center', va='center', rotation=30)\n",
    "\n",
    "    # RSI\n",
    "    ax2.plot(df['Date'], df['RSI_14'], label=f'RSI {tickername} terhadap {tickerbase}', color='orange')\n",
    "    ax2.axhline(70, linestyle='--', alpha=0.5, color='red')  # Garis overbought\n",
    "    ax2.axhline(30, linestyle='--', alpha=0.5, color='green')  # Garis oversold\n",
    "    ax2.set_title(f'Grafik RSI {tickername} terhadap {tickerbase}')\n",
    "    ax2.set_xlabel('Tanggal')\n",
    "    ax2.set_ylabel('RSI')\n",
    "    ax2.legend()\n",
    "    ax2.grid(True)\n",
    "    ax2.text(0.99, 1.05, time_now,\n",
    "         transform=ax2.transAxes,\n",
    "         fontsize=12, color='gray', alpha=0.7,\n",
    "         ha='right', va='bottom')\n",
    "    ax2.text(0.5, 0.5, 'Generated by Yoga',\n",
    "         transform=ax2.transAxes,\n",
    "         fontsize=20, color='gray', alpha=0.3,\n",
    "         ha='center', va='center', rotation=30)\n",
    "\n",
    "    # Stochastic\n",
    "    ax3.plot(df['Date'], df['Stoch_%K'], label='%K', color='blue')\n",
    "    ax3.plot(df['Date'], df['Stoch_%D'], label='%D', color='orange')\n",
    "    ax3.axhline(80, linestyle='--', alpha=0.5, color='red')  # Garis overbought\n",
    "    ax3.axhline(20, linestyle='--', alpha=0.5, color='green')  # Garis oversold\n",
    "    ax3.set_title(f'Grafik Stochastic {tickername} terhadap {tickerbase}')\n",
    "    ax3.set_xlabel('Tanggal')\n",
    "    ax3.set_ylabel('Nilai')\n",
    "    ax3.legend()\n",
    "    ax3.grid(True)\n",
    "    ax3.text(0.99, 1.05, time_now,\n",
    "         transform=ax3.transAxes,\n",
    "         fontsize=12, color='gray', alpha=0.7,\n",
    "         ha='right', va='bottom')\n",
    "    ax3.text(0.5, 0.5, 'Generated by Yoga',\n",
    "         transform=ax3.transAxes,\n",
    "         fontsize=20, color='gray', alpha=0.3,\n",
    "         ha='center', va='center', rotation=30)\n",
    "\n",
    "    # OBV\n",
    "    ax4.plot(df['Date'], df['OBV'], label='OBV', color='blue')\n",
    "    ax4.set_title(f'Grafik OBV {tickername} terhadap {tickerbase}')\n",
    "    ax4.set_xlabel('Tanggal')\n",
    "    ax4.set_ylabel('Nilai')\n",
    "    ax4.legend()\n",
    "    ax4.grid(True)\n",
    "    ax4.text(0.99, 1.05, time_now,\n",
    "         transform=ax4.transAxes,\n",
    "         fontsize=12, color='gray', alpha=0.7,\n",
    "         ha='right', va='bottom')\n",
    "    ax4.text(0.5, 0.5, 'Generated by Yoga',\n",
    "         transform=ax4.transAxes,\n",
    "         fontsize=20, color='gray', alpha=0.3,\n",
    "         ha='center', va='center', rotation=30)\n",
    "\n",
    "    # Menyesuaikan tata letak agar tidak saling tumpang tindih\n",
    "    plt.tight_layout()\n",
    "    # plt.show()\n",
    "    plt.savefig(os.path.join(directory, 'Chart-' + timeframe_str + '-' + tickername + '-' + tickerbase + '-' + get_time_stamp() + '.png'), dpi=300, bbox_inches='tight')\n",
    "    plt.close()"
   ],
   "id": "1a8a75d9a94037c5",
   "outputs": [],
   "execution_count": 23
  },
  {
   "metadata": {
    "ExecuteTime": {
     "end_time": "2025-05-17T10:17:07.205230Z",
     "start_time": "2025-05-17T10:17:07.193586Z"
    }
   },
   "cell_type": "code",
   "source": [
    "def show_charts(tickers):\n",
    "    change_3M_list = []\n",
    "    change_6M_list = []\n",
    "    change_1Y_list = []\n",
    "    rsi_list = []\n",
    "\n",
    "    for ticker in tickers:\n",
    "        print('Processing ' + ticker + '...')\n",
    "        df_stock_idr = get_df_stock_idr(ticker, time_from_date, time_to_date)\n",
    "        df_stock_btc = get_history_btc_pair(ticker, df_stock_idr, df_btc_idr)\n",
    "        # df_stock_xau = get_history_btc_pair(ticker, df_stock_idr, df_xau_idr)\n",
    "\n",
    "        show_candlestick(ticker, 'BTC', df_stock_btc, 'Weekly')\n",
    "        show_chart(df_stock_btc, ticker, 'BTC', 'Weekly')\n",
    "\n",
    "        # show_candlestick(ticker, 'XAU', df_stock_xau, 'Weekly')\n",
    "        # show_chart(df_stock_xau, ticker, 'XAU', 'Weekly')\n",
    "\n",
    "        three_months_ago = now - timedelta(days=90)\n",
    "        six_months_ago = now - timedelta(days=180)\n",
    "        years_ago = now - timedelta(days=365)\n",
    "\n",
    "        df_three_months_ago = df_stock_btc[df_stock_btc['Date'] >= three_months_ago]\n",
    "        df_six_months_ago = df_stock_btc[df_stock_btc['Date'] >= six_months_ago]\n",
    "        df_years_ago = df_stock_btc[df_stock_btc['Date'] >= years_ago]\n",
    "\n",
    "        latest_change_3M = calculate_change_price(df_three_months_ago)\n",
    "        latest_change_6M = calculate_change_price(df_six_months_ago)\n",
    "        latest_change_1Y = calculate_change_price(df_years_ago)\n",
    "\n",
    "        change_3M_list.append({'Label': ticker, 'Data': latest_change_3M})\n",
    "        change_6M_list.append({'Label': ticker, 'Data': latest_change_6M})\n",
    "        change_1Y_list.append({'Label': ticker, 'Data': latest_change_1Y})\n",
    "\n",
    "        latest_rsi = df_stock_btc['RSI_14'].iloc[-1]\n",
    "        rsi_list.append({'Label': ticker, 'RSI_14': latest_rsi})\n",
    "\n",
    "        if len(df_stock_btc['Close']) >= 100:\n",
    "            df_stock_btc_monthly = resampling_monthly(df_stock_btc)\n",
    "            df_stock_btc_monthly = get_indicator(df_stock_btc_monthly)\n",
    "            show_candlestick(ticker, 'BTC', df_stock_btc_monthly, 'Monthly')\n",
    "            show_chart(df_stock_btc_monthly, ticker, 'BTC', 'Monthly')\n",
    "\n",
    "        # if len(df_stock_xau['Close']) >= 100:\n",
    "        #     df_stock_xau_monthly = resampling_monthly(df_stock_xau)\n",
    "        #     df_stock_xau_monthly = get_indicator(df_stock_xau_monthly)\n",
    "        #     show_candlestick(ticker, 'XAU', df_stock_xau_monthly, 'Monthly')\n",
    "        #     show_chart(df_stock_xau_monthly, ticker, 'XAU', 'Monthly')\n",
    "\n",
    "    change_3M_list = sorted(change_3M_list, key=lambda x: x['Data'])\n",
    "    change_3M_list_df = pd.DataFrame(change_3M_list)\n",
    "    change_6M_list = sorted(change_6M_list, key=lambda x: x['Data'])\n",
    "    change_6M_list_df = pd.DataFrame(change_6M_list)\n",
    "    change_1Y_list = sorted(change_1Y_list, key=lambda x: x['Data'])\n",
    "    change_1Y_list_df = pd.DataFrame(change_1Y_list)\n",
    "\n",
    "    show_chart_change(change_3M_list_df, 'Perubahan Harga 3 Bulan Terakhir Pair BTC')\n",
    "    show_chart_change(change_6M_list_df, 'Perubahan Harga 6 Bulan Terakhir Pair BTC')\n",
    "    show_chart_change(change_1Y_list_df, 'Perubahan Harga 1 Tahun Terakhir Pair BTC')\n",
    "\n",
    "    rsi_list = sorted(rsi_list, key=lambda x: x['RSI_14'])\n",
    "    rsi_df = pd.DataFrame(rsi_list)\n",
    "    show_chart_rsi(rsi_df)\n",
    "\n",
    "    excel_file = os.path.join(directory, 'price_idx-' + get_time_stamp() + '.xlsx')\n",
    "    with pd.ExcelWriter(excel_file) as writer:\n",
    "        change_3M_list_df.to_excel(writer, sheet_name='Change 3M', index=False)\n",
    "        change_6M_list_df.to_excel(writer, sheet_name='Change 6M', index=False)\n",
    "        change_1Y_list_df.to_excel(writer, sheet_name='Change 1Y', index=False)\n",
    "        rsi_df.to_excel(writer, sheet_name='RSI', index=False)\n"
   ],
   "id": "e62cd034ddea23f2",
   "outputs": [],
   "execution_count": 24
  },
  {
   "metadata": {
    "ExecuteTime": {
     "end_time": "2025-05-17T10:17:07.244671Z",
     "start_time": "2025-05-17T10:17:07.239521Z"
    }
   },
   "cell_type": "code",
   "source": "show_charts(stock_list)",
   "id": "6fd26c575af5524f",
   "outputs": [],
   "execution_count": 25
  },
  {
   "metadata": {
    "ExecuteTime": {
     "end_time": "2025-05-17T10:18:59.463179Z",
     "start_time": "2025-05-17T10:18:56.735609Z"
    }
   },
   "cell_type": "code",
   "source": [
    "def show_chart_btc_xau() :\n",
    "    df_btc_xau = get_history_btc_pair('XAU', df_btc_idr, df_xau_idr)\n",
    "    show_candlestick('BTC', 'XAU', df_btc_xau, 'Weekly')\n",
    "    show_chart(df_btc_xau, 'BTC', 'XAU', 'Weekly')\n",
    "\n",
    "    df_btc_xau_monthly = resampling_monthly(df_btc_xau)\n",
    "    df_btc_xau_monthly = get_indicator(df_btc_xau_monthly)\n",
    "    show_candlestick('BTC', 'XAU', df_btc_xau_monthly, 'Monthly')\n",
    "    show_chart(df_btc_xau_monthly, 'BTC', 'XAU', 'Monthly')\n",
    "\n",
    "show_chart_btc_xau()\n"
   ],
   "id": "e9675f18835c4a71",
   "outputs": [],
   "execution_count": 28
  }
 ],
 "metadata": {
  "kernelspec": {
   "display_name": "Python 3",
   "language": "python",
   "name": "python3"
  },
  "language_info": {
   "codemirror_mode": {
    "name": "ipython",
    "version": 2
   },
   "file_extension": ".py",
   "mimetype": "text/x-python",
   "name": "python",
   "nbconvert_exporter": "python",
   "pygments_lexer": "ipython2",
   "version": "2.7.6"
  }
 },
 "nbformat": 4,
 "nbformat_minor": 5
}
