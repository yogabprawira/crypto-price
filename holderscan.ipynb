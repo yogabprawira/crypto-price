{
 "cells": [
  {
   "cell_type": "code",
   "execution_count": null,
   "id": "initial_id",
   "metadata": {
    "collapsed": true
   },
   "outputs": [],
   "source": [
    "import requests\n",
    "from dotenv import load_dotenv\n",
    "import os\n",
    "from datetime import datetime, timedelta"
   ]
  },
  {
   "metadata": {},
   "cell_type": "code",
   "outputs": [],
   "execution_count": null,
   "source": [
    "load_dotenv()\n",
    "api_key = os.getenv(\"HOLDERSCAN_API_KEY\")"
   ],
   "id": "6861c7deb3199d3c"
  },
  {
   "metadata": {},
   "cell_type": "code",
   "outputs": [],
   "execution_count": null,
   "source": [
    "def get_time_stamp():\n",
    "    return datetime.now().strftime('%Y%m%d%H%M%S')"
   ],
   "id": "b95021fcd2038683"
  },
  {
   "metadata": {},
   "cell_type": "code",
   "outputs": [],
   "execution_count": null,
   "source": [
    "directory = 'holderscan-' + get_time_stamp()\n",
    "os.makedirs(directory, exist_ok=True)"
   ],
   "id": "57e42b6f8934ba8c"
  },
  {
   "metadata": {},
   "cell_type": "code",
   "outputs": [],
   "execution_count": null,
   "source": [
    "base_url = 'https://api.holderscan.com/v0'\n",
    "headers = {'x-api-key : ' + api_key}"
   ],
   "id": "a1c1bb5b2cb839eb"
  },
  {
   "metadata": {},
   "cell_type": "code",
   "outputs": [],
   "execution_count": null,
   "source": [
    "def get_holder_breakdown(ca) :\n",
    "    headers = {'x-api-key :' + api_key}\n",
    "    return requests.get(base_url + '/sol/tokens/' + ca + '/holders/breakdowns', headers=headers).json()"
   ],
   "id": "4a7d8d7deb5361cd"
  },
  {
   "metadata": {},
   "cell_type": "code",
   "outputs": [],
   "execution_count": null,
   "source": [
    "ca_example = ''\n",
    "holder_breakdown = get_holder_breakdown(api_key)\n"
   ],
   "id": "b7401c208f101d85"
  }
 ],
 "metadata": {
  "kernelspec": {
   "display_name": "Python 3",
   "language": "python",
   "name": "python3"
  },
  "language_info": {
   "codemirror_mode": {
    "name": "ipython",
    "version": 2
   },
   "file_extension": ".py",
   "mimetype": "text/x-python",
   "name": "python",
   "nbconvert_exporter": "python",
   "pygments_lexer": "ipython2",
   "version": "2.7.6"
  }
 },
 "nbformat": 4,
 "nbformat_minor": 5
}
