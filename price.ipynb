{
 "cells": [
  {
   "cell_type": "code",
   "id": "initial_id",
   "metadata": {
    "ExecuteTime": {
     "end_time": "2025-05-13T09:05:50.261639Z",
     "start_time": "2025-05-13T09:05:48.936851Z"
    }
   },
   "source": [
    "import requests\n",
    "import pandas as pd\n",
    "import matplotlib.pyplot as plt\n",
    "from datetime import datetime, timedelta\n",
    "import time\n",
    "import talib as ta\n",
    "import os\n",
    "import mplfinance as mpf\n",
    "import numpy as np"
   ],
   "outputs": [],
   "execution_count": 1
  },
  {
   "metadata": {
    "ExecuteTime": {
     "end_time": "2025-05-13T09:05:50.282693Z",
     "start_time": "2025-05-13T09:05:50.278673Z"
    }
   },
   "cell_type": "code",
   "source": [
    "def get_time_stamp():\n",
    "    return datetime.now().strftime('%Y%m%d%H%M%S')"
   ],
   "id": "f511cbff952d63ef",
   "outputs": [],
   "execution_count": 2
  },
  {
   "metadata": {
    "ExecuteTime": {
     "end_time": "2025-05-13T09:05:50.299643Z",
     "start_time": "2025-05-13T09:05:50.295797Z"
    }
   },
   "cell_type": "code",
   "source": [
    "directory = 'indodax-' + get_time_stamp()\n",
    "os.makedirs(directory, exist_ok=True)"
   ],
   "id": "74c72c64a4661efe",
   "outputs": [],
   "execution_count": 3
  },
  {
   "cell_type": "code",
   "id": "b3bba175e068d031",
   "metadata": {
    "ExecuteTime": {
     "end_time": "2025-05-13T09:05:50.315795Z",
     "start_time": "2025-05-13T09:05:50.313859Z"
    }
   },
   "source": [
    "url = 'https://indodax.com'"
   ],
   "outputs": [],
   "execution_count": 4
  },
  {
   "cell_type": "code",
   "id": "84a1afc1134ab00e",
   "metadata": {
    "ExecuteTime": {
     "end_time": "2025-05-13T09:05:50.452270Z",
     "start_time": "2025-05-13T09:05:50.449985Z"
    }
   },
   "source": [
    "def get_pairs() :\n",
    "    return requests.get(url + '/api/pairs').json()"
   ],
   "outputs": [],
   "execution_count": 5
  },
  {
   "cell_type": "code",
   "id": "81428f08b08f923",
   "metadata": {
    "ExecuteTime": {
     "end_time": "2025-05-13T09:05:50.465316Z",
     "start_time": "2025-05-13T09:05:50.462358Z"
    }
   },
   "source": [
    "def get_ticker(pairid, timeframe, timefrom, timeto) :\n",
    "    return requests.get(url + '/tradingview/history_v2?from=' + str(timefrom) + '&symbol=' + pairid +'&tf=' + timeframe + '&to=' + str(timeto)).json()"
   ],
   "outputs": [],
   "execution_count": 6
  },
  {
   "metadata": {
    "ExecuteTime": {
     "end_time": "2025-05-13T09:05:50.478512Z",
     "start_time": "2025-05-13T09:05:50.476311Z"
    }
   },
   "cell_type": "code",
   "source": [
    "def resampling_weekly(df_daily) :\n",
    "    return df_daily.resample('W').agg({\n",
    "        'Open': 'first',\n",
    "        'High': 'max',\n",
    "        'Low': 'min',\n",
    "        'Close': 'last',\n",
    "        'Volume': 'sum'\n",
    "    })"
   ],
   "id": "3dd931d995edaf1e",
   "outputs": [],
   "execution_count": 7
  },
  {
   "metadata": {
    "ExecuteTime": {
     "end_time": "2025-05-13T09:05:50.618106Z",
     "start_time": "2025-05-13T09:05:50.615475Z"
    }
   },
   "cell_type": "code",
   "source": [
    "def show_candlestick(tickername, tickerbase, df) :\n",
    "    df.set_index('Date', inplace=True)\n",
    "    mpf.plot(df, type='candle', style='binance', volume=True, title=f'Pergerakan Harga {tickername} terhadap {tickerbase}',\n",
    "         savefig=dict(fname=os.path.join(directory, f'Candlestick-{tickername}-{tickerbase}-' + get_time_stamp() + '.png'), dpi=300, bbox_inches='tight'))\n",
    "\n",
    "    if len(df['Close']) >= 100 :\n",
    "        df_weekly = resampling_weekly(df)\n",
    "        mpf.plot(df_weekly, type='candle', style='binance', volume=True, title=f'Pergerakan Harga Mingguan {tickername} terhadap {tickerbase}',\n",
    "            savefig=dict(fname=os.path.join(directory, f'Candlestick-Weekly-{tickername}-{tickerbase}-' + get_time_stamp() + '.png'), dpi=300, bbox_inches='tight'))\n"
   ],
   "id": "24cc1abc67a1e28e",
   "outputs": [],
   "execution_count": 8
  },
  {
   "cell_type": "code",
   "id": "8eb1407229e34912",
   "metadata": {
    "ExecuteTime": {
     "end_time": "2025-05-13T09:05:50.671854Z",
     "start_time": "2025-05-13T09:05:50.665650Z"
    }
   },
   "source": [
    "def show_chart(df, tickername, tickerbase) :\n",
    "    time_now = datetime.now().strftime('%d-%m-%Y %H:%M:%S')\n",
    "\n",
    "    # Membuat figure dan dua subplot yang berbagi sumbu x\n",
    "    fig, (ax1, ax2, ax3, ax4) = plt.subplots(nrows=4, ncols=1, sharex=True, figsize=(14, 10))\n",
    "\n",
    "    # Pergerakan Harga\n",
    "    ax1.plot(df['Date'], df['Close'], label=f'{tickername}/{tickerbase}', color='blue')\n",
    "    # ax1.plot(df['Date'], df['EMA_13'], linewidth=0.5, label='EMA 13', color='yellow')\n",
    "    # ax1.plot(df['Date'], df['EMA_21'], linewidth=0.5, label='EMA 21', color='orange')\n",
    "    ax1.set_title(f'Pergerakan Harga {tickername} terhadap {tickerbase}')\n",
    "    ax1.set_ylabel(f'Harga ({tickerbase})')\n",
    "    ax1.legend()\n",
    "    ax1.grid(True)\n",
    "    ax1.text(0.99, 1.05, time_now,\n",
    "         transform=ax1.transAxes,\n",
    "         fontsize=12, color='gray', alpha=0.7,\n",
    "         ha='right', va='bottom')\n",
    "    ax1.text(0.5, 0.5, 'Generated by Yoga',\n",
    "         transform=ax1.transAxes,\n",
    "         fontsize=20, color='gray', alpha=0.3,\n",
    "         ha='center', va='center', rotation=30)\n",
    "\n",
    "    # RSI\n",
    "    ax2.plot(df['Date'], df['RSI_14'], label=f'RSI {tickername}/{tickerbase}', color='orange')\n",
    "    ax2.axhline(70, linestyle='--', alpha=0.5, color='red')  # Garis overbought\n",
    "    ax2.axhline(30, linestyle='--', alpha=0.5, color='green')  # Garis oversold\n",
    "    ax2.set_title(f'Grafik RSI {tickername} terhadap {tickerbase}')\n",
    "    # ax2.set_xlabel('Tanggal')\n",
    "    ax2.set_ylabel('RSI')\n",
    "    ax2.legend()\n",
    "    ax2.grid(True)\n",
    "    ax2.text(0.99, 1.05, time_now,\n",
    "         transform=ax2.transAxes,\n",
    "         fontsize=12, color='gray', alpha=0.7,\n",
    "         ha='right', va='bottom')\n",
    "    ax2.text(0.5, 0.5, 'Generated by Yoga',\n",
    "         transform=ax2.transAxes,\n",
    "         fontsize=20, color='gray', alpha=0.3,\n",
    "         ha='center', va='center', rotation=30)\n",
    "\n",
    "    # Stochastic\n",
    "    ax3.plot(df['Date'], df['Stoch_%K'], label='%K', color='blue')\n",
    "    ax3.plot(df['Date'], df['Stoch_%D'], label='%D', color='orange')\n",
    "    ax3.axhline(80, linestyle='--', alpha=0.5, color='red')  # Garis overbought\n",
    "    ax3.axhline(20, linestyle='--', alpha=0.5, color='green')  # Garis oversold\n",
    "    ax3.set_title(f'Grafik Stochastic {tickername} terhadap {tickerbase}')\n",
    "    # ax3.set_xlabel('Tanggal')\n",
    "    ax3.set_ylabel('Nilai')\n",
    "    ax3.legend()\n",
    "    ax3.grid(True)\n",
    "    ax3.text(0.99, 1.05, time_now,\n",
    "         transform=ax3.transAxes,\n",
    "         fontsize=12, color='gray', alpha=0.7,\n",
    "         ha='right', va='bottom')\n",
    "    ax3.text(0.5, 0.5, 'Generated by Yoga',\n",
    "         transform=ax3.transAxes,\n",
    "         fontsize=20, color='gray', alpha=0.3,\n",
    "         ha='center', va='center', rotation=30)\n",
    "\n",
    "    # OBV\n",
    "    ax4.plot(df['Date'], df['OBV'], label='OBV', color='blue')\n",
    "    ax4.set_title(f'Grafik OBV {tickername}')\n",
    "    ax4.set_xlabel('Tanggal')\n",
    "    ax4.set_ylabel('Nilai')\n",
    "    ax4.legend()\n",
    "    ax4.grid(True)\n",
    "    ax4.text(0.99, 1.05, time_now,\n",
    "         transform=ax4.transAxes,\n",
    "         fontsize=12, color='gray', alpha=0.7,\n",
    "         ha='right', va='bottom')\n",
    "    ax4.text(0.5, 0.5, 'Generated by Yoga',\n",
    "         transform=ax4.transAxes,\n",
    "         fontsize=20, color='gray', alpha=0.3,\n",
    "         ha='center', va='center', rotation=30)\n",
    "\n",
    "    # Menyesuaikan tata letak agar tidak saling tumpang tindih\n",
    "    plt.tight_layout()\n",
    "    # plt.show()\n",
    "    plt.savefig(os.path.join(directory, 'Chart-' + tickername + '-' + tickerbase + '-' + get_time_stamp() + '.png'), dpi=300, bbox_inches='tight')\n",
    "    plt.close()\n",
    "\n",
    "    show_candlestick(tickername, tickerbase, df)"
   ],
   "outputs": [],
   "execution_count": 9
  },
  {
   "cell_type": "code",
   "id": "d07f1c983db72f05",
   "metadata": {
    "ExecuteTime": {
     "end_time": "2025-05-13T09:05:50.687243Z",
     "start_time": "2025-05-13T09:05:50.684944Z"
    }
   },
   "source": [
    "def get_df_from_ticker(ticker_name, timeframe, timefrom, timeto) :\n",
    "    ticker_name = get_ticker(ticker_name + 'IDR', timeframe, timefrom, timeto)\n",
    "    df_1 = pd.DataFrame(ticker_name)\n",
    "    if df_1.empty :\n",
    "        return df_1\n",
    "    df_1['Date'] = pd.to_datetime(df_1['Time'], unit='s')\n",
    "    df_1 = df_1.sort_values(by='Date')\n",
    "    return df_1"
   ],
   "outputs": [],
   "execution_count": 10
  },
  {
   "metadata": {
    "ExecuteTime": {
     "end_time": "2025-05-13T09:05:50.698955Z",
     "start_time": "2025-05-13T09:05:50.697075Z"
    }
   },
   "cell_type": "code",
   "source": [
    "def check_first_candle(df) :\n",
    "    first_high = df['High'].iloc[0]\n",
    "    first_low = df['Low'].iloc[0]\n",
    "    if first_high/first_low > 2 :\n",
    "        return True\n",
    "    else :\n",
    "        return False"
   ],
   "id": "2e70a5571638d268",
   "outputs": [],
   "execution_count": 11
  },
  {
   "cell_type": "code",
   "id": "36666c6507b8d937",
   "metadata": {
    "ExecuteTime": {
     "end_time": "2025-05-13T09:05:50.721458Z",
     "start_time": "2025-05-13T09:05:50.716697Z"
    }
   },
   "source": [
    "def get_history_btc_pair(tickername, df_coin_idr, dfbtcidr) :\n",
    "    ticker_name_low = tickername.lower()\n",
    "    df_merged = pd.merge(df_coin_idr, dfbtcidr, on='Date', suffixes=('_'+ticker_name_low, '_btc'))\n",
    "    df_merged['Open_' + ticker_name_low +'_btc'] = df_merged['Open_' + ticker_name_low] / df_merged['Open_btc']\n",
    "    df_merged['High_' + ticker_name_low +'_btc'] = df_merged['High_' + ticker_name_low] / df_merged['High_btc']\n",
    "    df_merged['Low_' + ticker_name_low + '_btc'] = df_merged['Low_' + ticker_name_low] / df_merged['Low_btc']\n",
    "    df_merged['Close_'+ ticker_name_low +'_btc'] = df_merged['Close_' + ticker_name_low] / df_merged['Close_btc']\n",
    "    df_merged['Volume_'+ ticker_name_low +'_btc'] = df_merged['Volume_' + ticker_name_low]\n",
    "\n",
    "    df_final = df_merged[['Date', 'Open_' + ticker_name_low +'_btc', 'High_' + ticker_name_low +'_btc', 'Low_' + ticker_name_low + '_btc', 'Close_' + ticker_name_low +'_btc', 'Volume_' + ticker_name_low +'_btc']].copy()\n",
    "    df_final.rename(columns={\n",
    "        'Open_' + ticker_name_low +'_btc': 'Open',\n",
    "        'High_' + ticker_name_low +'_btc': 'High',\n",
    "        'Low_' + ticker_name_low + '_btc': 'Low',\n",
    "        'Close_' + ticker_name_low +'_btc': 'Close',\n",
    "        'Volume_' + ticker_name_low +'_btc': 'Volume'\n",
    "    }, inplace=True)\n",
    "\n",
    "    mask = df_final['High'] < df_final['Low']\n",
    "    df_final.loc[mask, ['High', 'Low']] = df_final.loc[mask, ['Low', 'High']].values\n",
    "\n",
    "    if check_first_candle(df_final) :\n",
    "        df_final.drop(index=0, inplace=True)\n",
    "\n",
    "    df_final['Volume'] = pd.to_numeric(df_final['Volume'])\n",
    "\n",
    "    df_final['Return'] = df_final['Close'].pct_change()\n",
    "    df_final['Cum Return'] = (1 + df_final['Return']).cumprod() - 1\n",
    "\n",
    "    df_final['RSI_14'] = ta.RSI(df_final['Close'], timeperiod=14)\n",
    "\n",
    "    df_final['OBV'] = ta.OBV(df_final['Close'], df_final['Volume'])\n",
    "\n",
    "    slowk, slowd = ta.STOCH(df_final['High'], df_final['Low'], df_final['Close'],\n",
    "                           fastk_period=5,\n",
    "                           slowk_period=3,\n",
    "                           slowd_period=3)\n",
    "    df_final['Stoch_%K'] = slowk\n",
    "    df_final['Stoch_%D'] = slowd\n",
    "\n",
    "    len_data = len(df_merged['Close_' + ticker_name_low])\n",
    "    if len_data > 2 :\n",
    "        min_time_period = min(len_data-1, 90)\n",
    "        df_final['Beta'] = ta.BETA(df_merged['Close_' + ticker_name_low], df_merged['Close_btc'], timeperiod=min_time_period)\n",
    "        df_final['Correl'] = ta.CORREL(df_merged['Close_' + ticker_name_low], df_merged['Close_btc'], timeperiod=min_time_period)\n",
    "\n",
    "    df_final['Change1D'] = df_final['Close'].pct_change() * 100\n",
    "    df_final['Change7D'] = df_final['Close'].pct_change(periods=7) * 100\n",
    "    df_final['Change30D'] = df_final['Close'].pct_change(periods=30) * 100\n",
    "\n",
    "    # df_final['EMA_13'] = df_final['Close'].ewm(span=13, adjust=False).mean()\n",
    "    # df_final['EMA_21'] = df_final['Close'].ewm(span=21, adjust=False).mean()\n",
    "\n",
    "    return df_final"
   ],
   "outputs": [],
   "execution_count": 12
  },
  {
   "cell_type": "code",
   "id": "a952e1b472c48d63",
   "metadata": {
    "ExecuteTime": {
     "end_time": "2025-05-13T09:05:51.030806Z",
     "start_time": "2025-05-13T09:05:50.739331Z"
    }
   },
   "source": [
    "pairs = get_pairs()\n",
    "symbols = [item['symbol'] for item in pairs if 'symbol' in item and item['symbol'].endswith('IDR') and item['symbol'] != 'BTCIDR']\n",
    "remove_list = ['BTCIDR', 'USDTIDR', 'USDCIDR', 'TUSDIDR', 'WBTCIDR', 'DAIIDR']\n",
    "symbols = [item for item in symbols if item not in remove_list]\n",
    "print(symbols)"
   ],
   "outputs": [
    {
     "name": "stdout",
     "output_type": "stream",
     "text": [
      "['1INCHIDR', 'AAVEIDR', 'AAIDR', 'AAZIDR', 'ABBCIDR', 'ABIIDR', 'ABYSSIDR', 'ACHIDR', 'ACTIDR', 'ACTSOLIDR', 'ADAIDR', 'ADPIDR', 'AEROIDR', 'AEVOIDR', 'AGIIDR', 'AIIDR', 'AIOZIDR', 'AIXBTIDR', 'ALICEIDR', 'ALIFIDR', 'ALGOIDR', 'ALPACAIDR', 'ALTIDR', 'ALITASIDR', 'AMPIDR', 'ANDYIDR', 'ANIMEIDR', 'ANKRIDR', 'AOAIDR', 'APEIDR', 'API3IDR', 'APUIDR', 'ARBIDR', 'ARKMIDR', 'ASIXV2IDR', 'ATHIDR', 'ATOMIDR', 'ATTIDR', 'AUCTIONIDR', 'AUDIOIDR', 'AVAXIDR', 'AXLIDR', 'AXSIDR', 'BADGERIDR', 'BAKEIDR', 'BALIDR', 'BANANAIDR', 'BANDIDR', 'BATIDR', 'BCDIDR', 'BCHIDR', 'BEAMIDR', 'BETAIDR', 'BGBIDR', 'BICOIDR', 'BIOIDR', 'BLURIDR', 'BNBIDR', 'FORMIDR', 'BOMEIDR', 'BONDIDR', 'BONEIDR', 'BOTXIDR', 'BRETTIDR', 'BSVIDR', 'BTRIDR', 'CAKEIDR', 'CATIDR', 'CATIIDR', 'CBGIDR', 'CELIDR', 'CELOIDR', 'CELRIDR', 'CGPTIDR', 'CHEEMSIDR', 'CHILLGUYIDR', 'CHRIDR', 'CHTIDR', 'CHZIDR', 'CINDIDR', 'CKBIDR', 'CNGIDR', 'C98IDR', 'CLVIDR', 'COLIDR', 'COMPIDR', 'CFXIDR', 'CONXIDR', 'COTIIDR', 'CREAMIDR', 'CROIDR', 'CRVIDR', 'CTCIDR', 'CTKIDR', 'CTSIIDR', 'CVCIDR', 'CVXIDR', 'CYBERIDR', 'DIDR', 'DCTIDR', 'DEFIIDR', 'DEGENIDR', 'DENTIDR', 'DEPIDR', 'DFGIDR', 'DGBIDR', 'DNTIDR', 'DODOIDR', 'DOGEIDR', 'DOGSIDR', 'DOTIDR', 'DRXIDR', 'DUSKIDR', 'DVIIDR', 'EFIIDR', 'EGLDIDR', 'EIGENIDR', 'ELFIDR', 'ENAIDR', 'ENJIDR', 'ENSIDR', 'EOSIDR', 'EPICIDR', 'ETCIDR', 'ETHIDR', 'ETHFIIDR', 'EVERIDR', 'FANCIDR', 'FARTCOINIDR', 'FETIDR', 'FILIDR', 'FLOKIIDR', 'FLRIDR', 'FLUXIDR', 'FTMIDR', 'FUELIDR', 'FWOGIDR', 'FXSIDR', 'GALAIDR', 'GAMEIDR', 'GICTIDR', 'GIGAIDR', 'GLCHIDR', 'GLMIDR', 'GMTIDR', 'GMMTIDR', 'GMXIDR', 'GNOIDR', 'GOATIDR', 'GRASSIDR', 'GIDR', 'GRTIDR', 'GTCIDR', 'GXCIDR', 'H2OIDR', 'HARTIDR', 'HBARIDR', 'HEDGIDR', 'HFTIDR', 'HIFIIDR', 'HIGHIDR', 'HIVEIDR', 'HMSTRIDR', 'HNSTIDR', 'HNTIDR', 'HOTIDR', 'MYROIDR', 'IDIDR', 'ICPIDR', 'IDRXIDR', 'ILVIDR', 'IMXIDR', 'INJIDR', 'IOIDR', 'IOSTIDR', 'IOTAIDR', 'IOTXIDR', 'IQIDR', 'ISLMIDR', 'JASMYIDR', 'JOEIDR', 'JUPIDR', 'JSTIDR', 'JTOIDR', 'KAIAIDR', 'KAITOIDR', 'KDAGIDR', 'KERNELIDR', 'KMNOIDR', 'KNCIDR', 'KOKIDR', 'KRDIDR', 'KSMIDR', 'KUNCIIDR', 'LDOIDR', 'LEOIDR', 'LEVERIDR', 'LINKIDR', 'LISTAIDR', 'L3IDR', 'LADYSIDR', 'LOOKSIDR', 'LOOMIDR', 'LPTIDR', 'LQTYIDR', 'LRCIDR', 'LTCIDR', 'LUNAIDR', 'LUNCIDR', 'LYFEIDR', 'MAGICIDR', 'MANAIDR', 'MASKIDR', 'MAVIDR', 'MAVIAIDR', 'MBLIDR', 'MBOXIDR', 'MCTIDR', 'MEIDR', 'MELANIAIDR', 'MEMEIDR', 'METAIDR', 'METISIDR', 'MEWIDR', 'MKRIDR', 'MNTIDR', 'MOCAIDR', 'MOGIDR', 'MOODENGIDR', 'MOVEIDR', 'MPROIDR', 'MRSIDR', 'MSHDIDR', 'MTCIDR', 'MTLIDR', 'MULTIIDR', 'MURAIDR', 'NBTIDR', 'NEARIDR', 'NEIROIDR', 'NEOIDR', 'NEOIDRIDR', 'NEONIDR', 'NEXOIDR', 'NFPIDR', 'NPCIDR', 'NUSAIDR', 'NXTIDR', 'OBSRIDR', 'OCTOIDR', 'OGNIDR', 'OKBIDR', 'OMIDR', 'OMGIDR', 'OMNIIDR', 'ONDOIDR', 'ONTIDR', 'OPIDR', 'ORBSIDR', 'ORCIDR', 'ORDERIDR', 'PAXGIDR', 'PENDLEIDR', 'PENGUIDR', 'PEOPLEIDR', 'PEPEIDR', 'PERPIDR', 'PLUMEIDR', 'GNSIDR', 'PHAIDR', 'PIXELIDR', 'PNUTIDR', 'POLSIDR', 'POLIDR', 'POLYIDR', 'PONKEIDR', 'PORTALIDR', 'POPCATIDR', 'POWRIDR', 'PRIMEIDR', 'PROMIDR', 'PUFFERIDR', 'PYRIDR', 'PYTHIDR', 'QNTIDR', 'RADIDR', 'RAREIDR', 'RAYIDR', 'REDIDR', 'RENIDR', 'REPIDR', 'REQIDR', 'REZIDR', 'RDNTIDR', 'RLCIDR', 'RENDERIDR', 'ROOTIDR', 'RPLIDR', 'RSRIDR', 'RSS3IDR', 'RVMIDR', 'RVNIDR', 'SANDIDR', 'SAFEIDR', 'SFIIDR', 'SFPIDR', 'SGTIDR', 'SHANIDR', 'SHIBIDR', 'SHELLIDR', 'SHREDIDR', 'SKLIDR', 'SKYAIDR', 'SLERFIDR', 'SLPIDR', 'SNTIDR', 'SNXIDR', 'SOLIDR', 'SOLAYERIDR', 'SOLVIDR', 'SOLVEIDR', 'SPELLIDR', 'SPXIDR', 'SRMIDR', 'SSVIDR', 'STGIDR', 'STIKIDR', 'STORJIDR', 'STRKIDR', 'STRMIDR', 'SUIIDR', 'SUNIDR', 'SUNDOGIDR', 'SUPERIDR', 'SUSHIIDR', 'SYNIDR', 'TAIKOIDR', 'TELIDR', 'TENIDR', 'TFUELIDR', 'THETAIDR', 'TIDR', 'TIAIDR', 'TITANIDR', 'TLMIDR', 'TMGIDR', 'TNSRIDR', 'TOKENIDR', 'TOKOIDR', 'TONIDR', 'TRBIDR', 'TRUMPIDR', 'TRXIDR', 'TURBOIDR', 'TWELVEIDR', 'UCJLIDR', 'UMAIDR', 'UNIIDR', 'UNMDIDR', 'UW3SIDR', 'VANRYIDR', 'VBGIDR', 'VCGIDR', 'VELOIDR', 'VELOFINIDR', 'VETIDR', 'VEXIDR', 'VIDYXIDR', 'VIRTUALIDR', 'VOXELIDR', 'VRAIDR', 'VSYSIDR', 'W3FIDR', 'WAVESIDR', 'WCTIDR', 'WIFIDR', 'WLDIDR', 'WNXMIDR', 'WOOIDR', 'WIDR', 'WOZXIDR', 'WTECIDR', 'XAUTIDR', 'XDCIDR', 'XGDIDR', 'XEMIDR', 'XLMIDR', 'WEMIXIDR', 'XRIDR', 'XRPIDR', 'XTZIDR', 'XVSIDR', 'YFIIDR', 'YFIIIDR', 'YGGIDR', 'ZEREBROIDR', 'ZETAIDR', 'ZILIDR', 'ZKJIDR', 'ZROIDR', 'ZRXIDR']\n"
     ]
    }
   ],
   "execution_count": 13
  },
  {
   "cell_type": "code",
   "id": "3f29ec9ad6a5d3e5",
   "metadata": {
    "ExecuteTime": {
     "end_time": "2025-05-13T09:05:51.086207Z",
     "start_time": "2025-05-13T09:05:51.083164Z"
    }
   },
   "source": [
    "# pairs = get_pairs()\n",
    "# symbols = [item['symbol'] for item in pairs if 'symbol' in item and item['symbol'].endswith('USDT') and item['symbol'] != 'BTCUSDT']\n",
    "# print(symbols)"
   ],
   "outputs": [],
   "execution_count": 14
  },
  {
   "cell_type": "code",
   "id": "47ee5aeb4e4ef2f9",
   "metadata": {
    "ExecuteTime": {
     "end_time": "2025-05-13T09:05:51.117370Z",
     "start_time": "2025-05-13T09:05:51.115205Z"
    }
   },
   "source": [
    "now = datetime.now()\n",
    "past = now - timedelta(days=1000)\n",
    "timeFrom = int(time.mktime(past.timetuple()))\n",
    "timeTo = int(time.mktime(now.timetuple()))\n",
    "tf = '1D'\n",
    "width_ratio = 0.2"
   ],
   "outputs": [],
   "execution_count": 15
  },
  {
   "cell_type": "code",
   "id": "f4d5c3d45c3fa948",
   "metadata": {
    "ExecuteTime": {
     "end_time": "2025-05-13T09:05:51.384319Z",
     "start_time": "2025-05-13T09:05:51.135440Z"
    }
   },
   "source": "dfBtcIdr = get_df_from_ticker('BTC', tf, timeFrom, timeTo)",
   "outputs": [],
   "execution_count": 16
  },
  {
   "cell_type": "code",
   "id": "acc4dc8c7de5c020",
   "metadata": {
    "ExecuteTime": {
     "end_time": "2025-05-13T09:05:51.404442Z",
     "start_time": "2025-05-13T09:05:51.399506Z"
    }
   },
   "source": [
    "def show_chart_rsi(df) :\n",
    "    width = width_ratio * len(df['Label'])\n",
    "    plt.figure(figsize=(width, 6))\n",
    "    plt.scatter(df['Label'], df['RSI_14'], color='blue')\n",
    "    plt.axhline(70, linestyle='--', alpha=0.5, color='red', label='Overbought (70)')\n",
    "    plt.axhline(30, linestyle='--', alpha=0.5, color='green', label='Oversold (30)')\n",
    "    plt.title('Nilai RSI Pair BTC')\n",
    "    plt.xlabel('Ticker')\n",
    "    plt.ylabel('RSI')\n",
    "    plt.xticks(rotation=90)\n",
    "    plt.legend()\n",
    "    plt.grid(True)\n",
    "    plt.text(0.5, 0.5, 'Generated by Yoga',\n",
    "         transform=plt.gca().transAxes,\n",
    "         fontsize=40, color='gray', alpha=0.3,\n",
    "         ha='center', va='center', rotation=30)\n",
    "    plt.text(0.99, 1.05, datetime.now().strftime('%d-%m-%Y %H:%M:%S'),\n",
    "         transform=plt.gca().transAxes,\n",
    "         fontsize=12, color='gray', alpha=0.7,\n",
    "         ha='right', va='bottom')\n",
    "    # plt.show()\n",
    "    plt.savefig(os.path.join(directory, 'RSI-' + get_time_stamp() + '.png'), dpi=300, bbox_inches='tight')\n",
    "    plt.close()"
   ],
   "outputs": [],
   "execution_count": 17
  },
  {
   "metadata": {
    "ExecuteTime": {
     "end_time": "2025-05-13T09:05:51.425666Z",
     "start_time": "2025-05-13T09:05:51.422197Z"
    }
   },
   "cell_type": "code",
   "source": [
    "def show_chart_rsi_custom(df) :\n",
    "    width = width_ratio * 2 * len(df['Label'])\n",
    "    plt.figure(figsize=(width, 6))\n",
    "\n",
    "    overbought = 70\n",
    "    oversold = 30\n",
    "\n",
    "    plt.fill_between(df.index, overbought, 100, color='red', alpha=0.3)\n",
    "    plt.fill_between(df.index, 0, oversold, color='green', alpha=0.3)\n",
    "\n",
    "    for i, row in df.iterrows():\n",
    "        color = 'green' if row['RSI_14'] < oversold else 'red' if row['RSI_14'] > overbought else 'gray'\n",
    "        plt.scatter(i, row['RSI_14'], color=color, label=row['Label'] if i == 0 else \"\")  # Show label only for first occurrence\n",
    "\n",
    "    for i, row in df.iterrows():\n",
    "        plt.text(i, row['RSI_14'], row['Label'], fontsize=7, ha='center', color='black')\n",
    "\n",
    "    # Menambahkan label dan judul\n",
    "    plt.title('RSI Indicator')\n",
    "    plt.xlabel('Ticker')\n",
    "    plt.ylabel('RSI Value')\n",
    "\n",
    "    # plt.show()\n",
    "    plt.savefig(os.path.join(directory, 'RSI-Custom-' + get_time_stamp() + '.png'), dpi=300, bbox_inches='tight')\n",
    "    plt.close()"
   ],
   "id": "ae37668e0853ec77",
   "outputs": [],
   "execution_count": 18
  },
  {
   "cell_type": "code",
   "id": "9668ebbcbaf3ba84",
   "metadata": {
    "ExecuteTime": {
     "end_time": "2025-05-13T09:05:51.450804Z",
     "start_time": "2025-05-13T09:05:51.447419Z"
    }
   },
   "source": [
    "def show_chart_beta(df) :\n",
    "    width = width_ratio * len(df['Label'])\n",
    "    plt.figure(figsize=(width, 6))\n",
    "    plt.scatter(df['Label'], df['Beta'], color='blue')\n",
    "    plt.axhline(0, linestyle='--', alpha=0.5, color='magenta', label='Beta = 0')\n",
    "    plt.axhline(1, linestyle='--', alpha=0.5, color='cyan', label='Beta = 1')\n",
    "    plt.title('Nilai Beta (Volatilitas Harga Token Terhadap BTC)')\n",
    "    plt.xlabel('Ticker')\n",
    "    plt.ylabel('Beta')\n",
    "    plt.xticks(rotation=90)\n",
    "    plt.legend()\n",
    "    plt.grid(True)\n",
    "    plt.text(0.5, 0.5, 'Generated by Yoga',\n",
    "         transform=plt.gca().transAxes,\n",
    "         fontsize=40, color='gray', alpha=0.3,\n",
    "         ha='center', va='center', rotation=30)\n",
    "    plt.text(0.99, 1.05, datetime.now().strftime('%d-%m-%Y %H:%M:%S'),\n",
    "         transform=plt.gca().transAxes,\n",
    "         fontsize=12, color='gray', alpha=0.7,\n",
    "         ha='right', va='bottom')\n",
    "    # plt.show()\n",
    "    plt.savefig(os.path.join(directory, 'Beta-' + get_time_stamp() + '.png'), dpi=300, bbox_inches='tight')\n",
    "    plt.close()"
   ],
   "outputs": [],
   "execution_count": 19
  },
  {
   "cell_type": "code",
   "id": "a2af63213b26892f",
   "metadata": {
    "ExecuteTime": {
     "end_time": "2025-05-13T09:05:51.466807Z",
     "start_time": "2025-05-13T09:05:51.463600Z"
    }
   },
   "source": [
    "def show_chart_correl(df) :\n",
    "    width = width_ratio * len(df['Label'])\n",
    "    plt.figure(figsize=(width, 6))\n",
    "    plt.scatter(df['Label'], df['Correl'], color='blue')\n",
    "    plt.axhline(0, linestyle='--', alpha=0.5, color='magenta', label='Correlation = 0')\n",
    "    plt.axhline(-1, linestyle='--', alpha=0.5, color='cyan', label='Correlation = -1')\n",
    "    plt.axhline(1, linestyle='--', alpha=0.5, color='cyan', label='Correlation = 1')\n",
    "    plt.title('Nilai Pearson Correlation Coefficient Terhadap BTC')\n",
    "    plt.xlabel('Ticker')\n",
    "    plt.ylabel('Correlation')\n",
    "    plt.xticks(rotation=90)\n",
    "    plt.legend()\n",
    "    plt.grid(True)\n",
    "    plt.text(0.5, 0.5, 'Generated by Yoga',\n",
    "         transform=plt.gca().transAxes,\n",
    "         fontsize=40, color='gray', alpha=0.3,\n",
    "         ha='center', va='center', rotation=30)\n",
    "    plt.text(0.99, 1.05, datetime.now().strftime('%d-%m-%Y %H:%M:%S'),\n",
    "         transform=plt.gca().transAxes,\n",
    "         fontsize=12, color='gray', alpha=0.7,\n",
    "         ha='right', va='bottom')\n",
    "    # plt.show()\n",
    "    plt.savefig(os.path.join(directory, 'Correlation-' + get_time_stamp() + '.png'), dpi=300, bbox_inches='tight')\n",
    "    plt.close()"
   ],
   "outputs": [],
   "execution_count": 20
  },
  {
   "metadata": {
    "ExecuteTime": {
     "end_time": "2025-05-13T09:05:51.491957Z",
     "start_time": "2025-05-13T09:05:51.489149Z"
    }
   },
   "cell_type": "code",
   "source": [
    "def calculate_downside_std(returns) :\n",
    "    downside_returns = returns[returns < 0]\n",
    "    if len(downside_returns) < 2 :\n",
    "        return None\n",
    "    return np.sqrt((downside_returns ** 2).sum()/(len(downside_returns) - 1))"
   ],
   "id": "57d2580d30005ff4",
   "outputs": [],
   "execution_count": 21
  },
  {
   "cell_type": "code",
   "id": "68b41fde987500e5",
   "metadata": {
    "ExecuteTime": {
     "end_time": "2025-05-13T09:05:51.523220Z",
     "start_time": "2025-05-13T09:05:51.514848Z"
    }
   },
   "source": [
    "def show_multiple_chart(tickers, show_individual_chart=False) :\n",
    "    rsi_list = []\n",
    "    beta_list = []\n",
    "    correl_list = []\n",
    "    latest_change_1d_list = []\n",
    "    latest_change_7d_list = []\n",
    "    latest_change_30d_list = []\n",
    "    # return_mean_list = []\n",
    "    # return_std_list = []\n",
    "    sharpe_ratio_list = []\n",
    "    adj_return_per_volatility_list = []\n",
    "    sortino_ratio_list = []\n",
    "\n",
    "    tickers.sort()\n",
    "\n",
    "    for i, ticker in enumerate(tickers) :\n",
    "        print('Processing ' + ticker + '...')\n",
    "        will_show = False\n",
    "        description = ''\n",
    "        df_coin_idr_1 = get_df_from_ticker(ticker, tf, timeFrom, timeTo)\n",
    "        if df_coin_idr_1.empty :\n",
    "            continue\n",
    "        df_btc_pair = get_history_btc_pair(ticker, df_coin_idr_1, dfBtcIdr)\n",
    "        if show_individual_chart :\n",
    "            show_chart(df_btc_pair, ticker, 'BTC')\n",
    "\n",
    "        if 'RSI_14' in df_btc_pair.columns :\n",
    "            latest_rsi = df_btc_pair['RSI_14'].iloc[-1]\n",
    "            if not pd.isna(latest_rsi) :\n",
    "                rsi_list.append({'Label': ticker, 'RSI_14': latest_rsi})\n",
    "            if latest_rsi < 30 :\n",
    "                will_show = True\n",
    "                description = 'Low RSI'\n",
    "            if latest_rsi > 70 :\n",
    "                will_show = True\n",
    "                description = 'High RSI'\n",
    "\n",
    "        latest_beta = df_btc_pair['Beta'].iloc[-1]\n",
    "        beta_list.append({'Label': ticker, 'Beta': latest_beta})\n",
    "\n",
    "        if latest_beta < 0 :\n",
    "            will_show = True\n",
    "            description = 'Negative Beta'\n",
    "\n",
    "        latest_correl = df_btc_pair['Correl'].iloc[-1]\n",
    "        correl_list.append({'Label': ticker, 'Correl': latest_correl})\n",
    "\n",
    "        if latest_correl < 0 :\n",
    "            will_show = True\n",
    "            description = 'Negative Correlation'\n",
    "\n",
    "        # if will_show and not show_individual_chart :\n",
    "        #     print(description)\n",
    "        #     show_chart(df_btc_pair, ticker, 'BTC')\n",
    "\n",
    "        latest_change_1d = df_btc_pair['Change1D'].iloc[-1]\n",
    "        latest_change_7d = df_btc_pair['Change7D'].iloc[-1]\n",
    "        latest_change_30d = df_btc_pair['Change30D'].iloc[-1]\n",
    "\n",
    "        if not pd.isna(latest_change_1d) :\n",
    "            latest_change_1d_list.append({'Label': ticker, 'Data': latest_change_1d})\n",
    "        if not pd.isna(latest_change_7d) :\n",
    "            latest_change_7d_list.append({'Label': ticker, 'Data': latest_change_7d})\n",
    "        if not pd.isna(latest_change_30d) :\n",
    "            latest_change_30d_list.append({'Label': ticker, 'Data': latest_change_30d})\n",
    "\n",
    "        return_mean = df_btc_pair['Return'].mean(skipna=True)\n",
    "        return_std = df_btc_pair['Return'].std(skipna=True)\n",
    "        sharpe_ratio = return_mean/return_std\n",
    "\n",
    "        latest_cum_return = df_btc_pair['Cum Return'].iloc[-1]\n",
    "        return_downside_std = calculate_downside_std(df_btc_pair['Return'])\n",
    "        adj_return_per_volatility = latest_cum_return / return_std\n",
    "\n",
    "        # if not pd.isna(return_mean) :\n",
    "        #     return_mean_list.append({'Label': ticker, 'Data': return_mean*100})\n",
    "        # if not pd.isna(return_std) :\n",
    "        #     return_std_list.append({'Label': ticker, 'Data': return_std})\n",
    "        if not pd.isna(sharpe_ratio) :\n",
    "            sharpe_ratio_list.append({'Label': ticker, 'Data': sharpe_ratio})\n",
    "        if not pd.isna(adj_return_per_volatility) :\n",
    "            adj_return_per_volatility_list.append({'Label': ticker, 'Data': adj_return_per_volatility})\n",
    "        if not pd.isna(return_downside_std) :\n",
    "            sortino_ratio = return_mean/return_downside_std\n",
    "            sortino_ratio_list.append({'Label': ticker, 'Data': sortino_ratio})\n",
    "\n",
    "    rsi_list = sorted(rsi_list, key=lambda x: x['RSI_14'])\n",
    "    rsi_df = pd.DataFrame(rsi_list)\n",
    "    show_chart_rsi(rsi_df)\n",
    "    # show_chart_rsi_custom(rsi_df)\n",
    "\n",
    "    beta_list = sorted(beta_list, key=lambda x: x['Beta'])\n",
    "    beta_df = pd.DataFrame(beta_list)\n",
    "    show_chart_beta(beta_df)\n",
    "\n",
    "    correl_list = sorted(correl_list, key=lambda x: x['Correl'])\n",
    "    corr_df = pd.DataFrame(correl_list)\n",
    "    show_chart_correl(corr_df)\n",
    "\n",
    "    latest_change_1d_list = sorted(latest_change_1d_list, key=lambda x: x['Data'])\n",
    "    latest_change_1d_list_df = pd.DataFrame(latest_change_1d_list)\n",
    "    show_chart_change(latest_change_1d_list_df, 'Perubahan 1 Hari Terhadap BTC')\n",
    "\n",
    "    latest_change_7d_list = sorted(latest_change_7d_list, key=lambda x: x['Data'])\n",
    "    latest_change_7d_list_df = pd.DataFrame(latest_change_7d_list)\n",
    "    show_chart_change(latest_change_7d_list_df, 'Perubahan 7 Hari Terhadap BTC')\n",
    "\n",
    "    latest_change_30d_list = sorted(latest_change_30d_list, key=lambda x: x['Data'])\n",
    "    latest_change_30d_list_df = pd.DataFrame(latest_change_30d_list)\n",
    "    show_chart_change(latest_change_30d_list_df, 'Perubahan 30 Hari Terhadap BTC')\n",
    "\n",
    "    # return_mean_list = sorted(return_mean_list, key=lambda x: x['Data'])\n",
    "    # return_mean_list_df = pd.DataFrame(return_mean_list)\n",
    "    # show_chart_return_mean(return_mean_list_df)\n",
    "    #\n",
    "    # return_std_list = sorted(return_std_list, key=lambda x: x['Data'])\n",
    "    # return_std_list_df = pd.DataFrame(return_std_list)\n",
    "    # show_chart_return_std(return_std_list_df)\n",
    "\n",
    "    sharpe_ratio_list = sorted(sharpe_ratio_list, key=lambda x: x['Data'])\n",
    "    sharpe_ratio_list_df = pd.DataFrame(sharpe_ratio_list)\n",
    "    show_chart_sharpe_ratio(sharpe_ratio_list_df)\n",
    "\n",
    "    adj_return_per_volatility_list = sorted(adj_return_per_volatility_list, key=lambda x: x['Data'])\n",
    "    adj_return_per_volatility_list_df = pd.DataFrame(adj_return_per_volatility_list)\n",
    "    show_chart_adj_return_per_volatility(adj_return_per_volatility_list_df)\n",
    "\n",
    "    sortino_ratio_list = sorted(sortino_ratio_list, key=lambda x: x['Data'])\n",
    "    sortino_ratio_list_df = pd.DataFrame(sortino_ratio_list)\n",
    "    show_chart_sortino_ratio(sortino_ratio_list_df)\n",
    "\n",
    "    excel_file = os.path.join(directory, 'price-' + get_time_stamp() + '.xlsx')\n",
    "    with pd.ExcelWriter(excel_file) as writer:\n",
    "        rsi_df.to_excel(writer, sheet_name='RSI', index=False)\n",
    "        beta_df.to_excel(writer, sheet_name='Beta', index=False)\n",
    "        corr_df.to_excel(writer, sheet_name='Correlation', index=False)\n",
    "        latest_change_1d_list_df.to_excel(writer, sheet_name='Change 1D', index=False)\n",
    "        latest_change_7d_list_df.to_excel(writer, sheet_name='Change 7D', index=False)\n",
    "        latest_change_30d_list_df.to_excel(writer, sheet_name='Change 30D', index=False)\n",
    "        # return_mean_list_df.to_excel(writer, sheet_name='Return Mean', index=False)\n",
    "        # return_std_list_df.to_excel(writer, sheet_name='Volatility', index=False)\n",
    "        sharpe_ratio_list_df.to_excel(writer, sheet_name='Sharpe Ratio', index=False)\n",
    "        sortino_ratio_list_df.to_excel(writer, sheet_name='Sortino Ratio', index=False)\n",
    "        adj_return_per_volatility_list_df.to_excel(writer, sheet_name='Adj Return Per Volatility', index=False)"
   ],
   "outputs": [],
   "execution_count": 22
  },
  {
   "metadata": {
    "ExecuteTime": {
     "end_time": "2025-05-13T09:05:51.549789Z",
     "start_time": "2025-05-13T09:05:51.544429Z"
    }
   },
   "cell_type": "code",
   "source": [
    "def show_chart_change(df, chart_title) :\n",
    "    width = width_ratio * len(df['Label'])\n",
    "    plt.figure(figsize=(width, 6))\n",
    "    plt.scatter(df['Label'], df['Data'], color='blue')\n",
    "    plt.axhline(0, linestyle='--', alpha=0.5, color='red', label='Change = 0%')\n",
    "    plt.title(chart_title)\n",
    "    plt.xlabel('Ticker')\n",
    "    plt.ylabel('Perubahan (%)')\n",
    "    plt.xticks(rotation=90)\n",
    "    plt.legend()\n",
    "    plt.grid(True)\n",
    "    plt.text(0.5, 0.5, 'Generated by Yoga',\n",
    "         transform=plt.gca().transAxes,\n",
    "         fontsize=40, color='gray', alpha=0.3,\n",
    "         ha='center', va='center', rotation=30)\n",
    "    plt.text(0.99, 1.05, datetime.now().strftime('%d-%m-%Y %H:%M:%S'),\n",
    "         transform=plt.gca().transAxes,\n",
    "         fontsize=12, color='gray', alpha=0.7,\n",
    "         ha='right', va='bottom')\n",
    "    # plt.show()\n",
    "    plt.savefig(os.path.join(directory, chart_title + '-' + get_time_stamp() + '.png'), dpi=300, bbox_inches='tight')\n",
    "    plt.close()"
   ],
   "id": "3df54ffaa903c074",
   "outputs": [],
   "execution_count": 23
  },
  {
   "metadata": {
    "ExecuteTime": {
     "end_time": "2025-05-13T09:05:51.585821Z",
     "start_time": "2025-05-13T09:05:51.581007Z"
    }
   },
   "cell_type": "code",
   "source": [
    "def show_chart_return_mean(df) :\n",
    "    if 'Label' not in df.columns:\n",
    "        return\n",
    "    width = width_ratio * len(df['Label'])\n",
    "    plt.figure(figsize=(width, 6))\n",
    "    plt.scatter(df['Label'], df['Data'], color='blue')\n",
    "    plt.axhline(0, linestyle='--', alpha=0.5, color='red', label='0')\n",
    "    plt.title('Rata-Rata Return Pair BTC')\n",
    "    plt.xlabel('Ticker')\n",
    "    plt.ylabel('Return Mean (%)')\n",
    "    plt.xticks(rotation=90)\n",
    "    plt.legend()\n",
    "    plt.grid(True)\n",
    "    plt.text(0.5, 0.5, 'Generated by Yoga',\n",
    "         transform=plt.gca().transAxes,\n",
    "         fontsize=40, color='gray', alpha=0.3,\n",
    "         ha='center', va='center', rotation=30)\n",
    "    plt.text(0.99, 1.05, datetime.now().strftime('%d-%m-%Y %H:%M:%S'),\n",
    "         transform=plt.gca().transAxes,\n",
    "         fontsize=12, color='gray', alpha=0.7,\n",
    "         ha='right', va='bottom')\n",
    "    # plt.show()\n",
    "    plt.savefig(os.path.join(directory, 'Rata-Rata Return-' + get_time_stamp() + '.png'), dpi=300, bbox_inches='tight')\n",
    "    plt.close()"
   ],
   "id": "89cf2dffb96eb3bc",
   "outputs": [],
   "execution_count": 24
  },
  {
   "metadata": {
    "ExecuteTime": {
     "end_time": "2025-05-13T09:05:51.610582Z",
     "start_time": "2025-05-13T09:05:51.605924Z"
    }
   },
   "cell_type": "code",
   "source": [
    "def show_chart_return_std(df) :\n",
    "    if 'Label' not in df.columns:\n",
    "        return\n",
    "    width = width_ratio * len(df['Label'])\n",
    "    plt.figure(figsize=(width, 6))\n",
    "    plt.scatter(df['Label'], df['Data'], color='blue')\n",
    "    plt.axhline(0, linestyle='--', alpha=0.5, color='red', label='0')\n",
    "    plt.title('Volatilitas Return Pair BTC')\n",
    "    plt.xlabel('Ticker')\n",
    "    plt.ylabel('Tingkat Volatilitas')\n",
    "    plt.xticks(rotation=90)\n",
    "    plt.legend()\n",
    "    plt.grid(True)\n",
    "    plt.text(0.5, 0.5, 'Generated by Yoga',\n",
    "         transform=plt.gca().transAxes,\n",
    "         fontsize=40, color='gray', alpha=0.3,\n",
    "         ha='center', va='center', rotation=30)\n",
    "    plt.text(0.99, 1.05, datetime.now().strftime('%d-%m-%Y %H:%M:%S'),\n",
    "         transform=plt.gca().transAxes,\n",
    "         fontsize=12, color='gray', alpha=0.7,\n",
    "         ha='right', va='bottom')\n",
    "    # plt.show()\n",
    "    plt.savefig(os.path.join(directory, 'Volatilitas-' + get_time_stamp() + '.png'), dpi=300, bbox_inches='tight')\n",
    "    plt.close()"
   ],
   "id": "e57c59ec95995768",
   "outputs": [],
   "execution_count": 25
  },
  {
   "metadata": {
    "ExecuteTime": {
     "end_time": "2025-05-13T09:05:51.645661Z",
     "start_time": "2025-05-13T09:05:51.642479Z"
    }
   },
   "cell_type": "code",
   "source": [
    "def show_chart_sharpe_ratio(df) :\n",
    "    if 'Label' not in df.columns:\n",
    "        return\n",
    "    width = width_ratio * len(df['Label'])\n",
    "    plt.figure(figsize=(width, 6))\n",
    "    plt.scatter(df['Label'], df['Data'], color='blue')\n",
    "    plt.axhline(0, linestyle='--', alpha=0.5, color='red', label='0')\n",
    "    plt.title('Sharpe Ratio Pair BTC')\n",
    "    plt.xlabel('Ticker')\n",
    "    plt.ylabel('Sharpe Ratio')\n",
    "    plt.xticks(rotation=90)\n",
    "    plt.legend()\n",
    "    plt.grid(True)\n",
    "    plt.text(0.5, 0.5, 'Generated by Yoga',\n",
    "         transform=plt.gca().transAxes,\n",
    "         fontsize=40, color='gray', alpha=0.3,\n",
    "         ha='center', va='center', rotation=30)\n",
    "    plt.text(0.99, 1.05, datetime.now().strftime('%d-%m-%Y %H:%M:%S'),\n",
    "         transform=plt.gca().transAxes,\n",
    "         fontsize=12, color='gray', alpha=0.7,\n",
    "         ha='right', va='bottom')\n",
    "    # plt.show()\n",
    "    plt.savefig(os.path.join(directory, 'Sharpe Ratio-' + get_time_stamp() + '.png'), dpi=300, bbox_inches='tight')\n",
    "    plt.close()"
   ],
   "id": "1b9228b8b66b1618",
   "outputs": [],
   "execution_count": 26
  },
  {
   "metadata": {
    "ExecuteTime": {
     "end_time": "2025-05-13T09:05:51.667942Z",
     "start_time": "2025-05-13T09:05:51.664397Z"
    }
   },
   "cell_type": "code",
   "source": [
    "def show_chart_adj_return_per_volatility(df) :\n",
    "    if 'Label' not in df.columns:\n",
    "        return\n",
    "    width = width_ratio * len(df['Label'])\n",
    "    plt.figure(figsize=(width, 6))\n",
    "    plt.scatter(df['Label'], df['Data'], color='blue')\n",
    "    plt.axhline(0, linestyle='--', alpha=0.5, color='red', label='0')\n",
    "    plt.title('Adjusted Return Per Unit Volatility Pair BTC')\n",
    "    plt.xlabel('Ticker')\n",
    "    plt.ylabel('Adjusted Return Per Unit Volatility')\n",
    "    plt.xticks(rotation=90)\n",
    "    plt.legend()\n",
    "    plt.grid(True)\n",
    "    plt.text(0.5, 0.5, 'Generated by Yoga',\n",
    "         transform=plt.gca().transAxes,\n",
    "         fontsize=40, color='gray', alpha=0.3,\n",
    "         ha='center', va='center', rotation=30)\n",
    "    plt.text(0.99, 1.05, datetime.now().strftime('%d-%m-%Y %H:%M:%S'),\n",
    "         transform=plt.gca().transAxes,\n",
    "         fontsize=12, color='gray', alpha=0.7,\n",
    "         ha='right', va='bottom')\n",
    "    # plt.show()\n",
    "    plt.savefig(os.path.join(directory, 'Adjusted Return Per Unit Volatility-' + get_time_stamp() + '.png'), dpi=300, bbox_inches='tight')\n",
    "    plt.close()"
   ],
   "id": "9f9cf063613fa8d5",
   "outputs": [],
   "execution_count": 27
  },
  {
   "metadata": {
    "ExecuteTime": {
     "end_time": "2025-05-13T09:05:51.697419Z",
     "start_time": "2025-05-13T09:05:51.693890Z"
    }
   },
   "cell_type": "code",
   "source": [
    "def show_chart_sortino_ratio(df) :\n",
    "    if 'Label' not in df.columns:\n",
    "        return\n",
    "    width = width_ratio * len(df['Label'])\n",
    "    plt.figure(figsize=(width, 6))\n",
    "    plt.scatter(df['Label'], df['Data'], color='blue')\n",
    "    plt.axhline(0, linestyle='--', alpha=0.5, color='red', label='0')\n",
    "    plt.title('Sortino Ratio Pair BTC')\n",
    "    plt.xlabel('Ticker')\n",
    "    plt.ylabel('Sortino Ratio')\n",
    "    plt.xticks(rotation=90)\n",
    "    plt.legend()\n",
    "    plt.grid(True)\n",
    "    plt.text(0.5, 0.5, 'Generated by Yoga',\n",
    "         transform=plt.gca().transAxes,\n",
    "         fontsize=40, color='gray', alpha=0.3,\n",
    "         ha='center', va='center', rotation=30)\n",
    "    plt.text(0.99, 1.05, datetime.now().strftime('%d-%m-%Y %H:%M:%S'),\n",
    "         transform=plt.gca().transAxes,\n",
    "         fontsize=12, color='gray', alpha=0.7,\n",
    "         ha='right', va='bottom')\n",
    "    # plt.show()\n",
    "    plt.savefig(os.path.join(directory, 'Sortino Ratio-' + get_time_stamp() + '.png'), dpi=300, bbox_inches='tight')\n",
    "    plt.close()"
   ],
   "id": "ba5c3a462e90bef",
   "outputs": [],
   "execution_count": 28
  },
  {
   "metadata": {
    "ExecuteTime": {
     "end_time": "2025-05-13T09:06:08.036260Z",
     "start_time": "2025-05-13T09:05:51.720483Z"
    }
   },
   "cell_type": "code",
   "source": [
    "# tickers = [ 'FARTCOIN', 'MOODENG', 'SPX', 'ZEREBRO', 'WIF', 'ACTSOL', 'LADYS', 'ANDY', 'APU', 'BOME', 'BONE', 'BRETT', 'CAT', 'CATI', 'CHILLGUY', 'DEGEN', 'DOGE', 'DOGS', 'FLOKI', 'FWOG', 'GIGA', 'GOAT', 'MYRO', 'MEW', 'MOG', 'PEPE', 'NPC', 'PEOPLE', 'PONKE', 'POPCAT', 'SHIB', 'SLERF', 'SUNDOG', 'TURBO', 'PNUT', 'MEME', 'HMSTR', 'NEIRO', 'VIRTUAL', 'AERO', 'ALTLAYER', 'API3', 'ARB', 'ARKM', 'ATH', 'AVAX', 'BGB', 'BNB', 'CAKE', 'CTC', 'CRV', 'CTK', 'EIGEN', 'ENA', 'ENS', 'ETH', 'FET', 'FIL', 'FLUX', 'FTM', 'GALA', 'GMT', 'GRASS', 'GRT', 'HBAR', 'HIFI', 'HNT', 'IMX', 'IO', 'ISLM', 'JASMY', 'JUP', 'JTO', 'KMNO', 'LDO', 'LPT', 'LQTY', 'MBOX', 'ME', 'METIS', 'MKR', 'MNT', 'MOVE', 'NEAR', 'OM', 'ONDO', 'PAXG', 'PENDLE', 'PHA', 'PYTH', 'POL', 'RAY', 'REZ', 'RENDER', 'SOL', 'STORJ', 'SUI', 'TON', 'TRX', 'UNI', 'WORMHOLE', 'WLD', 'XRP', 'YGG','ZKJ', 'ZETA', 'VANRY', 'TRB', 'TOKEN', 'TNSR', 'TIA', 'TAIKO', 'SUSHI', 'SUN', 'STRK', 'SNX', 'SNT', 'SAFE', 'SAND', 'MANA', 'RSR', 'RARE', 'QNT', 'PUFFER', 'PRIME', 'POWR', 'PORTAL', 'PIXEL', 'OMNI', 'OP', 'NFP', 'MAVIA', 'MASK', 'LUNA', 'LUNC', 'LTC', 'LOOM', 'L3', 'LISTA', 'LINK', 'KSM', 'HIGH', 'ICP', 'ILV', 'GRAVITY', 'GMX', 'GLM', 'ETHFI', 'DUSK', 'DYDX', 'DOT', 'CTSI', 'CFX', 'COMP', 'CGPT', 'BEAM', 'BAND', 'BCH', 'AUCTION', 'AXS', 'ATOM', 'ACH', 'ADA', 'AI', 'TEN', 'ENJ', 'EOS', 'AEVO', 'ALICE', 'APE', 'BLUR', 'STG', 'JOE', 'INJ', '1INCH','AAVE', 'FORM', 'ID', 'XDC', 'SUPER', 'XLM']\n",
    "\n",
    "# tickers = ['GIGA', 'POPCAT', 'ETH', 'SOL', 'BNB', 'MOG', 'WLD', 'APU', 'FWOG']\n",
    "\n",
    "tickers = [symbol.removesuffix('IDR') for symbol in symbols]\n",
    "\n",
    "show_multiple_chart(tickers, True)"
   ],
   "id": "fd60ecbf4a995f1e",
   "outputs": [
    {
     "name": "stdout",
     "output_type": "stream",
     "text": [
      "Processing APU...\n",
      "Processing BNB...\n"
     ]
    },
    {
     "name": "stderr",
     "output_type": "stream",
     "text": [
      "/Users/yogabprawira/PycharmProjects/crypto-price/.venv/lib/python3.13/site-packages/mplfinance/_arg_validators.py:84: UserWarning: \n",
      "\n",
      " ================================================================= \n",
      "\n",
      "   WARNING: YOU ARE PLOTTING SO MUCH DATA THAT IT MAY NOT BE\n",
      "            POSSIBLE TO SEE DETAILS (Candles, Ohlc-Bars, Etc.)\n",
      "   For more information see:\n",
      "   - https://github.com/matplotlib/mplfinance/wiki/Plotting-Too-Much-Data\n",
      "   \n",
      "   TO SILENCE THIS WARNING, set `type='line'` in `mpf.plot()`\n",
      "   OR set kwarg `warn_too_much_data=N` where N is an integer \n",
      "   LARGER than the number of data points you want to plot.\n",
      "\n",
      " ================================================================ \n",
      "  warnings.warn('\\n\\n ================================================================= '+\n"
     ]
    },
    {
     "name": "stdout",
     "output_type": "stream",
     "text": [
      "Processing ETH...\n"
     ]
    },
    {
     "name": "stderr",
     "output_type": "stream",
     "text": [
      "/Users/yogabprawira/PycharmProjects/crypto-price/.venv/lib/python3.13/site-packages/mplfinance/_arg_validators.py:84: UserWarning: \n",
      "\n",
      " ================================================================= \n",
      "\n",
      "   WARNING: YOU ARE PLOTTING SO MUCH DATA THAT IT MAY NOT BE\n",
      "            POSSIBLE TO SEE DETAILS (Candles, Ohlc-Bars, Etc.)\n",
      "   For more information see:\n",
      "   - https://github.com/matplotlib/mplfinance/wiki/Plotting-Too-Much-Data\n",
      "   \n",
      "   TO SILENCE THIS WARNING, set `type='line'` in `mpf.plot()`\n",
      "   OR set kwarg `warn_too_much_data=N` where N is an integer \n",
      "   LARGER than the number of data points you want to plot.\n",
      "\n",
      " ================================================================ \n",
      "  warnings.warn('\\n\\n ================================================================= '+\n"
     ]
    },
    {
     "name": "stdout",
     "output_type": "stream",
     "text": [
      "Processing FWOG...\n",
      "Processing GIGA...\n",
      "Processing MOG...\n",
      "Processing POPCAT...\n",
      "Processing SOL...\n"
     ]
    },
    {
     "name": "stderr",
     "output_type": "stream",
     "text": [
      "/Users/yogabprawira/PycharmProjects/crypto-price/.venv/lib/python3.13/site-packages/mplfinance/_arg_validators.py:84: UserWarning: \n",
      "\n",
      " ================================================================= \n",
      "\n",
      "   WARNING: YOU ARE PLOTTING SO MUCH DATA THAT IT MAY NOT BE\n",
      "            POSSIBLE TO SEE DETAILS (Candles, Ohlc-Bars, Etc.)\n",
      "   For more information see:\n",
      "   - https://github.com/matplotlib/mplfinance/wiki/Plotting-Too-Much-Data\n",
      "   \n",
      "   TO SILENCE THIS WARNING, set `type='line'` in `mpf.plot()`\n",
      "   OR set kwarg `warn_too_much_data=N` where N is an integer \n",
      "   LARGER than the number of data points you want to plot.\n",
      "\n",
      " ================================================================ \n",
      "  warnings.warn('\\n\\n ================================================================= '+\n"
     ]
    },
    {
     "name": "stdout",
     "output_type": "stream",
     "text": [
      "Processing WLD...\n"
     ]
    },
    {
     "name": "stderr",
     "output_type": "stream",
     "text": [
      "/Users/yogabprawira/PycharmProjects/crypto-price/.venv/lib/python3.13/site-packages/mplfinance/_arg_validators.py:84: UserWarning: \n",
      "\n",
      " ================================================================= \n",
      "\n",
      "   WARNING: YOU ARE PLOTTING SO MUCH DATA THAT IT MAY NOT BE\n",
      "            POSSIBLE TO SEE DETAILS (Candles, Ohlc-Bars, Etc.)\n",
      "   For more information see:\n",
      "   - https://github.com/matplotlib/mplfinance/wiki/Plotting-Too-Much-Data\n",
      "   \n",
      "   TO SILENCE THIS WARNING, set `type='line'` in `mpf.plot()`\n",
      "   OR set kwarg `warn_too_much_data=N` where N is an integer \n",
      "   LARGER than the number of data points you want to plot.\n",
      "\n",
      " ================================================================ \n",
      "  warnings.warn('\\n\\n ================================================================= '+\n"
     ]
    }
   ],
   "execution_count": 29
  },
  {
   "metadata": {
    "ExecuteTime": {
     "end_time": "2025-05-13T09:06:08.066059Z",
     "start_time": "2025-05-13T09:06:08.062672Z"
    }
   },
   "cell_type": "code",
   "source": [
    "def show_chain_comparison_chart(chains) :\n",
    "    full_chain_list = {}\n",
    "\n",
    "    for i, chain in enumerate(chains) :\n",
    "        print('Fetching ' + chain + '...')\n",
    "        df_coin_idr = get_df_from_ticker(chain, tf, timeFrom, timeTo)\n",
    "        full_chain_list[chain] = df_coin_idr\n",
    "\n",
    "    for i, chain in enumerate(chains):\n",
    "        for j, chain_base in enumerate(chains[:i]):\n",
    "            print('Processing ' + chain + '/' + chain_base + '...')\n",
    "            df_coin_idr = full_chain_list[chain]\n",
    "            df_base_idr = full_chain_list[chain_base]\n",
    "            df = get_history_btc_pair(chain, df_coin_idr, df_base_idr)\n",
    "            show_chart(df, chain, chain_base)\n"
   ],
   "id": "5a99e3af71d1aa0a",
   "outputs": [],
   "execution_count": 30
  },
  {
   "metadata": {
    "ExecuteTime": {
     "end_time": "2025-05-13T09:06:08.098019Z",
     "start_time": "2025-05-13T09:06:08.095668Z"
    }
   },
   "cell_type": "code",
   "source": [
    "chain_tickers = ['ETH', 'XRP', 'BNB', 'SOL', 'ADA', 'TRX', 'SUI', 'AVAX', 'TON', 'HBAR', 'DOT', 'NEAR', 'ICP', 'POL', 'ATOM', 'ARB', 'FTM']\n",
    "\n",
    "show_chain_comparison_chart(chain_tickers)"
   ],
   "id": "40c338f418067f00",
   "outputs": [],
   "execution_count": 31
  }
 ],
 "metadata": {
  "kernelspec": {
   "display_name": "Python 3 (ipykernel)",
   "language": "python",
   "name": "python3"
  },
  "language_info": {
   "codemirror_mode": {
    "name": "ipython",
    "version": 3
   },
   "file_extension": ".py",
   "mimetype": "text/x-python",
   "name": "python",
   "nbconvert_exporter": "python",
   "pygments_lexer": "ipython3",
   "version": "3.13.2"
  }
 },
 "nbformat": 4,
 "nbformat_minor": 5
}
